{
 "nbformat": 4,
 "nbformat_minor": 2,
 "metadata": {
  "language_info": {
   "name": "python",
   "codemirror_mode": {
    "name": "ipython",
    "version": 3
   },
   "version": "3.8.2-final"
  },
  "orig_nbformat": 2,
  "file_extension": ".py",
  "mimetype": "text/x-python",
  "name": "python",
  "npconvert_exporter": "python",
  "pygments_lexer": "ipython3",
  "version": 3,
  "kernelspec": {
   "name": "python38232bit9c641f5f951347bcbc320b89c7f2cb6d",
   "display_name": "Python 3.8.2 32-bit"
  }
 },
 "cells": [
  {
   "cell_type": "code",
   "execution_count": 2,
   "metadata": {},
   "outputs": [
    {
     "name": "stdout",
     "output_type": "stream",
     "text": "Enhorabuena, nombre correcto.\n"
    }
   ],
   "source": [
    "#Validar nombre de usuarios\n",
    "\n",
    "\"\"\"\n",
    "El objetivo de este ejercicio es crear una función que valide un nombre de usuario para que cumpla las siguientes condiciones:\n",
    "\n",
    "El nombre de usuario debe contener un mínimo de 6 caracteres y un máximo de 12.\n",
    "El nombre de usuario debe ser alfanumérico.\n",
    "\"\"\"\n",
    "\n",
    "nombre = input(\"Introuduce un nombre válido\")\n",
    "\n",
    "def comprobar_nombre(nombre):\n",
    "    if len(nombre)<6:\n",
    "        print(\"Este nombre es muy corto.\")\n",
    "        return False\n",
    "    elif len(nombre)>12:\n",
    "        print(\"Este nombre es muy largo.\")\n",
    "        return False\n",
    "    elif nombre.isalnum() == False:\n",
    "        print(\"Este nombre no es alfanumérico\")\n",
    "    else:\n",
    "        return True\n",
    "\n",
    "while comprobar_nombre(nombre)!=True:\n",
    "    nombre = input(\"Vuelve a introducir un nombre\")\n",
    "\n",
    "print(\"Enhorabuena, nombre correcto.\")\n"
   ]
  },
  {
   "cell_type": "code",
   "execution_count": 3,
   "metadata": {},
   "outputs": [
    {
     "name": "stdout",
     "output_type": "stream",
     "text": "No se ha encontrado el valor\n"
    },
    {
     "data": {
      "text/plain": "False"
     },
     "execution_count": 3,
     "metadata": {},
     "output_type": "execute_result"
    }
   ],
   "source": [
    "#Listas superpuestas\n",
    "\n",
    "#Escribe una función que tome como parámetros dos listas y devuelva True si tienen al menos un miembro en común, y False en caso contrario.\n",
    "\n",
    "lista1 = [1, 3, 5, 8]\n",
    "lista2 = ['hola', 4, 6, 12]\n",
    "\n",
    "def comprobar_valor(lista1, lista2):\n",
    "    existe = False\n",
    "    for l in lista1:\n",
    "        if l in lista2:\n",
    "            existe=True\n",
    "            break\n",
    "    if existe==True:\n",
    "        print(\"Valor repetido en la lista\")\n",
    "        return True\n",
    "    else:\n",
    "        print(\"No se ha encontrado el valor\")\n",
    "        return False\n",
    "\n",
    "comprobar_valor(lista1, lista2)\n"
   ]
  },
  {
   "cell_type": "code",
   "execution_count": 4,
   "metadata": {},
   "outputs": [
    {
     "name": "stdout",
     "output_type": "stream",
     "text": "La distancia de Hamming es de 2\n"
    }
   ],
   "source": [
    "#Distancia de Hamming\n",
    "\n",
    "#El objetivo de este ejercicio es escribir una función que calcule la distancia de Hamming entre dos cadenas de la misma longitud. La distancia de Hamming es el número de carácteres diferentes entre dos cadenas.\n",
    "\n",
    "cadena1 = 'casa'\n",
    "cadena2 = 'mapa'\n",
    "\n",
    "def distancia_Hamming(cadena1, cadena2):\n",
    "    contador = 0\n",
    "    if len(cadena1) == len(cadena2):\n",
    "        for c in range(len(cadena1)):\n",
    "            if cadena1[c] != cadena2[c]:\n",
    "                contador+=1\n",
    "        print(f\"La distancia de Hamming es de {contador}\")        \n",
    "    else:\n",
    "        print(\"La distancia de las cadenas no es la misma.\")\n",
    "    \n",
    "distancia_Hamming(cadena1, cadena2) "
   ]
  },
  {
   "cell_type": "code",
   "execution_count": 5,
   "metadata": {},
   "outputs": [
    {
     "name": "stdout",
     "output_type": "stream",
     "text": "La lista con elementos sin duplicar es [2, 7, 8, 5, 'cualquier dato']\n"
    }
   ],
   "source": [
    "#Eliminar duplicados\n",
    "\n",
    "#Crea una función que dada una lista cualquiera, devuelva una copia de esta lista eliminando los elementos duplicados.\n",
    "\n",
    "lista = [2, 5, 7, 8, 5, 'cualquier dato']\n",
    "\n",
    "def eliminar_duplicados(lista):\n",
    "    for l in range(len(lista)):\n",
    "        aux = lista[l]\n",
    "        if lista.count(aux)>1:\n",
    "            lista.pop(l)\n",
    "            break\n",
    "\n",
    "    print(f'La lista con elementos sin duplicar es {lista}')\n",
    "\n",
    "eliminar_duplicados(lista)"
   ]
  },
  {
   "cell_type": "code",
   "execution_count": 6,
   "metadata": {},
   "outputs": [
    {
     "name": "stdout",
     "output_type": "stream",
     "text": "Hay un total de 23 gallinas y 12 conejos\n"
    }
   ],
   "source": [
    "#Problema chino\n",
    "\n",
    "#Contamos 35 cabezas y 94 patas entre gallinas y conejos en una granja, ¿cuántos conejos y cuantas gallinas tenemos?\n",
    "\n",
    "cabezas = 35\n",
    "patas = 94\n",
    "\n",
    "def problema_chino(cabezas, patas):\n",
    "    gallinas = (patas-(cabezas*4))//-2\n",
    "    conejos = cabezas-gallinas\n",
    "\n",
    "    print(f'Hay un total de {gallinas} gallinas y {conejos} conejos')\n",
    "\n",
    "problema_chino(cabezas, patas)"
   ]
  },
  {
   "cell_type": "code",
   "execution_count": 8,
   "metadata": {},
   "outputs": [
    {
     "name": "stdout",
     "output_type": "stream",
     "text": "El dado número 1 ha dado como resultado 22\nEl dado número 2 ha dado como resultado 4\nEl dado número 3 ha dado como resultado 15\nEl dado número 4 ha dado como resultado 13\nEl dado número 5 ha dado como resultado 23\nEl dado número 6 ha dado como resultado 9\nEl dado número 7 ha dado como resultado 7\nEl dado número 8 ha dado como resultado 16\nEl dado número 9 ha dado como resultado 14\nEl dado número 10 ha dado como resultado 2\nEl dado número 11 ha dado como resultado 4\nEl dado número 12 ha dado como resultado 3\nEl dado número 1 ha dado como resultado 4\nEl dado número 2 ha dado como resultado 8\nEl dado número 3 ha dado como resultado 18\nEl dado número 4 ha dado como resultado 1\nEl dado número 5 ha dado como resultado 14\nEl dado número 6 ha dado como resultado 9\nEl dado número 7 ha dado como resultado 9\nEl dado número 8 ha dado como resultado 13\nEl dado número 9 ha dado como resultado 12\nEl dado número 10 ha dado como resultado 14\nEl dado número 11 ha dado como resultado 21\nEl dado número 12 ha dado como resultado 1\n"
    }
   ],
   "source": [
    "#Lanzador de dados\n",
    "\n",
    "#Antes de hacer este ejercicio, vamos a introducir el módulo de números aleatorios de Python. Pronto veremos más detalles sobre como funcionan los módulos, pero para empezar, así es como se genera un número entero aleatorio en Python.\n",
    "\n",
    "import random\n",
    "\n",
    "random.randint(1, 6)  # Número aleatorio entre 1 y 6\n",
    "\n",
    "\"\"\"\n",
    "Existen diferentes tipos de dados, según el número de caras de estos. De 4, de 6, de 8, de 10, de 12 y de 20 caras. En juegos que utilizan estos dados, se usa una notación concreta para decir cuandos datos hay que lanzar y de que tipo:\n",
    "\n",
    "\"1d6\" para indicar un dado de 6 caras\n",
    "\"3d4\" para lanzar 3 dados de 4 caras\n",
    "y en general \"ndm\" para indicar que se lanzan n dados de m caras\n",
    "El objetivo de este ejercicio es crear una función que reciba como argumento una cadena de texto, y que devuelva una lista con cada uno de los resultados que se hayan obtenido en los lanzamientos de dados.\n",
    "\"\"\"\n",
    "\n",
    "lanzamiento = '12d23'\n",
    "\n",
    "def lanzar_dado(lanzamiento):\n",
    "    dados = int(lanzamiento.split('d')[0])\n",
    "    caras = int(lanzamiento.split('d')[1])\n",
    "\n",
    "    for d in range(dados):\n",
    "        numero = random.randint(1, caras)\n",
    "        d+=1\n",
    "        print(f'El dado número {d} ha dado como resultado {numero}')\n",
    "\n",
    "lanzar_dado(lanzamiento)         "
   ]
  },
  {
   "cell_type": "code",
   "execution_count": 2,
   "metadata": {},
   "outputs": [
    {
     "name": "stdout",
     "output_type": "stream",
     "text": "El resultado como leet speak es: `//\nEl resultado como cadena es: W\n"
    }
   ],
   "source": [
    "#Traductor de leet speak\n",
    "\n",
    "\"\"\"\n",
    "Leet speak o leet (1337 5p34k o 1337 en la escritura leet) es un tipo de escritura compuesta de caracteres alfanuméricos, es usada por algunas comunidades y usuarios de diferentes medios de internet. Esta escritura es caracterizada por escribir caracteres alfanuméricos de una forma incomprensible para otros usuarios ajenos, inexpertos o neófitos a los diferentes grupos que utilizan esta escritura.\n",
    "\n",
    "El objetivo de este ejercicio es implementar una función que reciba una cadena de texto y la traduzca a leet speak a normal, y otra que de normal pase leet speak, usando la siguiente tabla de conversión:\n",
    "\n",
    "A -> 4\n",
    "B -> 6\n",
    "E -> 3\n",
    "I -> |\n",
    "L -> 1\n",
    "M -> (V)\n",
    "N -> (\\)\n",
    "O -> 0\n",
    "S -> 5\n",
    "T -> 7\n",
    "V -> \\/\n",
    "W -> `//\n",
    "\"\"\"\n",
    "reglas = {'A' : '4', 'B' : '6', 'E' : '3', 'I' : '|', 'L' : '1', 'M' : '(V)', 'N' : '(\\)', 'O' : '0', 'S' : '5', 'T' : '7', 'V' : '\\/', 'W' : '`//',}\n",
    "\n",
    "cadena=input(\"Introduce una cadena de texto: \").upper()\n",
    "leet=input(\"Introduce un texto en leet speak: \").upper()\n",
    "\n",
    "def de_cadena_leet(cadena):\n",
    "    for c in cadena:\n",
    "        if c in reglas:\n",
    "            cadena = cadena.replace(c, reglas[c])\n",
    "    print(f'El resultado como leet speak es: {cadena}')\n",
    "\n",
    "def de_leet_cadena(leet):\n",
    "    if leet.count('(V)'):\n",
    "        leet = leet.replace('(V)', 'M')\n",
    "    if leet.count('(\\)'):\n",
    "        leet = leet.replace('(\\)', 'N')\n",
    "    if leet.count('\\/'):\n",
    "        leet = leet.replace('\\/', 'V')\n",
    "    if leet.count('`//'):\n",
    "        leet = leet.replace('`//', 'W')\n",
    "    \n",
    "    for l in leet:\n",
    "        for v in reglas:\n",
    "            if l in reglas[v]:\n",
    "                leet = leet.replace(l, v)\n",
    "    print(f'El resultado como cadena es: {leet}')\n",
    "\n",
    "de_cadena_leet(cadena)\n",
    "de_leet_cadena(leet)"
   ]
  },
  {
   "cell_type": "code",
   "execution_count": 463,
   "metadata": {},
   "outputs": [
    {
     "name": "stdout",
     "output_type": "stream",
     "text": "Bienvienido a enviar\nEl usuario Dani ha enviado el mensaje \"mensaje1\" correctamente\nBienvienido a enviar\nEl usuario Dani ha enviado el mensaje \"mensaje2\" correctamente\nLa \"id\" del mensaje es 0 y el mensaje es mensaje1\nLa \"id\" del mensaje es 1 y el mensaje es mensaje2\nBienvienido a listado\nBienvienido a leer\nEl mensaje mensaje1 del usuario Dani ha sido cambiado a visto.\nEl mensaje mensaje2 del usuario Dani ha sido cambiado a visto.\n"
    }
   ],
   "source": [
    "#Bandeja de entrada\n",
    "\n",
    "\"\"\"\n",
    "En este ejercicio vamos a crear una bandeja de entrada de mensajes enviados a usuarios, así como tres funciones, una para enviar mensajes, otra obtener los pendientes de leer y otra para leer un mensaje.\n",
    "\n",
    "Cada mensaje tendrá tres campos, origen (nombre del usuarios que lo envió), contenido, y si se ha leído o no\n",
    "Los usuarios se crean de forma dinámica al enviar un mensaje\n",
    "La función para enviar mensajes recibe el nombre del usuario que lo envía y el contenido\n",
    "La función para leer un mensaje muestra el contenido, quien lo envía lo marca como leído.\n",
    "La función para obtener el listado de los mensajes pendientes por leer para un usuario dado, sólo muestra los que no están leídos, un resumen del contenido del mensaje, y un identificador de este.\n",
    "\"\"\"\n",
    "\n",
    "opcion = False\n",
    "\n",
    "usuarios = []\n",
    "contenidos = []\n",
    "leidos = []\n",
    "\n",
    "while(opcion==False):\n",
    "    datos = input(\"Introduce una acción que quieres realizar: \")\n",
    "\n",
    "    if datos == 'enviar':\n",
    "        print('Bienvienido a enviar')\n",
    "        usuario = input(\"Introduce un nombre de usuario: \")\n",
    "        contenido = input(\"Introduce un mensaje: \")\n",
    "        enviar(usuario, contenido)\n",
    "\n",
    "    elif datos == 'leer':\n",
    "        print('Bienvienido a leer')\n",
    "        leer_mensajes()\n",
    "    elif datos == 'listado':\n",
    "        usuario = input(\"Introduce un nombre de usuario del que desees ver los mensajes pendientes: \")\n",
    "        listado_mensajes(usuario)\n",
    "        print('Bienvienido a listado')\n",
    "    elif datos == 'salir':\n",
    "        opcion == False\n",
    "        break\n",
    "    else:\n",
    "        print(\"Esta opción no es válida\")\n",
    "\n",
    "\n",
    "def enviar(usuario, contenido):   \n",
    "    usuarios.append(usuario)\n",
    "    contenidos.append(contenido)\n",
    "    leidos.append(False)\n",
    "\n",
    "    print(f'El usuario {usuario} ha enviado el mensaje \"{contenido}\" correctamente')\n",
    "\n",
    "\n",
    "def listado_mensajes(usuario):\n",
    "    for c in range(len(contenidos)):\n",
    "        if usuario == usuarios[c] and leidos[c] is False:\n",
    "            print(f'La \"id\" del mensaje es {str(c)} y el mensaje es {contenidos[c]}')\n",
    "\n",
    "\n",
    "def leer_mensajes():\n",
    "    for c in range(len(contenidos)):\n",
    "        leidos[c] = True\n",
    "        print(f'El mensaje {contenidos[c]} del usuario {usuarios[c]} ha sido cambiado a visto.')\n",
    "\n"
   ]
  },
  {
   "cell_type": "code",
   "execution_count": null,
   "metadata": {},
   "outputs": [],
   "source": []
  }
 ]
}