{
 "nbformat": 4,
 "nbformat_minor": 2,
 "metadata": {
  "language_info": {
   "name": "python",
   "codemirror_mode": {
    "name": "ipython",
    "version": 3
   },
   "version": "3.8.2-final"
  },
  "orig_nbformat": 2,
  "file_extension": ".py",
  "mimetype": "text/x-python",
  "name": "python",
  "npconvert_exporter": "python",
  "pygments_lexer": "ipython3",
  "version": 3,
  "kernelspec": {
   "name": "python38232bit9c641f5f951347bcbc320b89c7f2cb6d",
   "display_name": "Python 3.8.2 32-bit"
  }
 },
 "cells": [
  {
   "cell_type": "code",
   "execution_count": 3,
   "metadata": {},
   "outputs": [
    {
     "name": "stdout",
     "output_type": "stream",
     "text": "Texto de prueba\n"
    },
    {
     "data": {
      "text/plain": "True"
     },
     "execution_count": 3,
     "metadata": {},
     "output_type": "execute_result"
    }
   ],
   "source": [
    "with open('texto.txt') as f:\n",
    "    read_data = f.read()\n",
    "    print(read_data)\n",
    "f.closed"
   ]
  },
  {
   "cell_type": "code",
   "execution_count": 12,
   "metadata": {},
   "outputs": [
    {
     "name": "stdout",
     "output_type": "stream",
     "text": "1 1 2 3 5 8 13 21 34 55 89 144 233 377 610 987 \n"
    },
    {
     "data": {
      "text/plain": "'fibo'"
     },
     "execution_count": 12,
     "metadata": {},
     "output_type": "execute_result"
    }
   ],
   "source": [
    "import fibo\n",
    "fibo.fib(1000)\n",
    "fibo.fib2(100)\n",
    "fibo.__name__"
   ]
  },
  {
   "cell_type": "code",
   "execution_count": 13,
   "metadata": {},
   "outputs": [
    {
     "name": "stdout",
     "output_type": "stream",
     "text": "1 1 2 3 5 8 13 21 34 55 89 144 233 377 \n"
    }
   ],
   "source": [
    "#importar módulos\n",
    "\n",
    "from fibo import fib, fib2\n",
    "fib(500)"
   ]
  },
  {
   "cell_type": "code",
   "execution_count": 20,
   "metadata": {},
   "outputs": [
    {
     "name": "stdout",
     "output_type": "stream",
     "text": "1\n2\n3\n3\n[1, 2, 3]\n[1, 2, 3, 4]\n"
    }
   ],
   "source": [
    "class Dummy:\n",
    "    def __init__(self, value):\n",
    "        self.value = value\n",
    "\n",
    "def modify_dummy(obj, value):\n",
    "    obj.value = value\n",
    "\n",
    "def modify_var(var, value):\n",
    "    var = value\n",
    "\n",
    "def modify_list(l, value):\n",
    "    l.append(value)\n",
    "\n",
    "dummy = Dummy(1)\n",
    "print(dummy.value)\n",
    "modify_dummy(dummy, 2)\n",
    "print(dummy.value)\n",
    "\n",
    "var = 3\n",
    "print(var)\n",
    "modify_var(var, 4)\n",
    "print(var)\n",
    "\n",
    "\n",
    "some_list = [1, 2, 3]\n",
    "print(some_list)\n",
    "modify_list(some_list, 4)\n",
    "print(some_list)"
   ]
  },
  {
   "cell_type": "code",
   "execution_count": 21,
   "metadata": {},
   "outputs": [
    {
     "name": "stdout",
     "output_type": "stream",
     "text": "Después de la asignación local: test spam\nDespués de la asignación nonocal: nonlocal spam\nDespués de la asignación global: nonlocal spam\nEn el scope global: global spam\n"
    }
   ],
   "source": [
    "def scope_test():\n",
    "    def do_local():\n",
    "        spam = \"local spam\"\n",
    "\n",
    "    def do_nonlocal():\n",
    "        nonlocal spam\n",
    "        spam = \"nonlocal spam\"\n",
    "\n",
    "    def do_global():\n",
    "        global spam\n",
    "        spam = \"global spam\"\n",
    "\n",
    "    spam = \"test spam\"\n",
    "    do_local()\n",
    "    print(\"Después de la asignación local:\", spam)\n",
    "    do_nonlocal()\n",
    "    print(\"Después de la asignación nonocal:\", spam)\n",
    "    do_global()\n",
    "    print(\"Después de la asignación global:\", spam)\n",
    "\n",
    "scope_test()\n",
    "print(\"En el scope global:\", spam)"
   ]
  },
  {
   "cell_type": "code",
   "execution_count": 29,
   "metadata": {},
   "outputs": [
    {
     "name": "stdout",
     "output_type": "stream",
     "text": "12345\n<function MyClass.f at 0x00B92190>\n12345\nhello world\n"
    }
   ],
   "source": [
    "class MyClass:\n",
    "    \"\"\"A simple example class\"\"\"\n",
    "    i = 12345\n",
    "\n",
    "    def f(self):\n",
    "        return 'hello world'\n",
    "\n",
    "print(MyClass.i)\n",
    "print(MyClass.f)\n",
    "\n",
    "x=MyClass()\n",
    "print(x.i)\n",
    "print(x.f())"
   ]
  },
  {
   "cell_type": "code",
   "execution_count": null,
   "metadata": {},
   "outputs": [],
   "source": [
    "class MyClass:\n",
    "    def __init__(self):\n",
    "        self.data = []\n",
    "    def size(self):\n",
    "    return len(self.data)\n",
    "\n",
    "\n",
    "x = MyClass()  # al llamar a __init__, self hace referencia a la intancia recien creada que se asociará al nombre x\n",
    "x.data.append(\"a\")\n",
    "y = MyClass()  # y tendrá una nueva lista vacía en data\n",
    "print(x.size())  # muestra 1\n",
    "print(y.size())  # muestra 0"
   ]
  },
  {
   "cell_type": "code",
   "execution_count": 37,
   "metadata": {},
   "outputs": [
    {
     "name": "stdout",
     "output_type": "stream",
     "text": "42\n"
    }
   ],
   "source": [
    "#A una clase se le pueden añadir nuevos atributos de forma dinámica\n",
    "x = MyClass()\n",
    "x.value = 42\n",
    "print(x.value)  # muestra 42"
   ]
  },
  {
   "cell_type": "code",
   "execution_count": 38,
   "metadata": {},
   "outputs": [
    {
     "name": "stdout",
     "output_type": "stream",
     "text": "Soy estático!\nSoy un nuevo atributo de clase!\n"
    }
   ],
   "source": [
    "class MyClass:\n",
    "\n",
    "    def __init__(self):\n",
    "        self.data = []\n",
    "\n",
    "    @staticmethod\n",
    "    def some_static_stuff():\n",
    "        print(\"Soy estático!\")\n",
    "\n",
    "    @classmethod\n",
    "    def some_class_stuff(cls):\n",
    "        cls.class_attribute = \"Soy un nuevo atributo de clase!\"\n",
    "\n",
    "MyClass.some_static_stuff()\n",
    "MyClass.some_class_stuff()\n",
    "print(MyClass.class_attribute)"
   ]
  },
  {
   "cell_type": "code",
   "execution_count": null,
   "metadata": {},
   "outputs": [],
   "source": [
    "class Mapping:\n",
    "    def __init__(self, iterable):\n",
    "        self.items_list = []\n",
    "        self.__update(iterable)\n",
    "\n",
    "    def update(self, iterable):\n",
    "        for item in iterable:\n",
    "            self.items_list.append(item)\n",
    "    \n",
    "    __update = update\n",
    "\n",
    "class MappingSubclass(Mapping):\n",
    "\n",
    "    def update(self, keys, values):\n",
    "        # proporciona un nuevo método update, con parámetros distintos\n",
    "        # pero no rompe la implementación de __init__()\n",
    "        for item in zip(keys, values):\n",
    "            self.items_list.append(item)\n",
    "\n",
    "    __update = update\n",
    "    \n",
    "\n",
    "Mapping.__dict__"
   ]
  },
  {
   "cell_type": "code",
   "execution_count": 87,
   "metadata": {},
   "outputs": [
    {
     "name": "stdout",
     "output_type": "stream",
     "text": "El coche está en marcha\nEl coche tiene  4\n-----------------A CONTINUACIÓN CREAMOS EL SEGUNDO OBJETO------------------------\nEl coche está parado\nEl coche tiene  4\n"
    }
   ],
   "source": [
    "class Coche():\n",
    "    \n",
    "    def __init__(self):\n",
    "        self.__largoChasis = 250\n",
    "        self.__ruedas = 4\n",
    "        self.__enmarcha=False\n",
    "\n",
    "\n",
    "    def arrancar(self, arrancamos):\n",
    "        self.enmarcha = arrancamos\n",
    "\n",
    "        if(self.enmarcha) == True:\n",
    "            return \"El coche está en marcha\"\n",
    "\n",
    "        else:\n",
    "            return \"El coche está parado\"\n",
    "\n",
    "    def estado(self):\n",
    "        print(\"El coche tiene \", self.__ruedas)\n",
    "    \n",
    "c = Coche()\n",
    "\n",
    "print(c.arrancar(True))\n",
    "c.estado()\n",
    "\n",
    "\n",
    "print(\"-----------------A CONTINUACIÓN CREAMOS EL SEGUNDO OBJETO------------------------\")\n",
    "\n",
    "\n",
    "\n",
    "c2 = Coche()\n",
    "\n",
    "print(c2.arrancar(False))\n",
    "\n",
    "#Las ruedas al ser __ruedas no se puede modificar desde fuera\n",
    "c.ruedas=5\n",
    "c.estado()"
   ]
  },
  {
   "cell_type": "code",
   "execution_count": null,
   "metadata": {},
   "outputs": [],
   "source": []
  }
 ]
}