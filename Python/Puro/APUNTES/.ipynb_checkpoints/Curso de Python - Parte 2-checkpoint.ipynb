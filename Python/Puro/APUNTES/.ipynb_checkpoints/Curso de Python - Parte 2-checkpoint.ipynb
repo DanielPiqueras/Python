{
 "cells": [
  {
   "cell_type": "markdown",
   "metadata": {
    "slideshow": {
     "slide_type": "slide"
    }
   },
   "source": [
    "# Curso de Python - Parte 2"
   ]
  },
  {
   "cell_type": "markdown",
   "metadata": {
    "slideshow": {
     "slide_type": "slide"
    }
   },
   "source": [
    "## 8. Ficheros y entrada/salida, apertura de ficheros e introducción de contextos."
   ]
  },
  {
   "cell_type": "markdown",
   "metadata": {
    "slideshow": {
     "slide_type": "fragment"
    }
   },
   "source": [
    "Para abrir un fichero usamos la función `open()`, que tiene como parámetros el nombre y ruta del fichero y el modo de apertura, una serie de caracteres que definen como se va a usar el fichero abierto.\n",
    "\n",
    "```python\n",
    ">>> f = open('workfile', 'w')\n",
    "```"
   ]
  },
  {
   "cell_type": "markdown",
   "metadata": {
    "slideshow": {
     "slide_type": "fragment"
    }
   },
   "source": [
    "- `r` para solo lectura\n",
    "- `w` para solo escritura, siendo borrado cualquier fichero que ya existiera\n",
    "- `a` para añadir contenido al final del fichero\n",
    "- `r+` para lectura y escritura"
   ]
  },
  {
   "cell_type": "markdown",
   "metadata": {
    "slideshow": {
     "slide_type": "slide"
    }
   },
   "source": [
    "Por defecto, si se omite el modo, se asume que es `r`. \n",
    "\n",
    "Además, también por defecto, un fichero se abre en modo texto, lo que significa que lee el contenido como cadenas de texto, aplicando transformaciones que dependen de la plataforma, como es la conversión de los salos de líneas, entre los formatos de Unix o de Windows, aplicando esta transformación tanto a la lectura como a la escritura.\n"
   ]
  },
  {
   "cell_type": "markdown",
   "metadata": {
    "slideshow": {
     "slide_type": "slide"
    }
   },
   "source": [
    "Para abrir en modo **binario** añadimos `b` al final de la cadena de texto que indica el modo."
   ]
  },
  {
   "cell_type": "markdown",
   "metadata": {
    "slideshow": {
     "slide_type": "slide"
    }
   },
   "source": [
    "La función `open` devuelve un descriptor que apunta al fichero, no el contenido. Una vez se deja de usar se tiene que llamar al método `f.close()` del descriptor para cerrar el fichero.\n"
   ]
  },
  {
   "cell_type": "markdown",
   "metadata": {
    "slideshow": {
     "slide_type": "slide"
    }
   },
   "source": [
    "Una buena práctica, para evitar la necesidad de cerrar el descriptor, es usar la palabra reservada `with`. Esto crea lo que se define en Python como un **contexto**.\n",
    "\n",
    "```python\n",
    ">>> with open('workfile') as f:\n",
    "...     read_data = f.read()\n",
    ">>> f.closed\n",
    "True\n",
    "```\n",
    "\n",
    "En este ejemplo, la variable `f` solo existe en el bloque que se ejecuta dentro del `with`, y se llama a `f.close()` una vez que la ejecución sale del bloque."
   ]
  },
  {
   "cell_type": "markdown",
   "metadata": {
    "slideshow": {
     "slide_type": "slide"
    }
   },
   "source": [
    "### Lectura de contenido"
   ]
  },
  {
   "cell_type": "markdown",
   "metadata": {
    "slideshow": {
     "slide_type": "subslide"
    }
   },
   "source": [
    "#### Método `read(size)`\n",
    "\n",
    "Lee la cantidad de información del fichero indicada en el parámetro size. Si se omite, lee todo el contenido del fichero.\n"
   ]
  },
  {
   "cell_type": "markdown",
   "metadata": {
    "slideshow": {
     "slide_type": "subslide"
    }
   },
   "source": [
    "#### Método `readline()`\n",
    "\n",
    "Cada vez que se llama, lee la siguiente linea del fichero, es decir, hasta el siguiente salto de línea.\n",
    "\n",
    "Para iterar sobre las líneas de un fichero, es más eficiente hacerlo directamente sobre el descriptor del fichero.\n",
    "\n",
    "```python\n",
    ">>> for line in f:\n",
    "...     print(line, end='')\n",
    "...\n",
    "This is the first line of the file.\n",
    "Second line of the file\n",
    "```\n",
    "\n",
    "Puedes leer todas las lineas de un fichero y pasarlas a una lista con `list(f)` o `f.readlines()`."
   ]
  },
  {
   "cell_type": "markdown",
   "metadata": {
    "slideshow": {
     "slide_type": "slide"
    }
   },
   "source": [
    "### Escritura de contenido"
   ]
  },
  {
   "cell_type": "markdown",
   "metadata": {
    "slideshow": {
     "slide_type": "subslide"
    }
   },
   "source": [
    "#### Método `write(string)`\n",
    "\n",
    "El método `write(string)` escribe el contenido de string en el fichero, devolviendo el número de caracteres escritos."
   ]
  },
  {
   "cell_type": "markdown",
   "metadata": {
    "slideshow": {
     "slide_type": "slide"
    }
   },
   "source": [
    "### Moverse por el fichero\n",
    "\n",
    "El método `f.tell()` devuelve un entero con la posición en la que nos encontramos en el fichero, representado por el número de bytes desde el comienzo, cuando se abre en modo binario.\n",
    "\n",
    "Con el método `f.seek(offset, from_what)` nos podemos desplazar por el fichero. La posición a la que nos movemos se calcula añadiendo lo indicado en el offset a la posición refernciada en from_what, que es 0 para el comienzo del fichero, 1 para la posición actual del descriptor y 2 para el final del fichero.\n"
   ]
  },
  {
   "cell_type": "markdown",
   "metadata": {
    "slideshow": {
     "slide_type": "slide"
    }
   },
   "source": [
    "## 9. Módulos y paquetes, organización del código en el proyecto con paquetes y módulos y como importar funciones."
   ]
  },
  {
   "cell_type": "markdown",
   "metadata": {
    "slideshow": {
     "slide_type": "fragment"
    }
   },
   "source": [
    "Hasta ahora, cuando salimos del interprete y volvemos a entrar, todas las definiciones y declaraciones que hemos realizado se pierden. Para escribir cualquier programa que vaya más allá de lo que el uso puntual del interprete requiera, debemos escribirlo en un fichero de texto con la extensión `.py`."
   ]
  },
  {
   "cell_type": "markdown",
   "metadata": {
    "slideshow": {
     "slide_type": "slide"
    }
   },
   "source": [
    "El interprete de Python tratara cada uno de estos ficheros como un módulo, `module`. Cada definición de nombres, variables, funciones, etc. que contenga un módulo puede ser importado a otro módulo y ser usado en este."
   ]
  },
  {
   "cell_type": "markdown",
   "metadata": {
    "slideshow": {
     "slide_type": "slide"
    }
   },
   "source": [
    "Por ejemplo, si tenemos el siguiente fichero, `fibo.py`:"
   ]
  },
  {
   "cell_type": "markdown",
   "metadata": {
    "slideshow": {
     "slide_type": "fragment"
    }
   },
   "source": [
    "```python\n",
    "# Módulo números de Fibonacci\n",
    "\n",
    "\n",
    "def fib(n):\n",
    "    a, b = 0, 1\n",
    "    while b < n:\n",
    "        print(b, end=' ')\n",
    "        a, b = b, a+b\n",
    "    print()\n",
    "\n",
    "        \n",
    "def fib2(n):\n",
    "    result = []\n",
    "    a, b = 0, 1\n",
    "    while b < n:\n",
    "        result.append(b)\n",
    "        a, b = b, a+b\n",
    "    return result\n",
    "```"
   ]
  },
  {
   "cell_type": "markdown",
   "metadata": {
    "slideshow": {
     "slide_type": "slide"
    }
   },
   "source": [
    "- Podemos importar estas funciones en el intérprete o en cualquier otro módulo.\n",
    "- Cada módulo define una variable global `__name__`, que contiene el nombre del módulo.\n",
    "\n",
    "```python\n",
    ">>> import fibo\n",
    ">>> fibo.fib(1000)\n",
    "1 1 2 3 5 8 13 21 34 55 89 144 233 377 610 987\n",
    ">>> fibo.fib2(100)\n",
    "[1, 1, 2, 3, 5, 8, 13, 21, 34, 55, 89]\n",
    ">>> fibo.__name__\n",
    "'fibo'\n",
    "```"
   ]
  },
  {
   "cell_type": "markdown",
   "metadata": {
    "slideshow": {
     "slide_type": "slide"
    }
   },
   "source": [
    "Un módulo puede tener instrucciones además de definiciones. Estas instrucciones suelen tener como objetivo inicializar el módulo, y **sólo se ejecutarán la primera vez que se hace un `import` del módulo**. También se ejecutan cuando el fichero de módulo se ejecuta como un script."
   ]
  },
  {
   "cell_type": "markdown",
   "metadata": {
    "slideshow": {
     "slide_type": "slide"
    }
   },
   "source": [
    "Todo módulo tiene su propia tabla de símbolos, por lo que cualquiera puede usar variables globales sin preocuparse de que estas colisionen entre módulos.\n"
   ]
  },
  {
   "cell_type": "markdown",
   "metadata": {
    "slideshow": {
     "slide_type": "slide"
    }
   },
   "source": [
    "Se pueden importar nombres desde un módulo directamente a la tabla de nombres de otro módulo.\n",
    "\n",
    "```python\n",
    ">>> from fibo import fib, fib2\n",
    ">>> fib(500)\n",
    "1 1 2 3 5 8 13 21 34 55 89 144 233 377\n",
    "```"
   ]
  },
  {
   "cell_type": "markdown",
   "metadata": {
    "slideshow": {
     "slide_type": "slide"
    }
   },
   "source": [
    "Y también se pueden importar todos los nombres que define un módulo.\n",
    "\n",
    "```python\n",
    ">>> from fibo import *\n",
    ">>> fib(500)\n",
    "1 1 2 3 5 8 13 21 34 55 89 144 233 377\n",
    "```\n",
    "\n",
    "Esto importa todos los nombres excepto los que empiezan por `_`."
   ]
  },
  {
   "cell_type": "markdown",
   "metadata": {
    "slideshow": {
     "slide_type": "slide"
    }
   },
   "source": [
    "### Ejecutar módulos como scripts\n",
    "\n",
    "Puedes ejecutar cualquier módulo usando el comando de `python`.\n",
    "\n",
    "```\n",
    "$ python fibo.py\n",
    "```\n",
    "\n",
    "Si el código del módulo se ejecuta de esta forma, entonces la variable `__name__` del módulo toma el valor de `__main__`, lo que significa que podemos diferenciar que parte del modulo se ejecutará cuando se importa y cuando se ejecuta como script.\n",
    "\n",
    "```python\n",
    "if __name__ == \"__main__\":\n",
    "    # Sólo ejecuta esto cuando es un script\n",
    "    pass \n",
    "```"
   ]
  },
  {
   "cell_type": "markdown",
   "metadata": {
    "slideshow": {
     "slide_type": "slide"
    }
   },
   "source": [
    "### Paquetes\n",
    "\n",
    "Los paquetes o *packages* de Python son una forma de estructurar los módulos de Python. \n",
    "\n",
    "Se considera un package cualquier carpeta que tenga un fichero llamado `__init__.py`. Este fichero puede estar vacío, pero también puede incluir código para inicializar el paquete. Un paquete puede a su vez contener, o no, uno o varios módulos."
   ]
  },
  {
   "cell_type": "markdown",
   "metadata": {
    "slideshow": {
     "slide_type": "slide"
    }
   },
   "source": [
    "```\n",
    "sound/                          \n",
    "      __init__.py               \n",
    "      formats/                  \n",
    "              __init__.py\n",
    "              wavread.py\n",
    "              wavwrite.py\n",
    "              aiffread.py\n",
    "              aiffwrite.py\n",
    "              auread.py\n",
    "              auwrite.py\n",
    "              ...\n",
    "      effects/                  \n",
    "              __init__.py\n",
    "              echo.py\n",
    "              surround.py\n",
    "              reverse.py\n",
    "              ...\n",
    "      filters/                  \n",
    "              __init__.py\n",
    "              equalizer.py\n",
    "              vocoder.py\n",
    "              karaoke.py\n",
    "              ...\n",
    "```"
   ]
  },
  {
   "cell_type": "markdown",
   "metadata": {
    "slideshow": {
     "slide_type": "slide"
    }
   },
   "source": [
    "Si se intenta hacer un `from sound.effects import *` cabría esperar que esto importara todos los nombres definidos en todos los módulos de dentro del paquete y sus sub-paquetes, pero sería muy costoso, por que se sigue la convención de que el autor de un paquete declare la variable `__all__` como una lista de nombres de los módulos que se importarán cuando se use el * para importar todo."
   ]
  },
  {
   "cell_type": "markdown",
   "metadata": {
    "slideshow": {
     "slide_type": "slide"
    }
   },
   "source": [
    "## 10. Programación orientada a objetos"
   ]
  },
  {
   "cell_type": "markdown",
   "metadata": {
    "slideshow": {
     "slide_type": "fragment"
    }
   },
   "source": [
    "Las clases son un medio que nos permite juntar datos con funcionalidad. Cuando creas una nueva clase estás creando un nuevo tipo de objeto, permitiendo que puedan crear nuevas instancias de este. Cada clase puede tener:\n",
    "\n",
    "- Atributos, que mantienen su estado, y\n",
    "- métodos, definidos en las clases, que permiten modificar el estado."
   ]
  },
  {
   "cell_type": "markdown",
   "metadata": {
    "slideshow": {
     "slide_type": "slide"
    }
   },
   "source": [
    "### Nombres y objetos\n",
    "\n",
    "Un objeto puede tener diferentes nombres en diferentes lugares del programa. Esto es debido a que, como comentábamos al principio, Python internamente, cuando asignamos un valora una variable, estamos en realidad asociando un nombre a un objeto en concreto.\n"
   ]
  },
  {
   "cell_type": "markdown",
   "metadata": {
    "slideshow": {
     "slide_type": "slide"
    }
   },
   "source": [
    "Esto es similar al funcionamiento de los punteros en otros lenguajes de programación. Además, permite que pasar objetos a una función sea barato, ya que sólo se está pasando un \"puntero\" al objeto, de forma que si se modifica dentro de la función, el cambio se ve reflejado fuera.\n",
    "\n",
    "Esto se puede aplicar a todos los objetos, excepto a los tipos básicos inmutables, como los números, cadenas de texto y tuplas."
   ]
  },
  {
   "cell_type": "code",
   "execution_count": 1,
   "metadata": {
    "slideshow": {
     "slide_type": "slide"
    }
   },
   "outputs": [
    {
     "name": "stdout",
     "output_type": "stream",
     "text": [
      "1\n",
      "2\n",
      "3\n",
      "3\n",
      "[1, 2, 3]\n",
      "[1, 2, 3, 4]\n"
     ]
    }
   ],
   "source": [
    "class Dummy:\n",
    "    def __init__(self, value):\n",
    "        self.value = value\n",
    "\n",
    "def modify_dummy(obj, value):\n",
    "    obj.value = value\n",
    "\n",
    "def modify_var(var, value):\n",
    "    var = value\n",
    "\n",
    "def modify_list(l, value):\n",
    "    l.append(value)\n",
    "\n",
    "dummy = Dummy(1)\n",
    "print(dummy.value)\n",
    "modify_dummy(dummy, 2)\n",
    "print(dummy.value)\n",
    "\n",
    "var = 3\n",
    "print(var)\n",
    "modify_var(var, 4)\n",
    "print(var)\n",
    "\n",
    "\n",
    "some_list = [1, 2, 3]\n",
    "print(some_list)\n",
    "modify_list(some_list, 4)\n",
    "print(some_list)"
   ]
  },
  {
   "cell_type": "markdown",
   "metadata": {
    "slideshow": {
     "slide_type": "slide"
    }
   },
   "source": [
    "### Namespaces y scopes\n",
    "\n",
    "Antes de entrar en detalle en las clases, conviene entender como funcionan las reglas de alcance en Python, ya que las clases hacen uso de estos conceptos para funcionar."
   ]
  },
  {
   "cell_type": "markdown",
   "metadata": {
    "slideshow": {
     "slide_type": "slide"
    }
   },
   "source": [
    "Un **namespace** es un mapa que asocia nombres a objetos, implementado internamente usando diccionarios de Python. No existe ninguna relación entre los nombres definidos en diferentes **namespaces**."
   ]
  },
  {
   "cell_type": "markdown",
   "metadata": {
    "slideshow": {
     "slide_type": "slide"
    }
   },
   "source": [
    "Un **scope** es una región de un programa de Python desde donde un **namespace** se puede acceder directamente. En todo momento de la ejecución de un programa, hay siempre al menos tres **scopes** anidados:"
   ]
  },
  {
   "cell_type": "markdown",
   "metadata": {
    "slideshow": {
     "slide_type": "fragment"
    }
   },
   "source": [
    "1. El scope local, el más interno, que contiene las definiciones de los nombres locales.\n",
    "2. El scope de cualquier función dentro de la que estemos, empezando por la más interna a la más externa.\n",
    "3. El scope que contiene los nombres a nivel de módulo.\n",
    "4. El scope que contiene los nombres reservados del lenguaje.\n",
    "\n",
    "Hay formas de hacer referencia a scopes diferentes, usando `global` y `nonlocal`."
   ]
  },
  {
   "cell_type": "code",
   "execution_count": 2,
   "metadata": {
    "slideshow": {
     "slide_type": "slide"
    }
   },
   "outputs": [
    {
     "name": "stdout",
     "output_type": "stream",
     "text": [
      "Después de la asignación local: test spam\n",
      "Después de la asignación nonocal: nonlocal spam\n",
      "Después de la asignación global: nonlocal spam\n",
      "En el scope global: global spam\n"
     ]
    }
   ],
   "source": [
    "def scope_test():\n",
    "    def do_local():\n",
    "        spam = \"local spam\"\n",
    "\n",
    "    def do_nonlocal():\n",
    "        nonlocal spam\n",
    "        spam = \"nonlocal spam\"\n",
    "\n",
    "    def do_global():\n",
    "        global spam\n",
    "        spam = \"global spam\"\n",
    "\n",
    "    spam = \"test spam\"\n",
    "    do_local()\n",
    "    print(\"Después de la asignación local:\", spam)\n",
    "    do_nonlocal()\n",
    "    print(\"Después de la asignación nonocal:\", spam)\n",
    "    do_global()\n",
    "    print(\"Después de la asignación global:\", spam)\n",
    "\n",
    "scope_test()\n",
    "print(\"En el scope global:\", spam)"
   ]
  },
  {
   "cell_type": "markdown",
   "metadata": {
    "slideshow": {
     "slide_type": "slide"
    }
   },
   "source": [
    "## 11. Clases y objetos, diferencia entre la instancia, el objeto clase, y la declaración de clases.\n"
   ]
  },
  {
   "cell_type": "markdown",
   "metadata": {
    "slideshow": {
     "slide_type": "slide"
    }
   },
   "source": [
    "La forma más sencilla de definir una clase sería:"
   ]
  },
  {
   "cell_type": "code",
   "execution_count": null,
   "metadata": {
    "slideshow": {
     "slide_type": "fragment"
    }
   },
   "outputs": [],
   "source": [
    "class ClassName:\n",
    "    pass"
   ]
  },
  {
   "cell_type": "markdown",
   "metadata": {
    "slideshow": {
     "slide_type": "slide"
    }
   },
   "source": [
    "Cuando se entra en la definición de una clase, se crea un nuevo namespace, y se accede a él desde el scope local, por lo que toda asignación o definición que se haga, quedará será accesible sólo desde ese scope local.\n",
    "\n",
    "Cuando se define una clase decimos que se crea un objeto clase, que se queda asociado en el namespace al nombre que le hemos dado a la clase, en nuestro caso `ClassName`."
   ]
  },
  {
   "cell_type": "markdown",
   "metadata": {
    "slideshow": {
     "slide_type": "slide"
    }
   },
   "source": [
    "Un objeto clase soporta dos tipos de operaciones:\n",
    "\n",
    "- referencia a atributos, mediante el operador `.`\n",
    "- instanciación, usando los paréntesis, de la misma forma que se usan en una función"
   ]
  },
  {
   "cell_type": "code",
   "execution_count": 3,
   "metadata": {
    "slideshow": {
     "slide_type": "slide"
    }
   },
   "outputs": [
    {
     "name": "stdout",
     "output_type": "stream",
     "text": [
      "12345\n",
      "<function MyClass.f at 0x10a306510>\n"
     ]
    }
   ],
   "source": [
    "class MyClass:\n",
    "    \"\"\"A simple example class\"\"\"\n",
    "    i = 12345\n",
    "\n",
    "    def f(self):\n",
    "        return 'hello world'\n",
    "\n",
    "print(MyClass.i)\n",
    "print(MyClass.f)"
   ]
  },
  {
   "cell_type": "markdown",
   "metadata": {
    "slideshow": {
     "slide_type": "fragment"
    }
   },
   "source": [
    "En este ejemplo, `MyClass.i` sería una referencia válida a un atributo de clase, y `MyClass.f` sería una referencia válida a un método.\n",
    "\n",
    "Para crear una nueva instancia de la clase, simplemente usamos la notación de la función:\n",
    "\n",
    "```python\n",
    "x = MyClass()\n",
    "```\n",
    "\n",
    "Esto crea una nueva instancia de la clase, y guarda este objeto en la variable local x."
   ]
  },
  {
   "cell_type": "code",
   "execution_count": 4,
   "metadata": {
    "slideshow": {
     "slide_type": "fragment"
    }
   },
   "outputs": [
    {
     "name": "stdout",
     "output_type": "stream",
     "text": [
      "12345\n",
      "hello world\n"
     ]
    }
   ],
   "source": [
    "x = MyClass()  # nueva instancia de MyClass\n",
    "print(x.i)\n",
    "print(x.f())"
   ]
  },
  {
   "cell_type": "markdown",
   "metadata": {
    "slideshow": {
     "slide_type": "slide"
    }
   },
   "source": [
    "## 12. Atributos y métodos, la declaración, el self, los métodos estáticos, de clase, etc."
   ]
  },
  {
   "cell_type": "markdown",
   "metadata": {
    "slideshow": {
     "slide_type": "fragment"
    }
   },
   "source": [
    "Cuando instanciamos una clase podemos hacer que la nueva instancia tenga un estado inicial concreto.\n",
    "\n",
    "Para ello debemos definir un método `__init__()`."
   ]
  },
  {
   "cell_type": "code",
   "execution_count": null,
   "metadata": {
    "slideshow": {
     "slide_type": "fragment"
    }
   },
   "outputs": [],
   "source": [
    "class MyClass:\n",
    "    def __init__(self):\n",
    "        self.data = []"
   ]
  },
  {
   "cell_type": "markdown",
   "metadata": {
    "slideshow": {
     "slide_type": "slide"
    }
   },
   "source": [
    "- Siempre que se instancia una clase, se llama al método `__init__`. \n",
    "- El primer argumento que recibe este método, así como en todos los métodos de la clase es `self`. \n",
    "- El argumento `self` hace referencia siempre a la instancia que está ejecutando el método en cada instante."
   ]
  },
  {
   "cell_type": "code",
   "execution_count": 5,
   "metadata": {
    "slideshow": {
     "slide_type": "slide"
    }
   },
   "outputs": [
    {
     "name": "stdout",
     "output_type": "stream",
     "text": [
      "1\n",
      "0\n"
     ]
    }
   ],
   "source": [
    "class MyClass:\n",
    "\n",
    "    def __init__(self):\n",
    "        self.data = []\n",
    "\n",
    "    def size(self):\n",
    "        return len(self.data)\n",
    "\n",
    "\n",
    "x = MyClass()  # al llamar a __init__, self hace referencia a la intancia recien creada que se asociará al nombre x\n",
    "x.data.append(\"a\")\n",
    "y = MyClass()  # y tendrá una nueva lista vacía en data\n",
    "print(x.size())  # muestra 1\n",
    "print(y.size())  # muestra 0"
   ]
  },
  {
   "cell_type": "markdown",
   "metadata": {
    "slideshow": {
     "slide_type": "slide"
    }
   },
   "source": [
    "Este método `__init__` también acepta argumentos, que pueden ser pasados cuando se crea una nueva instancia de la clase, como si se trataran de los argumentos de una función.\n",
    "\n",
    "A un objeto instancia se le pueden agregar nuevos atributos o métodos de forma dinámica, simplemente referenciando un nuevo nombre con el operador `.`. No hace falta que estén declarados o inicializados en el `__init__`."
   ]
  },
  {
   "cell_type": "code",
   "execution_count": 10,
   "metadata": {
    "slideshow": {
     "slide_type": "fragment"
    }
   },
   "outputs": [
    {
     "name": "stdout",
     "output_type": "stream",
     "text": [
      "42\n"
     ]
    }
   ],
   "source": [
    "x = MyClass()\n",
    "x.value = 42\n",
    "print(x.value)  # muestra 42"
   ]
  },
  {
   "cell_type": "markdown",
   "metadata": {
    "slideshow": {
     "slide_type": "slide"
    }
   },
   "source": [
    "Además de estos métodos de instancia, que reciben el argumento `self` para hacer referencia a la instancia actual, se pueden declarar métodos estáticos y métodos de clase.\n",
    "\n",
    "Los métodos estáticos se declaran con la notación `@staticmethod` sobre la definición, y no reciben el argumento `self`.\n",
    "\n",
    "Los métodos de clase se declarar con la notación `@classmethod` sobre la definición, y en vez de `self`, reciben `cls` que hace referencia al objeto clase actual"
   ]
  },
  {
   "cell_type": "code",
   "execution_count": 11,
   "metadata": {
    "slideshow": {
     "slide_type": "slide"
    }
   },
   "outputs": [
    {
     "name": "stdout",
     "output_type": "stream",
     "text": [
      "Soy estático!\n",
      "Soy un nuevo atributo de clase!\n"
     ]
    }
   ],
   "source": [
    "class MyClass:\n",
    "\n",
    "    def __init__(self):\n",
    "        self.data = []\n",
    "\n",
    "    @staticmethod\n",
    "    def some_static_stuff():\n",
    "        print(\"Soy estático!\")\n",
    "\n",
    "    @classmethod\n",
    "    def some_class_stuff(cls):\n",
    "        cls.class_attribute = \"Soy un nuevo atributo de clase!\"\n",
    "\n",
    "MyClass.some_static_stuff()\n",
    "MyClass.some_class_stuff()\n",
    "print(MyClass.class_attribute)"
   ]
  },
  {
   "cell_type": "markdown",
   "metadata": {
    "slideshow": {
     "slide_type": "slide"
    }
   },
   "source": [
    "## 13. Herencia y herencia múltiple, sistema de herencia de Python."
   ]
  },
  {
   "cell_type": "markdown",
   "metadata": {
    "slideshow": {
     "slide_type": "slide"
    }
   },
   "source": [
    "Python soporta la herencia entre clases, y para declarar una clase que hereda de otra lo podemos hacer de la siguiente forma:"
   ]
  },
  {
   "cell_type": "markdown",
   "metadata": {
    "slideshow": {
     "slide_type": "fragment"
    }
   },
   "source": [
    "```python\n",
    "class BaseClaseName:\n",
    "    pass\n",
    "\n",
    "\n",
    "class DerivedClassName(BaseClaseName):\n",
    "    pass\n",
    "```"
   ]
  },
  {
   "cell_type": "markdown",
   "metadata": {
    "slideshow": {
     "slide_type": "slide"
    }
   },
   "source": [
    "Cuando una clase derivada o hija se construye, esta recuerda el namespace de la clase padre, por lo que tiene acceso a los mismos nombres que esta clase define.\n",
    "\n",
    "Si se definen atributos o métodos con los mismo nombres, estas nuevas definiciones sobreescriben su asociación en el namespace, por lo que podemos decir que podemos cambiar la implementación de los métodos de la clase base."
   ]
  },
  {
   "cell_type": "markdown",
   "metadata": {
    "slideshow": {
     "slide_type": "slide"
    }
   },
   "source": [
    "Python soporta también la herencia múltiple. Una herencia múltiple puede ser definidia de la siguiente forma:"
   ]
  },
  {
   "cell_type": "markdown",
   "metadata": {
    "slideshow": {
     "slide_type": "fragment"
    }
   },
   "source": [
    "```python\n",
    "class Base1:\n",
    "    pass\n",
    "\n",
    "\n",
    "class Base2:\n",
    "    pass\n",
    "\n",
    "\n",
    "class Base3:\n",
    "    pass\n",
    "\n",
    "\n",
    "class DerivedClassName(Base1, Base2, Base3):\n",
    "    pass\n",
    "```"
   ]
  },
  {
   "cell_type": "markdown",
   "metadata": {
    "slideshow": {
     "slide_type": "slide"
    }
   },
   "source": [
    "Cuando una clase que tiene herencia múltiple intenta buscar un nombre en su namespace, realiza la búsqueda en profundidad y de izquierda a derecha, es decir, en el ejemplo, primero busca el nombre en Base1, luego en la ascendencia de Base1, luego en Base2, luego en la ascendencia de Base2 y por último en Base3 y su ascendencia."
   ]
  },
  {
   "cell_type": "markdown",
   "metadata": {
    "slideshow": {
     "slide_type": "slide"
    }
   },
   "source": [
    "En un método cualquiera, podemos acceder a la implementación del padre usando la función `super()`."
   ]
  },
  {
   "cell_type": "markdown",
   "metadata": {
    "slideshow": {
     "slide_type": "slide"
    }
   },
   "source": [
    "## 14. Encapsulación, métodos y atributos \"privados\", con _ o __ al principio."
   ]
  },
  {
   "cell_type": "markdown",
   "metadata": {
    "slideshow": {
     "slide_type": "fragment"
    }
   },
   "source": [
    "En el sentido tradicional, todos los métodos y atributos de un objeto en Python se consideran públicos, es decir, pueden ser accedidos desde cualquier punto, mientras se tenga una referencia al objeto."
   ]
  },
  {
   "cell_type": "markdown",
   "metadata": {
    "slideshow": {
     "slide_type": "slide"
    }
   },
   "source": [
    "Sin embargo, se usa una convección para definir métodos y atributos privados, que serían todos aquellos que empiezan con al menos un `_` en el nombre. Todos estos atributos o métodos deberán ser tratados como parte no pública del API de la clase, de tal forma que la implementación de este método se podría cambiar sin que un usuario de esta clase lo notara."
   ]
  },
  {
   "cell_type": "markdown",
   "metadata": {
    "slideshow": {
     "slide_type": "slide"
    }
   },
   "source": [
    "Todo identificador que empiece por `__`, dos `_`, será traducido internamente por `__classname__`, de tal forma que si tenemos un método `__spam`, sería traducido internamente por `__classname__spam`. Esto impide que un método que empiece por `__` pueda ser sobreescrito por una clase hija. También es útil si queremos cambiar los argumentos que recibe un método en una clase hija, sin romper la clase padre."
   ]
  },
  {
   "cell_type": "code",
   "execution_count": 59,
   "metadata": {
    "slideshow": {
     "slide_type": "slide"
    }
   },
   "outputs": [
    {
     "data": {
      "text/plain": [
       "mappingproxy({'_Mapping__update': <function __main__.Mapping.update>,\n",
       "              '__dict__': <attribute '__dict__' of 'Mapping' objects>,\n",
       "              '__doc__': None,\n",
       "              '__init__': <function __main__.Mapping.__init__>,\n",
       "              '__module__': '__main__',\n",
       "              '__weakref__': <attribute '__weakref__' of 'Mapping' objects>,\n",
       "              'update': <function __main__.Mapping.update>})"
      ]
     },
     "execution_count": 59,
     "metadata": {},
     "output_type": "execute_result"
    }
   ],
   "source": [
    "class Mapping:\n",
    "    def __init__(self, iterable):\n",
    "        self.items_list = []\n",
    "        self.__update(iterable)\n",
    "\n",
    "    def update(self, iterable):\n",
    "        for item in iterable:\n",
    "            self.items_list.append(item)\n",
    "    \n",
    "    __update = update\n",
    "\n",
    "class MappingSubclass(Mapping):\n",
    "\n",
    "    def update(self, keys, values):\n",
    "        # proporciona un nuevo método update, con parámetros distintos\n",
    "        # pero no rompe la implementación de __init__()\n",
    "        for item in zip(keys, values):\n",
    "            self.items_list.append(item)\n",
    "\n",
    "    __update = update\n",
    "    \n",
    "\n",
    "Mapping.__dict__"
   ]
  },
  {
   "cell_type": "code",
   "execution_count": 47,
   "metadata": {
    "slideshow": {
     "slide_type": "slide"
    }
   },
   "outputs": [
    {
     "data": {
      "text/plain": [
       "mappingproxy({'_MappingSubclass__update': <function __main__.MappingSubclass.update>,\n",
       "              '__doc__': None,\n",
       "              '__module__': '__main__',\n",
       "              'update': <function __main__.MappingSubclass.update>})"
      ]
     },
     "execution_count": 47,
     "metadata": {},
     "output_type": "execute_result"
    }
   ],
   "source": [
    "MappingSubclass.__dict__"
   ]
  },
  {
   "cell_type": "code",
   "execution_count": 58,
   "metadata": {},
   "outputs": [
    {
     "data": {
      "text/plain": [
       "<__main__.MappingSubclass at 0x10a3d3d30>"
      ]
     },
     "execution_count": 58,
     "metadata": {},
     "output_type": "execute_result"
    }
   ],
   "source": [
    "MappingSubclass([1, 2, 3])"
   ]
  },
  {
   "cell_type": "markdown",
   "metadata": {
    "slideshow": {
     "slide_type": "slide"
    }
   },
   "source": [
    "Esto es una convención que se usa, y que se el propio interprete respeta en cierta medida, pero cabe resaltar que el hecho de que se declare un método como privado no impide que sea accedido desde fuera de la clase."
   ]
  },
  {
   "cell_type": "markdown",
   "metadata": {
    "slideshow": {
     "slide_type": "slide"
    }
   },
   "source": [
    "## 15. Métodos mágicos"
   ]
  },
  {
   "cell_type": "markdown",
   "metadata": {
    "slideshow": {
     "slide_type": "fragment"
    }
   },
   "source": [
    "El método `__init__` visto anteriormente se le considera también un método mágico. Los métodos mágicos de las clases permiten definir el comportamiento de esta en diferentes circunstancias, como la inicialización, la comparación con otros objetos o como obtener una representación."
   ]
  },
  {
   "cell_type": "markdown",
   "metadata": {
    "slideshow": {
     "slide_type": "slide"
    }
   },
   "source": [
    "### Construcción e inicialización\n",
    "\n",
    "**`__new__(cls, [...)`**\n",
    "\n",
    "Este es el primer método que se llama al crear una instancia de una clase, antes de que la instancia en si exista. Recibe la clase y los mismos argumentos que se le pasan a `__init__`.\n",
    "\n",
    "**`__init__(self, [...)`**\n",
    "\n",
    "Es el inicializador de la instancia. Se llama cuando ya existe la instancia, y tiene como argumentos los que se le pasan al crear la instancia. Este junto a `__new__` formarían el constructor como lo entendemos en otros lenguajes de programación.\n",
    "\n",
    "`__del__(self)`\n",
    "\n",
    "Este método se llama cuando el colector de basura destruye el objeto. No se llama cuando se hace uso de `del`. No se recomienda su uso ya que no se puede garantizar que sea llamado cuando el objeto existe y se cierra el interprete.\n"
   ]
  },
  {
   "cell_type": "markdown",
   "metadata": {
    "slideshow": {
     "slide_type": "slide"
    }
   },
   "source": [
    "### Comparaciones\n",
    "\n",
    "`__eq__(self, other)`\n",
    "\n",
    "Permite realizar una comparación igualdad entra el objeto y `other`.\n",
    "\n",
    "\n",
    "`__ne__(self, other)`\n",
    "\n",
    "Permite realizar una comparación no igualdad entra el objeto y `other`.\n",
    "\n",
    "`__lt__(self, other)`\n",
    "\n",
    "Permite realizar una comparación menor que entra el objeto y `other`.\n",
    "\n",
    "`__gt__(self, other)`\n",
    "\n",
    "Permite realizar una comparación mayor que entra el objeto y `other`.\n",
    "\n",
    "`__le__(self, other)`\n",
    "\n",
    "\n",
    "Permite realizar una comparación menor o igual que entra el objeto y `other`.\n",
    "\n",
    "`__ge__(self, other)`\n",
    "\n",
    "Permite realizar una comparación mayor o igual que entra el objeto y `other`.\n"
   ]
  },
  {
   "cell_type": "markdown",
   "metadata": {
    "slideshow": {
     "slide_type": "slide"
    }
   },
   "source": [
    "### Operadores unarios\n",
    "\n",
    "`__pos__(self)`\n",
    "\n",
    "Realiza y devuelve el resultado de la operación `+obj`.\n",
    "\n",
    "`__neg__(self)`\n",
    "\n",
    "Realiza y devuelve el resultado de la operación `-obj`.\n",
    "\n",
    "`__abs__(self)`\n",
    "\n",
    "Realiza y devuelve el resultado de la operación `abs(obj)`.\n",
    "\n",
    "`__invert__(self)`\n",
    "\n",
    "Realiza y devuelve el resultado de la operación `~obj`.\n",
    "\n",
    "`__round__(self, n)`\n",
    "\n",
    "Realiza y devuelve el resultado de la operación `round(obj)`.\n",
    "\n",
    "`__floor__(self)`\n",
    "\n",
    "Realiza y devuelve el resultado de la operación `math.floor(obj)`.\n",
    "\n",
    "`__ceil__(self)`\n",
    "\n",
    "Realiza y devuelve el resultado de la operación `math.ceil(obj)`.\n",
    "\n",
    "`__trunc__(self)`\n",
    "\n",
    "Realiza y devuelve el resultado de la operación `math.trunc(obj)`."
   ]
  },
  {
   "cell_type": "markdown",
   "metadata": {
    "slideshow": {
     "slide_type": "slide"
    }
   },
   "source": [
    "### Operadores aritméticos normales\n",
    "\n",
    "`__add__(self, other)`\n",
    "\n",
    "Realiza y deveulve el resultado de hacer `obj + other`.\n",
    "\n",
    "`__sub__(self, other)`\n",
    "\n",
    "Realiza y deveulve el resultado de hacer `obj - other`.\n",
    "\n",
    "`__mul__(self, other)`\n",
    "\n",
    "Realiza y deveulve el resultado de hacer `obj * other`.\n",
    "\n",
    "`__floordiv__(self, other)`\n",
    "\n",
    "Realiza y deveulve el resultado de hacer `obj // other`.\n",
    "\n",
    "`__div__(self, other)`\n",
    "\n",
    "Realiza y deveulve el resultado de hacer `obj / other`.\n",
    "\n",
    "`__mod__(self, other)`\n",
    "\n",
    "Realiza y deveulve el resultado de hacer `obj % other`.\n",
    "\n",
    "`__divmod__(self, other)`\n",
    "\n",
    "Realiza y deveulve el resultado de hacer `divmod(obj, other)`."
   ]
  },
  {
   "cell_type": "markdown",
   "metadata": {
    "slideshow": {
     "slide_type": "subslide"
    }
   },
   "source": [
    "`__pow__`\n",
    "\n",
    "Realiza y deveulve el resultado de hacer `obj ** other`.\n",
    "\n",
    "`__lshift__(self, other)`\n",
    "\n",
    "Realiza y deveulve el resultado de hacer `obj << other`.\n",
    "\n",
    "`__rshift__(self, other)`\n",
    "\n",
    "Realiza y deveulve el resultado de hacer `obj >> other`.\n",
    "\n",
    "`__and__(self, other)`\n",
    "\n",
    "Realiza y deveulve el resultado de hacer `obj & other`.\n",
    "\n",
    "`__or__(self, other)`\n",
    "\n",
    "Realiza y deveulve el resultado de hacer `obj | other`.\n",
    "\n",
    "`__xor__(self, other)`\n",
    "\n",
    "Realiza y deveulve el resultado de hacer `obj ^ other`."
   ]
  },
  {
   "cell_type": "markdown",
   "metadata": {
    "slideshow": {
     "slide_type": "slide"
    }
   },
   "source": [
    "### Operadores aritméticos reflejados\n",
    "\n",
    "`__radd__(self, other)`\n",
    "\n",
    "Realiza y deveulve el resultado de hacer `other + obj`.\n",
    "\n",
    "`__rsub__(self, other)`\n",
    "\n",
    "Realiza y deveulve el resultado de hacer `other - obj`.\n",
    "\n",
    "`__rmul__(self, other)`\n",
    "\n",
    "Realiza y deveulve el resultado de hacer `other * obj`.\n",
    "\n",
    "`__rfloordiv__(self, other)`\n",
    "\n",
    "Realiza y deveulve el resultado de hacer `other // obj`.\n",
    "\n",
    "`__rdiv__(self, other)`\n",
    "\n",
    "Realiza y deveulve el resultado de hacer `other / obj`.\n",
    "\n",
    "`__rmod__(self, other)`\n",
    "\n",
    "Realiza y deveulve el resultado de hacer `other % obj`.\n",
    "\n",
    "`__rdivmod__(self, other)`\n",
    "\n",
    "Realiza y deveulve el resultado de hacer `divmod(other,  obj)`."
   ]
  },
  {
   "cell_type": "markdown",
   "metadata": {
    "slideshow": {
     "slide_type": "subslide"
    }
   },
   "source": [
    "`__rpow__`\n",
    "\n",
    "Realiza y deveulve el resultado de hacer `other ** obj`.\n",
    "\n",
    "`__rlshift__(self, other)`\n",
    "\n",
    "Realiza y deveulve el resultado de hacer `other << obj`.\n",
    "\n",
    "`__rrshift__(self, other)`\n",
    "\n",
    "Realiza y deveulve el resultado de hacer `other >> obj`.\n",
    "\n",
    "`__rand__(self, other)`\n",
    "\n",
    "Realiza y deveulve el resultado de hacer `other & obj`.\n",
    "\n",
    "`__ror__(self, other)`\n",
    "\n",
    "Realiza y deveulve el resultado de hacer `other | obj`.\n",
    "\n",
    "`__rxor__(self, other)`\n",
    "\n",
    "Realiza y deveulve el resultado de hacer `other ^ obj`."
   ]
  },
  {
   "cell_type": "markdown",
   "metadata": {
    "slideshow": {
     "slide_type": "slide"
    }
   },
   "source": [
    "### Operadores con asignación\n",
    "\n",
    "`__iadd__(self, other)`\n",
    "\n",
    "Realiza y deveulve el resultado de hacer `obj += other`.\n",
    "\n",
    "`__isub__(self, other)`\n",
    "\n",
    "Realiza y deveulve el resultado de hacer `obj -= other`.\n",
    "\n",
    "`__imul__(self, other)`\n",
    "\n",
    "Realiza y deveulve el resultado de hacer `obj *= other`.\n",
    "\n",
    "`__ifloordiv__(self, other)`\n",
    "\n",
    "Realiza y deveulve el resultado de hacer `obj //= other`.\n",
    "\n",
    "`__idiv__(self, other)`\n",
    "\n",
    "Realiza y deveulve el resultado de hacer `obj /= other`.\n",
    "\n",
    "`__imod__(self, other)`\n",
    "\n",
    "Realiza y deveulve el resultado de hacer `obj %= other`."
   ]
  },
  {
   "cell_type": "markdown",
   "metadata": {
    "slideshow": {
     "slide_type": "subslide"
    }
   },
   "source": [
    "`__ipow__`\n",
    "\n",
    "Realiza y deveulve el resultado de hacer `obj **= other`.\n",
    "\n",
    "`__ilshift__(self, other)`\n",
    "\n",
    "Realiza y deveulve el resultado de hacer `obj <<= other`.\n",
    "\n",
    "`__irshift__(self, other)`\n",
    "\n",
    "Realiza y deveulve el resultado de hacer `obj >>= other`.\n",
    "\n",
    "`__iand__(self, other)`\n",
    "\n",
    "Realiza y deveulve el resultado de hacer `obj &= other`.\n",
    "\n",
    "`__ior__(self, other)`\n",
    "\n",
    "Realiza y deveulve el resultado de hacer `obj |= other`.\n",
    "\n",
    "`__ixor__(self, other)`\n",
    "\n",
    "Realiza y deveulve el resultado de hacer `obj ^= other`."
   ]
  },
  {
   "cell_type": "markdown",
   "metadata": {
    "slideshow": {
     "slide_type": "slide"
    }
   },
   "source": [
    "### Representación de Clases\n",
    "\n",
    "**`__str__(self)`**\n",
    "\n",
    "Se llama para obtener una representación en texto de la clase cuando se llama a `str(obj)`.\n",
    "\n",
    "`__bytes__(self)`\n",
    "\n",
    "Se llama para obtener una representación como secuencia de bytes de la clase.\n",
    "\n",
    "`__repr__(self)`\n",
    "\n",
    "Se llama para obtener una representación en texto de la clase cuando se llama a `repr(obj)`.\n",
    "\n",
    "`__format__(self, formatstr)`\n",
    "\n",
    "Se llama cuando se hace llama a `obj.format()`.\n",
    "\n",
    "`__hash__(self)`\n",
    "\n",
    "Se llama cuando se hace llama a `hash(obj)`.\n",
    "\n",
    "`__bool__(self)`\n",
    "\n",
    "Se llama cuando se hace llama a `bool(obj)`.\n",
    "\n",
    "`__dir__(self)`\n",
    "\n",
    "Se llama cuando se hace llama a `dir(obj)`.\n",
    "\n",
    "`__sizeof__(self)`\n",
    "\n",
    "Se llama cuando se hace llama a `sizeof(obj)`.\n"
   ]
  },
  {
   "cell_type": "markdown",
   "metadata": {
    "slideshow": {
     "slide_type": "slide"
    }
   },
   "source": [
    "### Acceso a atributos\n",
    "\n",
    "**`__getattr__(self, name)`**\n",
    "\n",
    "Define el comportamiento que realzia la clase cuando se accede a un atributo que no existe.\n",
    "\n",
    "**`__setattr__(self, name, value)`**\n",
    "\n",
    "Permite definir el comportamiento para la asignación de un valor en un atributo, tanto si existe como si no.\n",
    "\n",
    "`__delattr__(self, name)`\n",
    "\n",
    "Permite definir el comportamiento para cuando se intenta borrar un atributo, usando `del`.\n",
    "\n",
    "**`__getattribute__(self, name)`**\n",
    "\n",
    "Permite definir el comportamiento para el acceso a un atributo, tanto si existe como si no."
   ]
  },
  {
   "cell_type": "markdown",
   "metadata": {
    "slideshow": {
     "slide_type": "slide"
    }
   },
   "source": [
    "### Secuencias\n",
    "\n",
    "`__len__(self)`\n",
    "\n",
    "Devuelve el resultado de llamar a la función `len(ojb)`.\n",
    "\n",
    "`__getitem__(self, key)`\n",
    "\n",
    "Devuelve el resultado de llamar a  `obj[key]`.\n",
    "\n",
    "`__setitem__(self, key, value)`\n",
    "\n",
    "Devuelve el resultado de llamar a  `obj[key] = value`.\n",
    "\n",
    "`__delitem__(self, key)`\n",
    "\n",
    "Devuelve el resultado de llamar a  `del obj[key]`.\n"
   ]
  },
  {
   "cell_type": "markdown",
   "metadata": {
    "slideshow": {
     "slide_type": "subslide"
    }
   },
   "source": [
    "**`__iter__(self)`**\n",
    "\n",
    "Devuelve el resultado de llamar a  `iter(obj)`.\n",
    "\n",
    "`__reversed__(self)`\n",
    "\n",
    "Devuelve el resultado de llamar a  `reversed(obj)`.\n",
    "\n",
    "`__contains__(self, item)`\n",
    "\n",
    "Devuelve el resultado de llamar a  `item in obj` o `item not in obj`.\n",
    "\n",
    "`__missing__(self, key)`\n",
    "\n",
    "Se utiliza en las subclases de `dic`, y se llama cuando se hace acceso a un elemento con clave `key` que no extiste en el diccionario."
   ]
  },
  {
   "cell_type": "markdown",
   "metadata": {
    "slideshow": {
     "slide_type": "slide"
    }
   },
   "source": [
    "### Objetos llamables\n",
    "\n",
    "**`__call__(self, [args...])`**\n",
    "\n",
    "Se ejecuta cuando se llama a una instancia como si fuera una función.\n",
    "\n",
    "### Contextos\n",
    "\n",
    "`__enter__(self)`\n",
    "\n",
    "Se llama cuando se entra en un contexto con la instrucción `with`.\n",
    "\n",
    "`__exit__(self, exception_type, exception_value, traceback)`\n",
    "\n",
    "Se llama cuando se sale de un contexto.\n"
   ]
  },
  {
   "cell_type": "markdown",
   "metadata": {
    "slideshow": {
     "slide_type": "slide"
    }
   },
   "source": [
    "## Ejercicios"
   ]
  },
  {
   "cell_type": "markdown",
   "metadata": {
    "slideshow": {
     "slide_type": "slide"
    }
   },
   "source": [
    "### Palabras más frecuentes\n",
    "\n",
    "Junto a este *notebook* se incluye un fichero con el contenido del libro \"La Isla del Tesoro\" en inglés. Lee el fichero y extrae las 30 palabras más frecuentes de todo el libro.\n",
    "\n",
    "#### Ayuda\n",
    "\n",
    "Python incluye un módulo llamado `re` para el uso de expresiones regulares. Puedes investigar como funciona y usarlo para resolver este ejercicio."
   ]
  },
  {
   "cell_type": "code",
   "execution_count": null,
   "metadata": {
    "slideshow": {
     "slide_type": "slide"
    }
   },
   "outputs": [],
   "source": []
  },
  {
   "cell_type": "markdown",
   "metadata": {
    "slideshow": {
     "slide_type": "slide"
    }
   },
   "source": [
    "### Títulos de los capítulos\n",
    "\n",
    "Teniendo en cuenta que en el libro anterior, los cápitulos siempre están de la siguiente forma:\n",
    "\n",
    "```\n",
    "{numero del capítulo}\\n\n",
    "\\n\n",
    "{titulo del capítulo}```\n",
    "\n",
    "Muestra una lista con todos los títulos y números de los capítulos de \"La Isla del Tesoro\"."
   ]
  },
  {
   "cell_type": "code",
   "execution_count": null,
   "metadata": {
    "slideshow": {
     "slide_type": "slide"
    }
   },
   "outputs": [],
   "source": []
  },
  {
   "cell_type": "markdown",
   "metadata": {
    "slideshow": {
     "slide_type": "slide"
    }
   },
   "source": [
    "### Persistir datos en un JSON\n",
    "\n",
    "Python proporciona una librería estándar para la gestión de ficheros JSON, llamado `json`."
   ]
  },
  {
   "cell_type": "code",
   "execution_count": null,
   "metadata": {
    "slideshow": {
     "slide_type": "fragment"
    }
   },
   "outputs": [],
   "source": [
    "import json\n",
    "\n",
    "json_content = '{\"user\": {\"messages\": []}}'\n",
    "loads = json.loads(json_content)\n",
    "print(loads, type(loads))\n",
    "\n",
    "json_dict = {\"user\": {\"messages\": []}}\n",
    "dumps = json.dumps(json_dict)\n",
    "print(dumps, type(dumps))\n"
   ]
  },
  {
   "cell_type": "markdown",
   "metadata": {
    "slideshow": {
     "slide_type": "fragment"
    }
   },
   "source": [
    "El objetivo de este ejercicio es crear una clase que cargue un fichero JSON y permita el acceso a este usando directamente como si fuera un diccionario.\n",
    "\n",
    "Además, la clase tendrá un método para guardar los cambios relaizados en el contenido cargado de nuevo en el fichero."
   ]
  },
  {
   "cell_type": "code",
   "execution_count": null,
   "metadata": {
    "slideshow": {
     "slide_type": "slide"
    }
   },
   "outputs": [],
   "source": []
  },
  {
   "cell_type": "markdown",
   "metadata": {
    "slideshow": {
     "slide_type": "slide"
    }
   },
   "source": [
    "### Simulador de notificaciones\n",
    "\n",
    "\n",
    "El objetivo de este ejercicio es desarrollar un **simulador de entrega de notificaciones a usuarios**. El simulador permitirá definir un entorno con varios usuarios a los que se le pueden entregar notificaciones y cada una de estas notificaciones tendrá una serie de estadísticas relacionadadas con los mensajes enviados, los recibidos y los abiertos.\n"
   ]
  },
  {
   "cell_type": "markdown",
   "metadata": {
    "slideshow": {
     "slide_type": "slide"
    }
   },
   "source": [
    "- Registrar **usuarios**.\n",
    "    - Cada usario tendrá un nombre, que será usado para su representación.\n",
    "    - Un usuario será registrado en un listado único y se le asignará un código.\n",
    "    - Cada usuario tendrá una bandeja de entrada con los mensajes que ha recibido.\n",
    "    - Cada usuario podrá comprobar su bandeja de entrada y marcar un mensaje como leído.\n",
    "\n",
    "- Crear y enviar **mensajes**:\n",
    "    - Los mensajes tendrán una cadena de texto como cuerpo, que será usada para su representación.\n",
    "    - Los mensajes tendrán una lista de usuarios a los que se les ha enviado el mensaje.\n",
    "    - Los mensajes tendrán una lista de usuarios a los que han recibido el mensaje.\n",
    "    - Los mensajes tendrán una lista de usuarios a los que han abierto el mensaje.\n",
    "    - Dado un mensaje, se podrán obtener las estadísticas de apertura y recepción del mensaje.\n",
    "\n",
    "- El **sitema de entrega de mensajes** estará separado de los usuarios y los mensajes, y deberá:\n",
    "    - Mantener un registro de los usuarios registrados, asignando sus códigos.\n",
    "    - Publicar un mensaje a todos los usuarios registrados, asignando en ese proceso un código único a cada mensaje, y añdiendo acada mensaje en la bandeja de entrada del usuario.\n",
    "    - Simular un ratio de pérdida de mensajes, es decir, que exista una probabilidad de que un mensaje no sea recibido por un usuario.\n",
    "\n",
    "Además de las definiciones de las clases necesarias, habrá que implementar una simulación de envío de mensajes a 1000 usuarios y mostrar las estadísticas."
   ]
  },
  {
   "cell_type": "markdown",
   "metadata": {
    "slideshow": {
     "slide_type": "slide"
    }
   },
   "source": [
    "Hay que tener en cuenta que cada uno de los usuarios a los que le llege el mensaje tendrá que poder obtener una lista de los mensajes que se le han enviado, sabiendo si lo ha leído o no.\n",
    "\n",
    "#### Ayuda\n",
    "\n",
    "Para crear identificadores únicos, podemos usar el módulo `uuid` de Python:\n",
    "\n",
    "```python\n",
    ">>> import uuid\n",
    ">>> str(uuid.uuid1())\n",
    "'9d6a768a-3659-11e8-966c-60f81db53974'\n",
    "```"
   ]
  },
  {
   "cell_type": "code",
   "execution_count": null,
   "metadata": {
    "slideshow": {
     "slide_type": "slide"
    }
   },
   "outputs": [],
   "source": []
  },
  {
   "cell_type": "markdown",
   "metadata": {
    "slideshow": {
     "slide_type": "slide"
    }
   },
   "source": [
    "### Soporte para envíos individualizados en simulador de notificaciones\n",
    "\n",
    "En el escenario planteado anteriormente sólo se da soporte para simular envíos en *broadcast*. Añade una nueva clase de mensaje y modifica el servidor para permitir el envío de mensajes individualizados."
   ]
  },
  {
   "cell_type": "code",
   "execution_count": null,
   "metadata": {
    "slideshow": {
     "slide_type": "slide"
    }
   },
   "outputs": [],
   "source": []
  },
  {
   "cell_type": "markdown",
   "metadata": {
    "slideshow": {
     "slide_type": "slide"
    }
   },
   "source": [
    "### Módulos para el simulador de mensajes\n",
    "\n",
    "El objetivo de este ejercico es tomar el código que se ha desarrollado en el ejercicio anterior y escribirlo en diferentes módulos.\n",
    "\n",
    "Uno de los módulos deberá de permitir ser ejecutado como script para lanzar una simulación."
   ]
  }
 ],
 "metadata": {
  "celltoolbar": "Slideshow",
  "kernelspec": {
   "display_name": "Python 3",
   "language": "python",
   "name": "python3"
  },
  "language_info": {
   "codemirror_mode": {
    "name": "ipython",
    "version": 3
   },
   "file_extension": ".py",
   "mimetype": "text/x-python",
   "name": "python",
   "nbconvert_exporter": "python",
   "pygments_lexer": "ipython3",
   "version": "3.8.2"
  }
 },
 "nbformat": 4,
 "nbformat_minor": 2
}
