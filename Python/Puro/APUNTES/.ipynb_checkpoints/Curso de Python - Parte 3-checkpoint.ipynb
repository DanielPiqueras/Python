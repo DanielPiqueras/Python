{
 "cells": [
  {
   "cell_type": "markdown",
   "metadata": {
    "slideshow": {
     "slide_type": "slide"
    }
   },
   "source": [
    "# Curso de Python - Parte 3"
   ]
  },
  {
   "cell_type": "markdown",
   "metadata": {
    "slideshow": {
     "slide_type": "slide"
    }
   },
   "source": [
    "## 16. Decoradores, introducción, para que sirven y cómo crear decoradores."
   ]
  },
  {
   "cell_type": "markdown",
   "metadata": {
    "slideshow": {
     "slide_type": "fragment"
    }
   },
   "source": [
    "Un decorador en Python no es más que un nombre que se le da a un patrón de diseño. Los decoradores alteran de forma dinámica la funcionalidad de una función, método o clase, sin tener que usar subclases o cambiar el código fuente de la función que está siendo decorada.\n"
   ]
  },
  {
   "cell_type": "markdown",
   "metadata": {
    "slideshow": {
     "slide_type": "slide"
    }
   },
   "source": [
    "De forma sencilla, un decorador no es más que un objeto invocable, una función o un objeto que implementa el método `__call__`, que recibe como otro objeto invocable.\n"
   ]
  },
  {
   "cell_type": "code",
   "execution_count": null,
   "metadata": {
    "slideshow": {
     "slide_type": "slide"
    }
   },
   "outputs": [],
   "source": [
    "def dec(func):\n",
    "    def wrapper(*args, **kwargs):\n",
    "        print(\"Antes de ejecutar la función\")\n",
    "        result = func(*args, **kwargs)\n",
    "        print(\"Después de ejecutar la función\")\n",
    "        return result\n",
    "    return wrapper\n",
    "\n",
    "\n",
    "def dummy_function(value):\n",
    "    return value\n",
    "\n",
    "\n",
    "decorated_dummy_function = dec(dummy_function)\n",
    "print(decorated_dummy_function(42))"
   ]
  },
  {
   "cell_type": "markdown",
   "metadata": {
    "slideshow": {
     "slide_type": "slide"
    }
   },
   "source": [
    "Python incluye azúcar sintáctica para simplificar el uso de los decoradores, de forma que para decorar una función, basta con usar `@`. En el ejemplo anterior:"
   ]
  },
  {
   "cell_type": "code",
   "execution_count": null,
   "metadata": {
    "slideshow": {
     "slide_type": "slide"
    }
   },
   "outputs": [],
   "source": [
    "def dec(func):\n",
    "    def wrapper(*args, **kwargs):\n",
    "        print(\"Antes de ejecutar la función\")\n",
    "        result = func(*args, **kwargs)\n",
    "        print(\"Después de ejecutar la función\")\n",
    "        return result\n",
    "    return wrapper\n",
    "\n",
    "\n",
    "@dec\n",
    "def dummy_function(value):\n",
    "    return value\n",
    "\n",
    "\n",
    "print(dummy_function(42))"
   ]
  },
  {
   "cell_type": "markdown",
   "metadata": {
    "slideshow": {
     "slide_type": "slide"
    }
   },
   "source": [
    "Un decorador también puede recibir parámetros, para lo que necesitamos añadir una nueva función de envoltura."
   ]
  },
  {
   "cell_type": "code",
   "execution_count": null,
   "metadata": {
    "slideshow": {
     "slide_type": "slide"
    }
   },
   "outputs": [],
   "source": [
    "def dec(param=False):\n",
    "    def _dec(func):\n",
    "        def wrapper(*args, **kwargs):\n",
    "            if param:\n",
    "                print(\"Se ha pasado True\")\n",
    "            else:\n",
    "                print(\"Se ha pasado False\")\n",
    "            return func(*args, **kwargs)\n",
    "        return wrapper\n",
    "    return _dec\n",
    "\n",
    "\n",
    "@dec(True)\n",
    "def dummy_function(value):\n",
    "    return value\n",
    "\n",
    "\n",
    "print(dummy_function(42))"
   ]
  },
  {
   "cell_type": "markdown",
   "metadata": {
    "slideshow": {
     "slide_type": "slide"
    }
   },
   "source": [
    "Un decorado también puede ser declarado como una clase, solo necesita implementar el método mágico `__call__`."
   ]
  },
  {
   "cell_type": "code",
   "execution_count": null,
   "metadata": {
    "slideshow": {
     "slide_type": "slide"
    }
   },
   "outputs": [],
   "source": [
    "class Dec:\n",
    "    \"\"\"Decorador sin argumentos\"\"\"\n",
    "    \n",
    "    def __init__(self, function):\n",
    "        print(\"Método __init__ del decorador.\")\n",
    "        self.function = function\n",
    "\n",
    "    def __call__(self, *args, **kwargs):\n",
    "        print(\"Método __call__ del decorador.\")\n",
    "        return self.function(*args, **kwargs)\n",
    "\n",
    "@Dec\n",
    "def dummy_function(value):\n",
    "    return value\n",
    "\n",
    "\n",
    "print(dummy_function(42))"
   ]
  },
  {
   "cell_type": "code",
   "execution_count": null,
   "metadata": {
    "slideshow": {
     "slide_type": "slide"
    }
   },
   "outputs": [],
   "source": [
    "class Dec:\n",
    "    \"\"\"Decorador con argumentos\"\"\"\n",
    "\n",
    "    def __init__(self, param):\n",
    "        # Los parámetros se pasan en el constructor, y no la función.\n",
    "        self.param = param\n",
    "\n",
    "    def __call__(self, function):\n",
    "        # La función se pasa en el __call__ ahora\n",
    "        def wrapped(*args, **kwargs):\n",
    "            if self.param:\n",
    "                print(\"Se ha pasado True\")\n",
    "            else:\n",
    "                print(\"Se ha pasado False\")\n",
    "            return function(*args, **kwargs)\n",
    "        return wrapped\n",
    "\n",
    "\n",
    "@Dec(True)\n",
    "def dummy_function(value):\n",
    "    return value\n",
    "\n",
    "print(dummy_function(42))"
   ]
  },
  {
   "cell_type": "markdown",
   "metadata": {
    "slideshow": {
     "slide_type": "slide"
    }
   },
   "source": [
    "Además de decorar funciones, también se pueden decorar métodos de clases. Para ello, sólo hay que tener en cuenta que Python pasa de forma automática el argumento `self` a todos los métodos de clases."
   ]
  },
  {
   "cell_type": "code",
   "execution_count": null,
   "metadata": {
    "slideshow": {
     "slide_type": "slide"
    }
   },
   "outputs": [],
   "source": [
    "def dec(func):\n",
    "    \"\"\"Decorador reutilizable para funciones y métodos.\"\"\"\n",
    "    def wrapper(self=None, *args, **kwargs):\n",
    "        print(\"Antes de ejecutar el método\")\n",
    "        result = func(self, *args, **kwargs)\n",
    "        print(\"Después de ejecutar el método\")\n",
    "        return result\n",
    "    return wrapper\n",
    "\n",
    "\n",
    "class DummyClass:\n",
    "\n",
    "    @dec\n",
    "    def dummy(self, value):\n",
    "        return value\n",
    "\n",
    "    \n",
    "@dec\n",
    "def dummy_function(value):\n",
    "    return value\n",
    "\n",
    "obj = DummyClass()\n",
    "print(obj.dummy(42))\n",
    "\n",
    "print(dummy_function(42))"
   ]
  },
  {
   "cell_type": "markdown",
   "metadata": {
    "slideshow": {
     "slide_type": "slide"
    }
   },
   "source": [
    "Y no solo los métodos, también se pueden crear decoradores que se pueden aplicar a una clase, permitiendo cambiar así la definición entera de la clase y de todos sus métodos."
   ]
  },
  {
   "cell_type": "code",
   "execution_count": null,
   "metadata": {
    "slideshow": {
     "slide_type": "slide"
    }
   },
   "outputs": [],
   "source": [
    "def dec(func):\n",
    "    def wrapper(*args, **kwargs):\n",
    "        print(\"Antes de ejecutar el método\")\n",
    "        result = func(*args, **kwargs)\n",
    "        print(\"Después de ejecutar el método\")\n",
    "        return result\n",
    "    return wrapper\n",
    "\n",
    "def dec_class(cls):\n",
    "    \"\"\"El decorador de clase recibe como primer argumento el objeto clase.\"\"\"\n",
    "\n",
    "    class NewCls:\n",
    "        \"\"\"Creamos una nueva clase que reemplazará a la original.\"\"\"\n",
    "    \n",
    "        def __init__(self, *args, **kwargs):\n",
    "            self.original_instance = cls(*args, **kwargs)\n",
    "        \n",
    "        def __getattribute__(self, name):\n",
    "            \"\"\"Este método se llama siempre que se accede a un método de un objeto NewCls. Esté método \n",
    "            primero intenta acceder a los atributos de NewCls, si falla, entonces accede a los de \n",
    "            self.original_instance, y si el atributo es un metodo, entonces se aplica el decorador.\n",
    "            \"\"\"\n",
    "            try:    \n",
    "                result = super().__getattribute__(name)\n",
    "            except AttributeError:      \n",
    "                pass\n",
    "            # El else se ejecuta cuando no se lanza ninguna excepción\n",
    "            else:\n",
    "                return result\n",
    "            result = self.original_instance.__getattribute__(name)\n",
    "            if type(result) == type(self.__init__):\n",
    "                return dec(result)\n",
    "            else:\n",
    "                return result\n",
    "    return NewCls\n",
    "\n",
    "\n",
    "@dec_class\n",
    "class MyClass:\n",
    "    \n",
    "    def dummy1(self, value):\n",
    "        return value\n",
    "    \n",
    "    def dummy2(self):\n",
    "        print(\"dummy\")\n",
    "\n",
    "\n",
    "obj = MyClass()\n",
    "print(obj.dummy1(42))\n",
    "obj.dummy2()"
   ]
  },
  {
   "cell_type": "markdown",
   "metadata": {
    "slideshow": {
     "slide_type": "slide"
    }
   },
   "source": [
    "## 17. Iteradores y generadores, instrucción yield."
   ]
  },
  {
   "cell_type": "markdown",
   "metadata": {
    "slideshow": {
     "slide_type": "slide"
    }
   },
   "source": [
    "### Iteradores\n",
    "\n",
    "La mayoría de los contenedores y estructuras de datos que hemos visto hasta ahora pueden ser recorridas usando un bucle `for`.\n",
    "\n",
    "```python\n",
    "for element in [1, 2, 3]:\n",
    "    print(element)\n",
    "for element in (1, 2, 3):\n",
    "    print(element)\n",
    "for key in {'one':1, 'two':2}:\n",
    "    print(key)\n",
    "for char in \"123\":\n",
    "    print(char)\n",
    "for line in open(\"myfile.txt\"):\n",
    "    print(line, end='')\n",
    "```"
   ]
  },
  {
   "cell_type": "markdown",
   "metadata": {
    "slideshow": {
     "slide_type": "slide"
    }
   },
   "source": [
    "Cuando se ejecuta un bucle `for`, internamente se llama a la función `iter()` pasandole el contenedor. Esta función devuelve un objeto **iterador**, que es un objeto que define el método mágico `__next__()` que accede a un elemento del contendor cada vez que es llamado. Y cuando no quedan más elementos, lanza una excepción `StopIteration`."
   ]
  },
  {
   "cell_type": "markdown",
   "metadata": {
    "slideshow": {
     "slide_type": "slide"
    }
   },
   "source": [
    "Para hacer que tus clases funcionen de la misma forma que estos contenedores cuando se recorran con un bucle `for`, basta con definir el método `__iter__()` para que devuelva un objeto que implemente el método `__next__()`. Si esa misma clase define el método `__next__()`, basta con que `__iter__()` devuelva `self`."
   ]
  },
  {
   "cell_type": "code",
   "execution_count": null,
   "metadata": {
    "slideshow": {
     "slide_type": "slide"
    }
   },
   "outputs": [],
   "source": [
    "class Reverse:\n",
    "    \"\"\"Iterador para recorrer una secuenca al revés.\"\"\"\n",
    "    def __init__(self, data):\n",
    "        self.data = data\n",
    "        self.index = len(data)\n",
    "\n",
    "    def __iter__(self):\n",
    "        return self\n",
    "\n",
    "    def __next__(self):\n",
    "        if self.index == 0:\n",
    "            raise StopIteration\n",
    "        self.index = self.index - 1\n",
    "        return self.data[self.index]\n",
    "\n",
    "\n",
    "rev = Reverse('spam')\n",
    "print(iter(rev))\n",
    "for char in rev:\n",
    "    print(char)"
   ]
  },
  {
   "cell_type": "markdown",
   "metadata": {
    "slideshow": {
     "slide_type": "slide"
    }
   },
   "source": [
    "#### Módulo `itertools`\n",
    "\n",
    "El módulo de `itertools` implementa una serie de constructores para crear iteradores, inspirados en lenguajes funcionales. Estandariza una serie de herramientas rápidas y eficientes en memoria que son útiles por si mismas o combinadas."
   ]
  },
  {
   "cell_type": "markdown",
   "metadata": {
    "slideshow": {
     "slide_type": "slide"
    }
   },
   "source": [
    "##### Iteradores infinitos\n",
    "\n",
    "Iterador | Argumentos | Resultado | Ejemplo\n",
    "---------|------------|-----------|--------\n",
    "count() | start, [step] | start, start+step, start+2\\*step, … | count(10) --> 10 11 12 13 14 ...\n",
    "cycle() | p | p0, p1, … plast, p0, p1, … | cycle('ABCD') --> A B C D A B C D ...\n",
    "repeat() | elem [,n] | elem, elem, elem, … sin fin o hasta n veces | repeat(10, 3) --> 10 10 10\n"
   ]
  },
  {
   "cell_type": "markdown",
   "metadata": {
    "slideshow": {
     "slide_type": "slide"
    }
   },
   "source": [
    "##### Iteradores que terminan en la secuencia de entrada más corta\n",
    "\n",
    "Iterador | Argumentos | Resultado | Ejemplo\n",
    "---------|------------|-----------|--------\n",
    "accumulate() | p [,func]|p0, p0+p1, p0+p1+p2, …|accumulate([1,2,3,4,5]) --> 1 3 6 10 15\n",
    "chain() |p, q, …|p0, p1, … plast, q0, q1, … |chain('ABC', 'DEF') --> A B C D E F\n",
    "chain.from_iterable() |iterable |p0, p1, … plast, q0, q1, … |chain.from_iterable(['ABC', 'DEF']) --> A B C D E F\n",
    "compress() |data, selectors |(d[0] if s[0]), (d[1] if s[1]), … |compress('ABCDEF', [1,0,1,0,1,1]) --> A C E F\n",
    "dropwhile() |pred, seq |seq[n], seq[n+1], emezando cuando pred falle |dropwhile(lambda x: x<5, [1,4,6,4,1]) --> 6 4 1\n",
    "filterfalse() |pred, seq |elementos de seq donde pred(elem) es False | filterfalse(lambda x: x%2, range(10)) --> 0 2 4 6 8\n",
    "groupby() |iterable[, key] |sub-iteradores agrupados por valor de key(v) |\n",
    "islice() |seq, [start,] stop [, step] |elementos de seq[start:stop:step] |islice('ABCDEFG', 2, None) --> C D E F G\n",
    "starmap() |func, seq |func(*seq[0]), func(*seq[1]), … |starmap(pow, [(2,5), (3,2), (10,3)]) --> 32 9 1000\n",
    "takewhile() | pred, seq |seq[0], seq[1], hasta que pred falla |takewhile(lambda x: x<5, [1,4,6,4,1]) --> 1 4\n",
    "tee() |it, n |it1, it2, … itn divide un iterador en n | \n",
    "zip_longest() |p, q, … |(p[0], q[0]), (p[1], q[1]), … |zip_longest('ABCD', 'xy', fillvalue='-') --> Ax By C- D-\n",
    "\n"
   ]
  },
  {
   "cell_type": "markdown",
   "metadata": {
    "slideshow": {
     "slide_type": "slide"
    }
   },
   "source": [
    "##### Iteradores de combinatoria\n",
    "\n",
    "Iterador | Argumentos | Resultado | Ejemplo\n",
    "---------|------------|-----------|--------\n",
    "product() |p, q, … [repeat=1] | producto cartesianso, equivalente a un bucle for anidado | product('ABCD', repeat=2) --> AA AB AC AD BA BB BC BD CA CB CC CD DA DB DC DD\n",
    "permutations() |p[, r] |tuplas de longitud r, con todos los ordenes posibles, sin elementos repetidos | permutations('ABCD', 2) --> AB AC AD BA BC BD CA CB CD DA DB DC\n",
    "combinations() |p, r | tuplas de longitud r, ordenadas, sin elementos repetidos | combinations('ABCD', 2) --> AB AC AD BC BD CD\n",
    "combinations_with_replacement()|p, r|tuplas de longitud r, ordenadas, con elementos repetidos | combinations_with_replacement('ABCD', 2) --> AA AB AC AD BB BC BD CC CD DD\n"
   ]
  },
  {
   "cell_type": "markdown",
   "metadata": {
    "slideshow": {
     "slide_type": "slide"
    }
   },
   "source": [
    "\n",
    "### Generadores\n",
    "\n",
    "Los generadores son herramientas simples y sencillas para crear iteradores. Un generador se escribe igual que cualquier función, sólo que se usa la instrucción `yield` para devolver los datos, de forma que un **generador produce una secuencia de datos en vez de un valor único**."
   ]
  },
  {
   "cell_type": "code",
   "execution_count": null,
   "metadata": {
    "slideshow": {
     "slide_type": "slide"
    }
   },
   "outputs": [],
   "source": [
    "def countdown(n):\n",
    "    while n > 0:\n",
    "        yield n\n",
    "        n -= 1\n",
    "\n",
    "\n",
    "for i in countdown(10):\n",
    "    print(i)"
   ]
  },
  {
   "cell_type": "markdown",
   "metadata": {
    "slideshow": {
     "slide_type": "slide"
    }
   },
   "source": [
    "Cuando se llama a una función generador, en realidad no se está ejecutando el código, si no que está creando un objeto generador. No se ejecuta hasta que se llama a la función `next()` con el objeto generador."
   ]
  },
  {
   "cell_type": "code",
   "execution_count": null,
   "metadata": {
    "slideshow": {
     "slide_type": "slide"
    }
   },
   "outputs": [],
   "source": [
    "def countdown(n):\n",
    "    print(\"Cuenta atrás desde:\", n)\n",
    "    while n > 0:\n",
    "        yield n\n",
    "        n -= 1\n",
    "\n",
    "x = countdown(10)\n",
    "print(x)\n",
    "next(x)"
   ]
  },
  {
   "cell_type": "markdown",
   "metadata": {
    "slideshow": {
     "slide_type": "slide"
    }
   },
   "source": [
    "## 18. Collections, módulo de collections."
   ]
  },
  {
   "cell_type": "markdown",
   "metadata": {
    "slideshow": {
     "slide_type": "fragment"
    }
   },
   "source": [
    "El módulo `collections` implementa contenedores especializados para ser usados como alternativas a los contenedores multipropósito que ofrece Python, como `dict`, `list`, `set` y `tuple` que hemos visto anteriormente."
   ]
  },
  {
   "cell_type": "markdown",
   "metadata": {
    "slideshow": {
     "slide_type": "slide"
    }
   },
   "source": [
    "\n",
    "### Objetos `Counter`\n",
    "\n",
    "Un objeto `Counter` es una subclase de `dict` para contar objetos. Es una colección no ordenada donde los elementos son almacenados como claves de diccionario y sus cuentas como los valores de esas claves.\n",
    "\n",
    "\n"
   ]
  },
  {
   "cell_type": "code",
   "execution_count": null,
   "metadata": {
    "slideshow": {
     "slide_type": "slide"
    }
   },
   "outputs": [],
   "source": [
    "import collections\n",
    "\n",
    "c = collections.Counter()\n",
    "c = collections.Counter(\"gandalf\")\n",
    "c = collections.Counter({'red': 4, 'blue': 2})\n",
    "c = collections.Counter(cats=4, dogs=8)"
   ]
  },
  {
   "cell_type": "markdown",
   "metadata": {
    "slideshow": {
     "slide_type": "slide"
    }
   },
   "source": [
    "Se puede acceder a la cuenta como si se tratara de un diccionario, pero en vez de dar una excepción cuando no existe un elemento, devuelve 0."
   ]
  },
  {
   "cell_type": "code",
   "execution_count": null,
   "metadata": {
    "slideshow": {
     "slide_type": "fragment"
    }
   },
   "outputs": [],
   "source": [
    "print(\"Gatos:\", c['cats'])\n",
    "print(\"Hamsters:\", c['hamsters'])"
   ]
  },
  {
   "cell_type": "markdown",
   "metadata": {
    "slideshow": {
     "slide_type": "slide"
    }
   },
   "source": [
    "#### Métodos\n",
    "\n",
    "A los métodos que tiene `dict`, `Counter` añade los siguientes.\n",
    "\n",
    "`elements()`\n",
    "\n",
    "Devuelve un iterador sobre los elementos, repetidos tantas veces como su cuenta. Los elementos se devuelven en un orden arbitrario, y si su cuenta es menor que 1, se ingora.\n",
    "\n",
    "`most_common([n])`\n",
    "\n",
    "Devuelve la lista de los *n* elementos más comunes y sus cuentas. Si se omite el parámetro *n* se muestran todos los elementos.\n",
    "\n",
    "` subtract([iterable-or-mapping])`\n",
    "\n",
    "Elimina de las cuentas `Counter` tantos elementos como aparezcan en el iterable pasado por parámetro."
   ]
  },
  {
   "cell_type": "markdown",
   "metadata": {
    "slideshow": {
     "slide_type": "slide"
    }
   },
   "source": [
    "### Objetos `deque`\n",
    "\n",
    "Un objeto `deque` es una generalización de pilas y colas, y soportan operaciones de inserción y de eliminación eficientes y seguras desde cualquier lado de la cola.\n",
    "\n",
    "La lista soporta operaciones similares, pero por ejemplo, el coste de insertar un elemento en el principio es de *O(n)*, mientras que en un objeto de `deque` es aproximadamente de *O(1)*."
   ]
  },
  {
   "cell_type": "code",
   "execution_count": null,
   "metadata": {
    "slideshow": {
     "slide_type": "slide"
    }
   },
   "outputs": [],
   "source": [
    "import collections\n",
    "\n",
    "d = collections.deque('bcd')\n",
    "for elem in d:\n",
    "    print(elem)"
   ]
  },
  {
   "cell_type": "markdown",
   "metadata": {
    "slideshow": {
     "slide_type": "slide"
    }
   },
   "source": [
    "#### Métodos\n",
    "\n",
    "\n",
    "`append(x)`\n",
    "\n",
    "Añade `x` al lado derecho del `deque`.\n",
    "\n",
    "`appendleft(x)`\n",
    "\n",
    "Añade `x` al lado izquierdo del `deque`.\n",
    "\n",
    "`clear()`\n",
    "\n",
    "Borra todos los elementos.\n",
    "\n",
    "`copy()`\n",
    "\n",
    "Crea una copia.\n",
    "\n",
    "`count(x)`\n",
    "\n",
    "Cuenta los elementos que sean igual a `x`.\n"
   ]
  },
  {
   "cell_type": "markdown",
   "metadata": {
    "slideshow": {
     "slide_type": "subslide"
    }
   },
   "source": [
    "`extend(iterable)`\n",
    "\n",
    "Extiende por el lado derecho añadiendo los elementos del iterable pasado por argumento.\n",
    "\n",
    "`extendleft(iterable)`\n",
    "\n",
    "Extiende por el lado izquierdo añadiendo los elementos del iterable pasado por argumento.\n",
    "\n",
    "`index(x[, start[, stop]])`\n",
    "\n",
    "Devuelve la posicion del primer elemento `x` que encuentre.\n",
    "\n",
    "`insert(i, x)`\n",
    "\n",
    "Inserta `x` en la posición `i`.\n",
    "\n",
    "`pop()`\n",
    "\n",
    "Elimina y devuelve el primer lemento del lado derecho.\n",
    "\n",
    "`popleft()`\n",
    "\n",
    "Elimina y devuelve el primer lemento del lado izquierdo."
   ]
  },
  {
   "cell_type": "markdown",
   "metadata": {
    "slideshow": {
     "slide_type": "subslide"
    }
   },
   "source": [
    "`remove(x)`\n",
    "\n",
    "Borra el primer elemento que sea igual a `x`.\n",
    "\n",
    "`reverse()`\n",
    "\n",
    "Da la vuelta al orden de los elementos.\n",
    "\n",
    "`rotate(n=1)`\n",
    "\n",
    "Rota los elementos `n` pasos a la derecha. Si `n` es negativo, rota a la izquierda.\n",
    "\n"
   ]
  },
  {
   "cell_type": "code",
   "execution_count": null,
   "metadata": {
    "slideshow": {
     "slide_type": "slide"
    }
   },
   "outputs": [],
   "source": [
    "d.append('e')\n",
    "d.appendleft('a')\n",
    "print(d)\n",
    "\n",
    "d.rotate(1)\n",
    "print(d)\n",
    "\n",
    "d.rotate(-1)\n",
    "print(d)"
   ]
  },
  {
   "cell_type": "markdown",
   "metadata": {
    "slideshow": {
     "slide_type": "slide"
    }
   },
   "source": [
    "### Objetos `defaultdict`\n",
    "\n",
    "Un objeto `defaultdict` es una subclase de `dict`, con la diferencia de que en el constructot se le puede pasar un objeto clase que será utilizado para inicializar el diccionario en caso de que se trate de acceder a una clave que no exista en ese momento."
   ]
  },
  {
   "cell_type": "code",
   "execution_count": null,
   "metadata": {
    "slideshow": {
     "slide_type": "slide"
    }
   },
   "outputs": [],
   "source": [
    "import collections\n",
    "\n",
    "sample = [('yellow', 1), ('blue', 2), ('yellow', 3), ('blue', 4), ('red', 1)]\n",
    "d = collections.defaultdict(list)\n",
    "\n",
    "for key, value in sample:\n",
    "    d[key].append(value)\n",
    "    \n",
    "print(d)"
   ]
  },
  {
   "cell_type": "code",
   "execution_count": null,
   "metadata": {
    "slideshow": {
     "slide_type": "slide"
    }
   },
   "outputs": [],
   "source": [
    "def constant_factory(value):\n",
    "    return lambda: value\n",
    "\n",
    "d = collections.defaultdict(constant_factory('<missing>'))\n",
    "d.update(name='John', action='ran')\n",
    "\n",
    "print('{} {} to {}'.format(d['name'], d['action'], d['object']))"
   ]
  },
  {
   "cell_type": "markdown",
   "metadata": {
    "slideshow": {
     "slide_type": "slide"
    }
   },
   "source": [
    "### Objetos `namedtuple`\n",
    "\n",
    "El objeto `namedtuple` es una factoría que devuelve una subclase de `tuple`, con el nombre que se le indica por parámetro. La nueva subclase tiene campos que son accesibles como si fueran atributos de una clase.\n"
   ]
  },
  {
   "cell_type": "code",
   "execution_count": null,
   "metadata": {
    "slideshow": {
     "slide_type": "slide"
    }
   },
   "outputs": [],
   "source": [
    "import collections\n",
    "\n",
    "\n",
    "Point = collections.namedtuple('Point', ['x', 'y'])\n",
    "p = Point(11, y=22) \n",
    "print(p[0] + p[1])\n",
    "\n",
    "x, y = p\n",
    "print(x, y)\n",
    "\n",
    "print(p.x + p.y )\n",
    "\n",
    "print(p)"
   ]
  },
  {
   "cell_type": "markdown",
   "metadata": {
    "slideshow": {
     "slide_type": "slide"
    }
   },
   "source": [
    "### Objetos `OrderedDict`\n",
    "\n",
    "Los objetos `OrderedDict` son como los diccionarios normales pero conservando el orden en el que los elementos fueron añadidos al diccionarios. Cuando se itera sobre un diccionario ordenado, los elementos se devuelven en el orden que fueron añadidos."
   ]
  },
  {
   "cell_type": "code",
   "execution_count": null,
   "metadata": {
    "slideshow": {
     "slide_type": "slide"
    }
   },
   "outputs": [],
   "source": [
    "import collections\n",
    "\n",
    "\n",
    "d = {'banana': 3, 'apple': 4, 'pear': 1, 'orange': 2}\n",
    "\n",
    "od = collections.OrderedDict(sorted(d.items(), key=lambda t: t[0]))\n",
    "print(od)\n",
    "\n",
    "od = collections.OrderedDict(sorted(d.items(), key=lambda t: t[1]))\n",
    "print(od)\n",
    "\n",
    "od = collections.OrderedDict(sorted(d.items(), key=lambda t: len(t[0])))\n",
    "print(od)\n"
   ]
  },
  {
   "cell_type": "markdown",
   "metadata": {
    "slideshow": {
     "slide_type": "slide"
    }
   },
   "source": [
    "## 19. Logging, el módulo de logging\n"
   ]
  },
  {
   "cell_type": "markdown",
   "metadata": {
    "slideshow": {
     "slide_type": "slide"
    }
   },
   "source": [
    "El módulo de `logging` es parte de Python desde la versión 2.3, y sirve a varios propósitos:\n",
    "\n",
    "- Registro de eventos relacionados con las operaciones de la aplicación para su diagnóstico.\n",
    "- Registrar eventos para el análisis de negocio.\n",
    "- Mostrar información, alternativa a `print`."
   ]
  },
  {
   "cell_type": "markdown",
   "metadata": {
    "slideshow": {
     "slide_type": "slide"
    }
   },
   "source": [
    "\n",
    "En general, `print` sólo es mejor que `logging` cuando el objetivo es mostrar información de ayuda en una aplicación de línea de comandos. Pero en general, las razones por las que `logging` es mejor que `print` son:\n",
    "\n",
    "- El registro de log contiene información como el nombre del fichero, su ruta, la función desde donde se llama, y la línea del evento de logging.\n",
    "- Los eventos de los módulos que se incluyen son automaticamente accesibles desde el logger raíz.\n",
    "- El logging puede ser silenciado de forma selectiva."
   ]
  },
  {
   "cell_type": "code",
   "execution_count": null,
   "metadata": {
    "slideshow": {
     "slide_type": "slide"
    }
   },
   "outputs": [],
   "source": [
    "import logging\n",
    "\n",
    "logging.warning('Watch out!')\n",
    "logging.info('I told you so')"
   ]
  },
  {
   "cell_type": "markdown",
   "metadata": {
    "slideshow": {
     "slide_type": "slide"
    }
   },
   "source": [
    "Hay por lo menos tres formas de configurar un logger:\n",
    "\n",
    "- Usando un fichero INI.\n",
    "    - **Pro**: Es posible actualizar la configuración durante la ejecución.\n",
    "    - **Contra**: Menos control que cuando se confiugra en código.\n",
    "- Usando un diccionario o un fichero con formato JSON.\n",
    "    - **Pro**: Además de poder actualizar la configuración durante la ejecución, es posible cargarla desde un fichero usando el módulo `json`.\n",
    "    - **Crontra**: Menos control que cuando configuras con código.\n",
    "- Usando código.\n",
    "    - **Pro**: Completo control de la configuración\n",
    "    - **Contra**: Las modificaciones requieren modificar el código fuente"
   ]
  },
  {
   "cell_type": "markdown",
   "metadata": {
    "slideshow": {
     "slide_type": "slide"
    }
   },
   "source": [
    "### Configuración vía fichero INI\n",
    "\n",
    "Supongamos que tenemos el fichero `logging_config.ini` con la siguiente configuración para el logging.\n",
    "\n",
    "```ini\n",
    "[loggers]\n",
    "keys=root\n",
    "\n",
    "[handlers]\n",
    "keys=stream_handler\n",
    "\n",
    "[formatters]\n",
    "keys=formatter\n",
    "\n",
    "[logger_root]\n",
    "level=DEBUG\n",
    "handlers=stream_handler\n",
    "\n",
    "[handler_stream_handler]\n",
    "class=StreamHandler\n",
    "level=DEBUG\n",
    "formatter=formatter\n",
    "args=(sys.stderr,)\n",
    "\n",
    "[formatter_formatter]\n",
    "format=%(asctime)s %(name)-12s %(levelname)-8s %(message)s\n",
    "```\n",
    "\n",
    "Podemos usar `logging.config.fileConfig()` en el código."
   ]
  },
  {
   "cell_type": "code",
   "execution_count": null,
   "metadata": {
    "slideshow": {
     "slide_type": "slide"
    }
   },
   "outputs": [],
   "source": [
    "import logging\n",
    "from logging.config import fileConfig\n",
    "\n",
    "\n",
    "fileConfig('logging_config.ini')\n",
    "logger = logging.getLogger()\n",
    "logger.debug('often makes a very good meal of %s', 'visiting tourists')"
   ]
  },
  {
   "cell_type": "markdown",
   "metadata": {
    "slideshow": {
     "slide_type": "slide"
    }
   },
   "source": [
    "### Configuración vía diccionario"
   ]
  },
  {
   "cell_type": "code",
   "execution_count": null,
   "metadata": {
    "slideshow": {
     "slide_type": "slide"
    }
   },
   "outputs": [],
   "source": [
    "import logging\n",
    "from logging.config import dictConfig\n",
    "\n",
    "\n",
    "logging_config = dict(\n",
    "    version = 1,\n",
    "    formatters = {\n",
    "        'f': {'format': '%(asctime)s %(name)-12s %(levelname)-8s %(message)s'}\n",
    "    },\n",
    "    handlers = {\n",
    "        'h': {\n",
    "                'class': 'logging.StreamHandler',\n",
    "                'formatter': 'f',\n",
    "                'level': logging.DEBUG\n",
    "        }\n",
    "    },\n",
    "    root = {\n",
    "        'handlers': ['h'],\n",
    "        'level': logging.DEBUG,\n",
    "    },\n",
    ")\n",
    "\n",
    "dictConfig(logging_config)\n",
    "\n",
    "logger = logging.getLogger()\n",
    "logger.debug('often makes a very good meal of %s', 'visiting tourists')\n"
   ]
  },
  {
   "cell_type": "markdown",
   "metadata": {
    "slideshow": {
     "slide_type": "slide"
    }
   },
   "source": [
    "### Configuración en código"
   ]
  },
  {
   "cell_type": "code",
   "execution_count": null,
   "metadata": {
    "slideshow": {
     "slide_type": "slide"
    }
   },
   "outputs": [],
   "source": [
    "import logging\n",
    "\n",
    "logger = logging.getLogger()\n",
    "logger.handlers = []\n",
    "\n",
    "handler = logging.StreamHandler()\n",
    "formatter = logging.Formatter('%(asctime)s %(name)-12s %(levelname)-8s %(message)s')\n",
    "handler.setFormatter(formatter)\n",
    "logger.addHandler(handler)\n",
    "logger.setLevel(logging.DEBUG)\n",
    "\n",
    "logger.debug('often makes a very good meal of %s', 'visiting tourists')"
   ]
  },
  {
   "cell_type": "markdown",
   "metadata": {
    "slideshow": {
     "slide_type": "slide"
    }
   },
   "source": [
    "## Ejercicios"
   ]
  },
  {
   "cell_type": "markdown",
   "metadata": {
    "slideshow": {
     "slide_type": "slide"
    }
   },
   "source": [
    "### Decorador para medir tiempos\n",
    "\n",
    "Python tiene muchos módulos estándar muy útiles, uno de ellos es el módulo `time`, que proporciona funciones para la gestión del tiempo.\n",
    "\n",
    "La función más sencilla sería obtener el timestamp actual."
   ]
  },
  {
   "cell_type": "code",
   "execution_count": null,
   "metadata": {
    "slideshow": {
     "slide_type": "fragment"
    }
   },
   "outputs": [],
   "source": [
    "import time\n",
    "\n",
    "time.time()"
   ]
  },
  {
   "cell_type": "markdown",
   "metadata": {
    "slideshow": {
     "slide_type": "fragment"
    }
   },
   "source": [
    "El objetivo de este ejercicio es desarrollar un decorador que permita medir el tiempo que tarda en ejecutarse los métodos de una clase y que el resultado se pueda mostrar o por pantalla o pueda ser guardado en un fichero."
   ]
  },
  {
   "cell_type": "code",
   "execution_count": null,
   "metadata": {
    "slideshow": {
     "slide_type": "slide"
    }
   },
   "outputs": [],
   "source": []
  },
  {
   "cell_type": "markdown",
   "metadata": {
    "slideshow": {
     "slide_type": "slide"
    }
   },
   "source": [
    "### Decorador para medir tiempos todos los métodos de clase\n",
    "\n",
    "Usando el decorador anterior, crea un decorador que pueda ser usado para medir los tiempos de todos los métodos de una clase."
   ]
  },
  {
   "cell_type": "markdown",
   "metadata": {
    "slideshow": {
     "slide_type": "slide"
    }
   },
   "source": [
    "### Decorador con logger\n",
    "\n",
    "Cambia el decorador para que use un `logger` en vez de un `print` o un fichero para mostrar la información."
   ]
  },
  {
   "cell_type": "markdown",
   "metadata": {
    "slideshow": {
     "slide_type": "slide"
    }
   },
   "source": [
    "### Fibonacci como un generador\n",
    "\n",
    "El objetivo de este ejercicio es reescribir la funcíon de Fibonacci para que genere de forma infinita todos los números de esta secuencia."
   ]
  },
  {
   "cell_type": "code",
   "execution_count": null,
   "metadata": {
    "slideshow": {
     "slide_type": "slide"
    }
   },
   "outputs": [],
   "source": []
  },
  {
   "cell_type": "markdown",
   "metadata": {
    "slideshow": {
     "slide_type": "slide"
    }
   },
   "source": [
    "### Palabras más frecuentes (2)\n",
    "Cambia el código para obtener las palabras más frecuentes de La Isla del Tesoro para usar un objeto `Counter`."
   ]
  },
  {
   "cell_type": "code",
   "execution_count": null,
   "metadata": {
    "slideshow": {
     "slide_type": "slide"
    }
   },
   "outputs": [],
   "source": []
  },
  {
   "cell_type": "markdown",
   "metadata": {
    "slideshow": {
     "slide_type": "slide"
    }
   },
   "source": [
    "### Actualización de simulador de notificaciones (1)\n",
    "\n",
    "Cambia el código desarrollado en el ejercicio del simulador de notificaciones para que la bandeja de entrada del usuario funcione con un `OrderedDict` indexando con el código del mensaje y ordenado según la fecha de entrega."
   ]
  },
  {
   "cell_type": "markdown",
   "metadata": {
    "slideshow": {
     "slide_type": "slide"
    }
   },
   "source": [
    "### Actualización de simulador de notificaciones (2)\n",
    "\n",
    "Añade al simulador de notificaciones información de logging para poder visualizar cuándo se recibe un mensaje y cuándo lo abre un usuario y cuando falla un envío."
   ]
  }
 ],
 "metadata": {
  "celltoolbar": "Slideshow",
  "kernelspec": {
   "display_name": "Python 3",
   "language": "python",
   "name": "python3"
  },
  "language_info": {
   "codemirror_mode": {
    "name": "ipython",
    "version": 3
   },
   "file_extension": ".py",
   "mimetype": "text/x-python",
   "name": "python",
   "nbconvert_exporter": "python",
   "pygments_lexer": "ipython3",
   "version": "3.8.2"
  }
 },
 "nbformat": 4,
 "nbformat_minor": 2
}
