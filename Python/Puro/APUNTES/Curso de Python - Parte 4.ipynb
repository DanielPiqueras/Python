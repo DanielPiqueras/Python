{
 "cells": [
  {
   "cell_type": "markdown",
   "metadata": {
    "slideshow": {
     "slide_type": "slide"
    }
   },
   "source": [
    "# Curso de Python - Parte 4"
   ]
  },
  {
   "cell_type": "markdown",
   "metadata": {
    "slideshow": {
     "slide_type": "slide"
    }
   },
   "source": [
    "## 20. Gestión y operaciones de fechas y horas en Python"
   ]
  },
  {
   "cell_type": "markdown",
   "metadata": {
    "slideshow": {
     "slide_type": "fragment"
    }
   },
   "source": [
    "El módulo `datetime` proporciona clases y métodos para manipular fechas y horas, de formas sencillas y complejas. Aunque la aritmética de fechas y horas está soportada, el objetivo principal de la implementación está en la extracción eficiente de atributos para ser formateados y manipulados."
   ]
  },
  {
   "cell_type": "markdown",
   "metadata": {
    "slideshow": {
     "slide_type": "slide"
    }
   },
   "source": [
    "Existen dos tipos de objetos de fechas y hora:\n",
    "\n",
    "- **aware**, que contiene la suficiente información para aplicar ajustes algorítmicos y políticos, como la zona horaria. Un objeto *awar* se usa para representar un momento específico en el tiempo y no está abierto a interpretación.\n",
    "\n",
    "- **naive**, que no contiene la suficiente información para localizarse de forma relativa a otra fecha/hora. Si un objeto *naive* representa una hora en UTC, en hora local u otra zona horaria, depende enteramente de la interpretación del programa.\n"
   ]
  },
  {
   "cell_type": "markdown",
   "metadata": {
    "slideshow": {
     "slide_type": "slide"
    }
   },
   "source": [
    "### Sobre las zonas horarias\n",
    "\n",
    "Para los objetos de fecha y/o hora *aware* tienen un atributo opcional llamado `tzinfo` que puede tomar el valor de cualquier clase que herede de la clase `tzinfo`.\n",
    "\n",
    "Esta clase `tzinfo` contiene información sobre el desplazamiento de la hora respecto a la zona UTC, el nombre de la zona horaria, cuando se aplica el horario de verano.\n",
    "\n",
    "El módulo `datetime` sólo proporciona una clase `timezone` que herede de `tzinfo`. Esta clase representa las zonas horarias que simplemente tienen una diferencia fija con UTC, como la propia UTC, North American EST y las zonas horarias EDT."
   ]
  },
  {
   "cell_type": "markdown",
   "metadata": {
    "slideshow": {
     "slide_type": "slide"
    }
   },
   "source": [
    "### Tipos de fechas y horas\n",
    "\n",
    "Todas las clases definidas en `datetime` son inmutables.\n",
    "\n",
    "**`datetime.date`**\n",
    "\n",
    "Fecha *naive* idealizada, asumiendo que el calendario Gregoriano siempre ha sido y será aplicado. Tiene como atributos: `year`, `month` y `day`.\n",
    "\n",
    "**`datetime.time`**\n",
    "\n",
    "Una hora idealizada, independiente de cualquier día en particular, asumiendo que todos los días tienen exactamente 24\\*60\\*60 segundos. Tiene como atributos: `hour`, `minute`, `second`, `microsecond` y `tzinfo`.\n",
    "\n",
    "**`datetime.datetime`**\n",
    "\n",
    "Una combinación de fecha y hora. Tiene como atributos: `year`, `month`, `day`, `hour`, `minute`, `second`, `microsecond` y `tzinfo`."
   ]
  },
  {
   "cell_type": "markdown",
   "metadata": {
    "slideshow": {
     "slide_type": "slide"
    }
   },
   "source": [
    "**`datetime.timedelta`**\n",
    "\n",
    "Una duración que expresa la diferencia entre dos objetos `date`, `time` o `datetime`, con resolución de microsegundos.\n",
    "\n",
    "**`datetime.tzinfo`**\n",
    "\n",
    "Una clase base para representar objetos con información sobre zonas horarias. Estas se usan por las clases `datetime`y `time` para proporcionar una noción de ajuste temporal.\n",
    "\n",
    "**`datetime.timezone`**\n",
    "\n",
    "Una clase que implementa la clase `tzinfo` como una diferencia fija con UTC."
   ]
  },
  {
   "cell_type": "markdown",
   "metadata": {
    "slideshow": {
     "slide_type": "slide"
    }
   },
   "source": [
    "### `datetime.timedelta`\n",
    "\n",
    "Representa un intervalo de tiempo, una difenrencia entre dos objetos `date`, `time` o `datetime`.\n",
    "\n",
    "Se crea usando `datetime.timedelta(days=0, seconds=0, microseconds=0, milliseconds=0, minutes=0, hours=0, weeks=0)`.\n",
    "\n",
    "\n",
    "Sólo los días, segundos y microsegundos se guardan internamente."
   ]
  },
  {
   "cell_type": "code",
   "execution_count": null,
   "metadata": {
    "slideshow": {
     "slide_type": "fragment"
    }
   },
   "outputs": [],
   "source": [
    "import datetime\n",
    "\n",
    "\n",
    "datetime.timedelta(hours=1)"
   ]
  },
  {
   "cell_type": "markdown",
   "metadata": {
    "slideshow": {
     "slide_type": "slide"
    }
   },
   "source": [
    "#### Métodos de `datetime.timedelta`\n",
    "\n",
    "`timedelta.total_seconds()`\n",
    "\n",
    "Devuelve el número total de segundos contenidos en la duración."
   ]
  },
  {
   "cell_type": "markdown",
   "metadata": {
    "slideshow": {
     "slide_type": "slide"
    }
   },
   "source": [
    "### `datetime.date`\n",
    "\n",
    "Un objeto `date` representa una fecha, año, mes y día, en el calendario Gregoriano.\n",
    "\n",
    "Se crea usando `datetime.date(year, month, day)`, donde\n",
    "\n",
    "- Todos los atributos son obligatorios,\n",
    "- han de estar en el siguiente rango:\n",
    "    - MINYEAR <= year <= MAXYEAR\n",
    "    - 1 <= month <= 12\n",
    "    - 1 <= day <= número de días en el mes del año dado\n",
    "\n"
   ]
  },
  {
   "cell_type": "code",
   "execution_count": null,
   "metadata": {
    "slideshow": {
     "slide_type": "fragment"
    }
   },
   "outputs": [],
   "source": [
    "import datetime\n",
    "\n",
    "\n",
    "a_date = datetime.date(1955, 3, 2)\n",
    "print(a_date)"
   ]
  },
  {
   "cell_type": "markdown",
   "metadata": {
    "slideshow": {
     "slide_type": "slide"
    }
   },
   "source": [
    "#### Métodos de clase `datetime.date`\n",
    "\n",
    "`date.today()`\n",
    "\n",
    "Obtiene la fecha actual.\n",
    "\n",
    "`date.fromtimestamp(timestamp)`\n",
    "\n",
    "Obtiene una fecha a partir de un *POSIX timestamp*."
   ]
  },
  {
   "cell_type": "code",
   "execution_count": null,
   "metadata": {
    "slideshow": {
     "slide_type": "slide"
    }
   },
   "outputs": [],
   "source": [
    "import time\n",
    "import datetime\n",
    "\n",
    "print(datetime.date.today())\n",
    "print(datetime.date.fromtimestamp(time.time()))"
   ]
  },
  {
   "cell_type": "markdown",
   "metadata": {
    "slideshow": {
     "slide_type": "slide"
    }
   },
   "source": [
    "#### Métodos de instancia `datetime.date`\n",
    "\n",
    "`date.replace(year=self.year, month=self.month, day=self.day)`\n",
    "\n",
    "Devuelve una fecha con el mismo valor, excepto por aquellos parámetros a los que se les haya dado valor, que reemplazarán los correspondientes a la fecha.\n",
    "\n",
    "`date.strftime(format)`\n",
    "\n",
    "Devuelve una cadena de texto con la fecha en un formato concreto, indicado en el parámetro `format`.\n",
    " \n",
    "`date.weekday()`\n",
    "\n",
    "Devuelve el día de la semana como un entero, siendo lunes el 0 y domingo el 6.\n",
    "\n",
    "`date.isoweekday()`\n",
    "\n",
    "Devuelve el día de la semana como un entero, siendo lunes el 1 y domingo el 7."
   ]
  },
  {
   "cell_type": "code",
   "execution_count": null,
   "metadata": {
    "slideshow": {
     "slide_type": "slide"
    }
   },
   "outputs": [],
   "source": [
    "import time\n",
    "from datetime import date\n",
    "\n",
    "\n",
    "today = date.today()\n",
    "\n",
    "# Cálculo de días hasta un próximo evento\n",
    "my_birthday = date(today.year, 1, 27)\n",
    "if my_birthday < today:\n",
    "    my_birthday = my_birthday.replace(year=today.year + 1)\n",
    "\n",
    "time_to_birthday = abs(my_birthday - today)\n",
    "print(time_to_birthday.days)"
   ]
  },
  {
   "cell_type": "markdown",
   "metadata": {
    "slideshow": {
     "slide_type": "slide"
    }
   },
   "source": [
    "### `datetime.datetime`\n",
    "\n",
    "Un objeto `datetime` es un objeto que contiene toda la informaicón de un objeto `date` y `time`. Asume que el calendario Gregoriano se extiende en ambas direcciones de forma indefinida, y asyme que un día tiene exactamente 24\\*60\\*60 segundos.\n",
    "\n",
    "`datetime.datetime(year, month, day, hour=0, minute=0, second=0, microsecond=0, tzinfo=None, *, fold=0)`\n",
    "\n",
    "- MINYEAR <= year <= MAXYEAR,\n",
    "- 1 <= month <= 12,\n",
    "- 1 <= day <= número de días en el mes del año dado,\n",
    "- 0 <= hour < 24,\n",
    "- 0 <= minute < 60,\n",
    "- 0 <= second < 60,\n",
    "- 0 <= microsecond < 1000000,\n",
    "- fold en [0, 1].\n"
   ]
  },
  {
   "cell_type": "markdown",
   "metadata": {
    "slideshow": {
     "slide_type": "slide"
    }
   },
   "source": [
    "#### Métodos de clase `datetime.datetime`\n",
    "\n",
    "`datetime.today()`\n",
    "\n",
    "Devuelve la fecha y hora local, con el atributo `tzinfo` a `None`.\n",
    "\n",
    "`datetime.now(tz=None)`\n",
    "\n",
    "Devuelve la fecha y hora local. Si el parámetro opcional `tz` no está especificado, funciona igual que `today`, pero si se da el parámetro `tz` y es una instancia que hereda de `tzinfo`, entonces la fecha y hora local se convierten a la zona horaria `tz`.\n",
    "\n",
    "`datetime.utcnow()`\n",
    "\n",
    "Devuelve la fecha y hora local en UTC como un objeto *naive*.\n",
    "\n",
    "`datetime.fromtimestamp(timestamp, tz=None)`\n",
    "\n",
    "Devuelve la fecha y hora local correspondiente al *POSIX timestamp* dado por parámetro. Si el parámetro opcional `tz` no se especifica, el timestamp se convierte a la fecha y hora local. Si se especifica, se convierte a la fecha y hora de la zona horaria indicada.\n"
   ]
  },
  {
   "cell_type": "markdown",
   "metadata": {
    "slideshow": {
     "slide_type": "slide"
    }
   },
   "source": [
    "`datetime.utcfromtimestamp(timestamp)`\n",
    "\n",
    "Devuelve la fecha y hora UTC correspondiente al *POSIX timestamp* indicado.\n",
    "\n",
    "`datetime.combine(date, time, tzinfo=self.tzinfo)`\n",
    "\n",
    "Devuelve un nuevo objeto `datetime` cuyo componente de fecha es igual al objeto `date` dado por parámetro, y el componente de hora es igual al objeto `time` dado por parámetro.\n",
    "\n",
    "Si el parámetro `tzinfo` se proporciona, se usará este para el nuevo `datetime`, si no, se tomará el del objeto `time`.\n",
    "\n",
    "`classmethod datetime.strptime(date_string, format)`\n",
    "\n",
    "Devuelve un objeto `datetime` resultado de analizar la cadena `date_string` con el formato `format`.\n"
   ]
  },
  {
   "cell_type": "code",
   "execution_count": null,
   "metadata": {
    "slideshow": {
     "slide_type": "slide"
    }
   },
   "outputs": [],
   "source": [
    "import datetime\n",
    "\n",
    "print(\"Today\", datetime.datetime.today())\n",
    "print(\"Now\", datetime.datetime.now())\n",
    "\n",
    "print(\"UTC Now\", datetime.datetime.now(datetime.timezone.utc))\n",
    "print(\"UTC Now\", datetime.datetime.utcnow())"
   ]
  },
  {
   "cell_type": "markdown",
   "metadata": {
    "slideshow": {
     "slide_type": "slide"
    }
   },
   "source": [
    "#### Métodos de instancia `datetime.datetime`\n",
    "\n",
    "`datetime.date()`\n",
    "\n",
    "Develve un objeto `date` con el mismo año, mes y día.\n",
    "\n",
    "`datetime.time()`\n",
    "\n",
    "Devuelve un objeto `time` con los mismos atributos de hora, minutos, segundos y microsegundos. El campo `tzinfo` será `None`.\n",
    "\n",
    "`datetime.timetz()`\n",
    "\n",
    "Devuelve un objeto `time` con los mismos atributos de hora, minutos, segundos, microsegundos y `tzinfo`.\n"
   ]
  },
  {
   "cell_type": "markdown",
   "metadata": {
    "slideshow": {
     "slide_type": "slide"
    }
   },
   "source": [
    "\n",
    "`datetime.replace(year=self.year, month=self.month, day=self.day, hour=self.hour, minute=self.minute, second=self.second, microsecond=self.microsecond, tzinfo=self.tzinfo, * fold=0)`\n",
    "\n",
    "Devuelve un `datetime` con el mismo valor, excepto por aquellos parámetros a los que se les haya dado valor, que reemplazarán los correspondientes al `datetime`.\n",
    "\n",
    "`datetime.astimezone(tz=None)`\n",
    "\n",
    "Devuelve un objeto `datetime` con un atributo `tzinfo` con el valor dado en `tz`, ajustando el valor de fecha y hora a la zona horaria indicada.\n",
    "\n",
    "\n",
    "`datetime.timestamp()`\n",
    "\n",
    "Devuelve el *POSIX timestamp* correspondiente a la instancia."
   ]
  },
  {
   "cell_type": "markdown",
   "metadata": {
    "slideshow": {
     "slide_type": "slide"
    }
   },
   "source": [
    "`datetime.isoformat(sep='T', timespec='auto')`\n",
    "    \n",
    "Devuelve una cadena de texto representando el objeto `datetime` en el formato ISO 8601, YYYY-MM-DDTHH:MM:SS.mmmmmm, o si el número de microsegundos es 0, YYYY-MM-DDTHH:MM:SS.\n",
    "\n",
    "Si el objeto tiene una zona horaria, añadirá la informacion de la diferencia respecto a UTC: YYYY-MM-DDTHH:MM:SS.mmmmmm+HH:MM o, si microsecond es 0 YYYY-MM-DDTHH:MM:SS+HH:MM\n",
    "\n",
    "El argumento opcional `sep` (por defecto 'T') se corresponde con el carácter separador, situado entre la fecha y la hora.\n",
    "\n",
    "El argumento opcionar `timespec` especifica el número de componentes adicionales que incluirá la hora.\n",
    "\n",
    "- 'auto': lo mismo que 'seconds' si microsegundos es 0, y lo mismo que 'micorseconds' en cualquier otro caso.\n",
    "- 'hours': incluye la hora en formato de dos dígitos.\n",
    "- 'minutes': incluye la hora y los minutos en foramto HH:MM.\n",
    "- 'seconds': incluye la hora, minutos y segundos en formato HH:MM:SS.\n",
    "- 'milliseconds': incluye la hora completa, pero truncando la parte fraccional de los segundos a milisegundos,  en formato HH:MM:SS.sss.\n",
    "- 'microseconds': incluye la hora complete en formato HH:MM:SS.mmmmmm.\n",
    "\n",
    "`datetime.strftime(format)`\n",
    "\n",
    "Devuelve una cadena de texto con la fecha y hora en un formato concreto, indicado en el parámetro `format`.\n"
   ]
  },
  {
   "cell_type": "code",
   "execution_count": null,
   "metadata": {
    "slideshow": {
     "slide_type": "slide"
    }
   },
   "outputs": [],
   "source": [
    "import datetime\n",
    "\n",
    "d = datetime.datetime.now()\n",
    "print(d)\n",
    "print(d.astimezone(datetime.timezone.utc).strftime(\"%Z\"))\n",
    "print(d.isoformat())"
   ]
  },
  {
   "cell_type": "markdown",
   "metadata": {
    "slideshow": {
     "slide_type": "slide"
    }
   },
   "source": [
    "### `datetime.time`\n",
    "\n",
    "Un objeto `time` representa una hora local en un día no determinado.\n",
    "\n",
    "`datetime.time(hour=0, minute=0, second=0, microsecond=0, tzinfo=None, *, fold=0)`\n",
    "\n",
    "\n",
    "- 0 <= hour < 24,\n",
    "- 0 <= minute < 60,\n",
    "- 0 <= second < 60,\n",
    "- 0 <= microsecond < 1000000,\n",
    "- fold en [0, 1].\n"
   ]
  },
  {
   "cell_type": "markdown",
   "metadata": {
    "slideshow": {
     "slide_type": "slide"
    }
   },
   "source": [
    "#### Métodos de instancia `datetime.time`\n",
    "\n",
    "\n",
    "`time.replace(hour=self.hour, minute=self.minute, second=self.second, microsecond=self.microsecond, tzinfo=self.tzinfo, * fold=0)`\n",
    "\n",
    "Devuelve un `time` con el mismo valor, excepto por aquellos parámetros a los que se les haya dado valor, que reemplazarán los correspondientes al `time`.\n",
    "\n",
    "`time.strftime(format)`\n",
    "\n",
    "Devuelve una cadena de texto con la hora en un formato concreto, indicado en el parámetro `format`."
   ]
  },
  {
   "cell_type": "markdown",
   "metadata": {
    "slideshow": {
     "slide_type": "slide"
    }
   },
   "source": [
    "`time.isoformat(timespec='auto')`\n",
    "\n",
    "Devuelve una cadena de texto representando el objeto `time` en el formato ISO 8601, HH:MM:SS.mmmmmm, o si el número de microsegundos es 0, HH:MM:SS.\n",
    "\n",
    "Si el objeto tiene una zona horaria, añadirá la informacion de la diferencia respecto a UTC: HH:MM:SS.mmmmmm+HH:MM o, si microsecond es 0 HH:MM:SS+HH:MM\n",
    "\n",
    "El argumento opcionar `timespec` especifica el número de componentes adicionales que incluirá la hora.\n",
    "\n",
    "- 'auto': lo mismo que 'seconds' si microsegundos es 0, y lo mismo que 'micorseconds' en cualquier otro caso.\n",
    "- 'hours': incluye la hora en formato de dos dígitos.\n",
    "- 'minutes': incluye la hora y los minutos en foramto HH:MM.\n",
    "- 'seconds': incluye la hora, minutos y segundos en formato HH:MM:SS.\n",
    "- 'milliseconds': incluye la hora completa, pero truncando la parte fraccional de los segundos a milisegundos,  en formato HH:MM:SS.sss.\n",
    "- 'microseconds': incluye la hora complete en formato HH:MM:SS.mmmmmm."
   ]
  },
  {
   "cell_type": "code",
   "execution_count": null,
   "metadata": {
    "slideshow": {
     "slide_type": "slide"
    }
   },
   "outputs": [],
   "source": [
    "from datetime import time\n",
    "\n",
    "dt = time(hour=12, minute=34, second=56, microsecond=123456).isoformat(timespec='minutes')\n",
    "print(dt)\n",
    "\n",
    "dt = time(hour=12, minute=34, second=56, microsecond=0)\n",
    "print(dt.isoformat(timespec='microseconds'))\n",
    "\n",
    "print(dt.isoformat(timespec='auto'))\n"
   ]
  },
  {
   "cell_type": "markdown",
   "metadata": {
    "slideshow": {
     "slide_type": "slide"
    }
   },
   "source": [
    "### Formato con `strftime` \n",
    "\n",
    "Todos los objetos que tienen el método `strftime` (y en el método de clase `strptime`) funcionan con la misma especificación de formato. Esta es una tabla de las claves más comunes, pero en [http://strftime.org/](http://strftime.org/) puedes ver una referencia completa.\n"
   ]
  },
  {
   "cell_type": "markdown",
   "metadata": {
    "slideshow": {
     "slide_type": "slide"
    }
   },
   "source": [
    "Código | Significado | Ejemplo\n",
    "-------|-------------|--------\n",
    "`%d` | Día del mes, ajustado a dos cifras | 30\n",
    "`%m` | Mes ajustado a dos cifras | 09\n",
    "`%y` | Año sin siglo, ajustado a dos cifras | 18\n",
    "`%Y` | Año con siglo | 2018\n",
    "`%H` | Hora en reloj de 24 horas | 07\n",
    "`%I` | Hora en reloj 12 horas | 07\n",
    "`%p` | Equivalente local a AM o PM | AM\n",
    "`%M` | Minutos ajustados a dos cifras | 06\n",
    "`%S` | Segundos ajustados a dos cifras | 05\n",
    "`%f` | Microsegunos, ajustados a 6 cifras | 000000\n",
    "`%z` | Diferencia con UTC, en formato +HHMM o -HHMM | -0200\n",
    "`%Z` | Nombre de la zona horaria | UTC"
   ]
  },
  {
   "cell_type": "markdown",
   "metadata": {
    "slideshow": {
     "slide_type": "slide"
    }
   },
   "source": [
    "## 21. Trabajar con ficheros CSV, el módulo `csv`"
   ]
  },
  {
   "cell_type": "markdown",
   "metadata": {
    "slideshow": {
     "slide_type": "fragment"
    }
   },
   "source": [
    "El llamado formato CSV (*Comma Separated Values*) es el formato más común para la importación y exportacion de hojas de cálculo y bases de datos y fue usado durante muchos años antes de su estandarizaicón en el RFC 4180. \n",
    "\n",
    "El módulo `csv` implementa clases para leer y escribir datos en formato CSV. Permite a los programadores escribir en los formatos de CSV especializados de varias aplicaciones indicando los detalles de estos a las clases correspondientes."
   ]
  },
  {
   "cell_type": "markdown",
   "metadata": {
    "slideshow": {
     "slide_type": "slide"
    }
   },
   "source": [
    "`csv.reader(csvfile, dialect='excel', **fmtparams)`\n",
    "\n",
    "Devuelve un objeto `reader` que iterará sobre las líneas del fichero CSV dado en `csvfile`. El parámetro `csvfile` puede ser cualquier objeto que soporta el protocolo de iteración y devuelve una cadena de texto cada que se llama al método `__next__()`.\n",
    "\n",
    "Si este parámetro es un descriptor de fichero, este debe de ser abierto con el parámetro `newline=''`.\n",
    "\n",
    "Se puede indicar un parámetro opcional llamado `dialect` para indicar un dialecto particular de CSV. Puede ser una instancia que sea subclase de `Dialect` o una cadena de texto que indique uno de los dialectos que se soportan por defecto.\n",
    "\n",
    "Los parámetros por nombre dados en `fmtparams` se pueden indicar para sobreescribir los datos del dialecto indicado.\n",
    "\n",
    "Cada fila del fichero CSV se devuelve como una lista de cadenas de texto, **sin realizar ninguna conversión de tipos**.\n"
   ]
  },
  {
   "cell_type": "code",
   "execution_count": null,
   "metadata": {
    "slideshow": {
     "slide_type": "slide"
    }
   },
   "outputs": [],
   "source": [
    "import csv\n",
    "\n",
    "\n",
    "with open('addresses.csv') as csvfile:\n",
    "    addresses_reader = csv.reader(csvfile)\n",
    "    for row in addresses_reader:\n",
    "        print(', '.join(row))"
   ]
  },
  {
   "cell_type": "markdown",
   "metadata": {
    "slideshow": {
     "slide_type": "slide"
    }
   },
   "source": [
    "`csv.writer(csvfile, dialect='excel', **fmtparams)`\n",
    "\n",
    "Devuelve un objeto `writer` responsable de convertir los datos del usuario a cadenals delimitadas en el objeto dado en `csvfile`. Este objeto puede ser cualquier objeto que tenga el método `write()`.\n",
    "\n",
    "Si este parámetro es un descriptor de fichero, este debe de ser abierto con el parámetro `newline=''`.\n",
    "\n",
    "Se puede indicar un parámetro opcional llamado `dialect` para indicar un dialecto particular de CSV. Puede ser una instancia que sea subclase de `Dialect` o una cadena de texto que indique uno de los dialectos que se soportan por defecto.\n",
    "\n",
    "Los parámetros por nombre dados en `fmtparams` se pueden indicar para sobreescribir los datos del dialecto indicado.\n"
   ]
  },
  {
   "cell_type": "code",
   "execution_count": null,
   "metadata": {
    "slideshow": {
     "slide_type": "slide"
    }
   },
   "outputs": [],
   "source": [
    "import csv\n",
    "\n",
    "\n",
    "with open('eggs.csv', 'w', newline='') as csvfile:\n",
    "    spamwriter = csv.writer(csvfile, delimiter=' ', quotechar='|', quoting=csv.QUOTE_MINIMAL)\n",
    "    spamwriter.writerow(['Spam'] * 5 + ['Baked Beans'])\n",
    "    spamwriter.writerow(['Spam', 'Lovely Spam', 'Wonderful Spam'])"
   ]
  },
  {
   "cell_type": "markdown",
   "metadata": {
    "slideshow": {
     "slide_type": "slide"
    }
   },
   "source": [
    "## 22. El módulo `sys`"
   ]
  },
  {
   "cell_type": "markdown",
   "metadata": {
    "slideshow": {
     "slide_type": "fragment"
    }
   },
   "source": [
    "El módulo estándar `sys` es uno de los dos módulos más importantes que tiene Python para la gestión del sistema.\n",
    "\n",
    "En general, este módulo permite interaccionar con componentes relacionados con el interprete de Python que está ejecutando el programa o script."
   ]
  },
  {
   "cell_type": "markdown",
   "metadata": {
    "slideshow": {
     "slide_type": "slide"
    }
   },
   "source": [
    "### Plataforma\n",
    "\n",
    "El módulo `sys` permite obtener la plataforma sobre la que está ejecutando el interprete."
   ]
  },
  {
   "cell_type": "code",
   "execution_count": null,
   "metadata": {
    "slideshow": {
     "slide_type": "fragment"
    }
   },
   "outputs": [],
   "source": [
    "import sys\n",
    "\n",
    "sys.platform"
   ]
  },
  {
   "cell_type": "markdown",
   "metadata": {
    "slideshow": {
     "slide_type": "slide"
    }
   },
   "source": [
    "### Variable `PYTHONPATH`\n",
    "\n",
    "Cuando se realiza un `import` en Python, el interprete busca el paquete o el módulo en todos los directorios que están definidos en la variable de entorno `PYTHONPATH`.\n",
    "\n",
    "El módulo `sys` permite obtener una lista de todos los directorios donde el interprete buscará los paquetes y módulos."
   ]
  },
  {
   "cell_type": "code",
   "execution_count": null,
   "metadata": {
    "slideshow": {
     "slide_type": "fragment"
    }
   },
   "outputs": [],
   "source": [
    "import sys\n",
    "\n",
    "sys.path"
   ]
  },
  {
   "cell_type": "markdown",
   "metadata": {
    "slideshow": {
     "slide_type": "slide"
    }
   },
   "source": [
    "Además de permitir mostar los directorios, también permite editarlos, y añadir nuevas rutas."
   ]
  },
  {
   "cell_type": "code",
   "execution_count": null,
   "metadata": {
    "slideshow": {
     "slide_type": "fragment"
    }
   },
   "outputs": [],
   "source": [
    "import sys\n",
    "\n",
    "sys.path.append(\"/mydir\")\n",
    "sys.path"
   ]
  },
  {
   "cell_type": "markdown",
   "metadata": {
    "slideshow": {
     "slide_type": "slide"
    }
   },
   "source": [
    "### Módulos cargados\n",
    "\n",
    "El módulo `sys` también permite mostar los módulos cargados en el interprete. Al acceder a `sys.modules` tendremos un diccionario cuyas claves son los nombres de los módulos cargados y los valores los objetos que representan esos módulos."
   ]
  },
  {
   "cell_type": "code",
   "execution_count": null,
   "metadata": {
    "slideshow": {
     "slide_type": "fragment"
    }
   },
   "outputs": [],
   "source": [
    "import sys\n",
    "\n",
    "print(sys.modules.keys())\n",
    "sys.modules['sys']"
   ]
  },
  {
   "cell_type": "markdown",
   "metadata": {
    "slideshow": {
     "slide_type": "slide"
    }
   },
   "source": [
    "### Detalles de excepciones\n",
    "\n",
    "Otros atributos del módulo `sys` nos permiten obtener toda la información relacionada con la excepción más reciente que haya lanzado el interprete de Python."
   ]
  },
  {
   "cell_type": "code",
   "execution_count": null,
   "metadata": {
    "slideshow": {
     "slide_type": "fragment"
    }
   },
   "outputs": [],
   "source": [
    "import sys\n",
    "\n",
    "\n",
    "try:\n",
    "    raise IndexError\n",
    "except:\n",
    "    print(sys.exc_info())"
   ]
  },
  {
   "cell_type": "code",
   "execution_count": null,
   "metadata": {
    "slideshow": {
     "slide_type": "slide"
    }
   },
   "outputs": [],
   "source": [
    "import traceback, sys\n",
    "\n",
    "\n",
    "def grail(x):\n",
    "    raise TypeError(\"already got one\")\n",
    "\n",
    "\n",
    "try:\n",
    "    grail(\"arthur\")\n",
    "except:\n",
    "    exc_info = sys.exc_info()\n",
    "    print(exc_info[0])\n",
    "    print(exc_info[1])\n",
    "    traceback.print_tb(exc_info[2])"
   ]
  },
  {
   "cell_type": "markdown",
   "metadata": {
    "slideshow": {
     "slide_type": "slide"
    }
   },
   "source": [
    "### Argumentos en la línea de comandos\n",
    "\n",
    "El módulo `sys` permite acceder a los argumentos que se han introducido por la línea de comandos al ejecutar un módulo como script.\n",
    "\n",
    "Suponiendo que tienes este script:\n",
    "\n",
    "```python\n",
    "#!/usr/bin/env python\n",
    "import sys\n",
    "\n",
    "\n",
    "if __name__ == \"__main__\":\n",
    "    print(\"argv value: \", str(sys.argv))\n",
    "```\n",
    "\n",
    "Al ejecutarlo, tendríamos lo siguiente:\n",
    "\n",
    "```\n",
    "$ ./argv.py\n",
    "argv value:  ['./argv.py']\n",
    "```\n",
    "\n",
    "```\n",
    "$ ./argv.py -c\n",
    "argv value:  ['./argv.py', '-c']\n",
    "```\n",
    "\n",
    "```\n",
    "$ ./argv.py -c foo\n",
    "argv value:  ['./argv.py', '-c', 'foo']\n",
    "```"
   ]
  },
  {
   "cell_type": "markdown",
   "metadata": {
    "slideshow": {
     "slide_type": "slide"
    }
   },
   "source": [
    "### Salida\n",
    "\n",
    "El módulo de `sys` también nos permite salir del programa o script, indicando un código de salida.\n",
    "\n",
    "Suponiendo que tenemos el siguiente script:\n",
    "\n",
    "```python\n",
    "#!/usr/bin/env python\n",
    "import sys\n",
    "\n",
    "\n",
    "if __name__ == \"__main__\":\n",
    "    sys.exit(42)\n",
    "```\n",
    "\n",
    "Al ejecutarlo, podríamos comprobar que la última salida fue 42.\n",
    "\n",
    "```\n",
    "$ echo $?\n",
    "42\n",
    "```"
   ]
  },
  {
   "cell_type": "markdown",
   "metadata": {
    "slideshow": {
     "slide_type": "slide"
    }
   },
   "source": [
    "### *Streams* estándar\n",
    "\n",
    "Los streams estándar son accesibles a través del módulo `sys`.\n",
    "\n",
    "- `sys.stdin`\n",
    "- `sys.stdout`\n",
    "- `sys.stderr`"
   ]
  },
  {
   "cell_type": "markdown",
   "metadata": {
    "slideshow": {
     "slide_type": "slide"
    }
   },
   "source": [
    "## 23. El módulo `os`"
   ]
  },
  {
   "cell_type": "markdown",
   "metadata": {
    "slideshow": {
     "slide_type": "fragment"
    }
   },
   "source": [
    "El módulo `os` es el otro módulo más importante de Python para la gestión del sistema, y el más grande de los dos. \n",
    "\n",
    "Este módulo contiene varibales y funciones que se traducen directamente a variables y funciones del sistema operativo en el que Python se está ejecutando.\n",
    "\n",
    "Este módulo pretende proporcionar una interfaz portable al sistema operativo subyacente. Todas sus funciones estarán implementadas internamente de forma diferente según el sistema, pero para Python parecerán todas iguales en cualquier parte."
   ]
  },
  {
   "cell_type": "markdown",
   "metadata": {
    "slideshow": {
     "slide_type": "slide"
    }
   },
   "source": [
    "Tarea | Herramienta\n",
    "------|------------\n",
    "Varaibles de entorno | `os.environ`\n",
    "Ejecutar programas | `os.system`, `os.popen`, `os.execv`, `os.spawnv`\n",
    "Lanzar procesos | `os.fork`, `os.pipe`, `os.waitpid`, `os.kill`\n",
    "Descriptores de ficheros | `os.open`, `os.read`, `os.write`\n",
    "Proceso de ficheros | `os.remove`, `os.rename`, `os.mkfifo`, `os.mkdir`, `os.rmdir`\n",
    "Herramientas administrativas | `os.getcwd`, `os.chdir`, `os.chmod`, `os.getpid`, `os.listdir`, `os.access`\n",
    "Herramientas de portabilidad | `os.sep`, `os.pathsep`, `os.curdir`, `os.path.split`, `os.path.join`\n",
    "Herramientas de gestión de *paths* | `os.path.exisist('path')`, `os.path.isdir('path')`, `os.path.getsize('path')`"
   ]
  },
  {
   "cell_type": "markdown",
   "metadata": {
    "slideshow": {
     "slide_type": "slide"
    }
   },
   "source": [
    "### Herramientas administrativas\n",
    "\n",
    "El módulo `os` permite obtener el PID del proceso actual, obtener el direcctorio de trabajo actual así como cambiar este directorio de trabajo."
   ]
  },
  {
   "cell_type": "code",
   "execution_count": null,
   "metadata": {
    "slideshow": {
     "slide_type": "fragment"
    }
   },
   "outputs": [],
   "source": [
    "import os\n",
    "\n",
    "print(\"os.getpid()\", os.getpid())\n",
    "print(\"os.getcwd()\", os.getcwd())\n",
    "\n",
    "os.chdir(\"/\")\n",
    "print(\"os.getcwd()\", os.getcwd())"
   ]
  },
  {
   "cell_type": "markdown",
   "metadata": {
    "slideshow": {
     "slide_type": "slide"
    }
   },
   "source": [
    "### Constantes de portabilidad\n",
    "\n",
    "El módulo `os` también nos permite acceder a constnates que contienen los caracteres concretos que cada sistema operativo utiliza para diferentes fines, como el separador de de rutas, o el salto de línea."
   ]
  },
  {
   "cell_type": "code",
   "execution_count": null,
   "metadata": {
    "slideshow": {
     "slide_type": "fragment"
    }
   },
   "outputs": [],
   "source": [
    "import os\n",
    "\n",
    "os.pathsep, os.sep, os.pardir, os.curdir, os.linesep"
   ]
  },
  {
   "cell_type": "markdown",
   "metadata": {
    "slideshow": {
     "slide_type": "slide"
    }
   },
   "source": [
    "- `os.pathsep` carácter que separa diferentes directorios\n",
    "- `os.sep` carácter que se usa para separar componentes de directorios\n",
    "- `os.pardir` ruta del directorio padre\n",
    "- `os.curdir` ruta del directorio actual\n",
    "- `os.linesep` separadore de líneas"
   ]
  },
  {
   "cell_type": "markdown",
   "metadata": {
    "slideshow": {
     "slide_type": "slide"
    }
   },
   "source": [
    "### Herramientas para gestión de rutas de directorios\n",
    "\n",
    "El submódulo `os.path` proporciona una serie de herramientas para gestionar las rutas de directorios.\n",
    "\n",
    "- Comprobar el tipo de fichero, `os.path.isdir` y `os.path.isfile`\n",
    "- Existencia de fichero, `os.path.exists`\n",
    "- Obtener el tamaño de un fichero, `os.path.getsize`"
   ]
  },
  {
   "cell_type": "code",
   "execution_count": null,
   "metadata": {
    "slideshow": {
     "slide_type": "fragment"
    }
   },
   "outputs": [],
   "source": [
    "import os.path\n",
    "\n",
    "\n",
    "print(os.path.isdir(\"/Users\"))\n",
    "print(os.path.isdir(\"/Users/marcos/Workspace/python-course/Treasure_Island.txt\"))\n",
    "print(os.path.isfile(\"/Users/marcos/Workspace/python-course/Treasure_Island.txt\"))\n",
    "print(os.path.exists(\"/Users/marcos/Workspace/python-course/Treasure_Island.txt\"))\n",
    "print(os.path.exists(\"/Users/marcos/Workspace/python-course/foo.txt\"))\n",
    "\n",
    "print(os.path.getsize(\"/Users/marcos/Workspace/python-course/Treasure_Island.txt\"))\n",
    "print(os.path.getsize(\"/Users/marcos/Workspace/python-course\"))"
   ]
  },
  {
   "cell_type": "markdown",
   "metadata": {
    "slideshow": {
     "slide_type": "slide"
    }
   },
   "source": [
    "- `os.path.split` permite separar un fichero con su ruta en la ruta y el propio nombre del fichero."
   ]
  },
  {
   "cell_type": "code",
   "execution_count": null,
   "metadata": {
    "slideshow": {
     "slide_type": "fragment"
    }
   },
   "outputs": [],
   "source": [
    "import os.path\n",
    "\n",
    "\n",
    "pathname = \"/Users/marcos/Workspace/python-course/Treasure_Island.txt\"\n",
    "print(os.path.split(pathname))\n",
    "\n",
    "pathname.split(os.sep)\n"
   ]
  },
  {
   "cell_type": "markdown",
   "metadata": {
    "slideshow": {
     "slide_type": "slide"
    }
   },
   "source": [
    "- `os.path.join` permite unir rutas con nombres de fichero de nuevo"
   ]
  },
  {
   "cell_type": "code",
   "execution_count": null,
   "metadata": {
    "slideshow": {
     "slide_type": "fragment"
    }
   },
   "outputs": [],
   "source": [
    "import os.path\n",
    "\n",
    "\n",
    "pathname = \"/Users/marcos/Workspace/python-course/Treasure_Island.txt\"\n",
    "\n",
    "os.path.join(*pathname.split(os.sep))"
   ]
  },
  {
   "cell_type": "markdown",
   "metadata": {
    "slideshow": {
     "slide_type": "slide"
    }
   },
   "source": [
    "- `os.path.abspath` obtiene la ruta absoluta de una ruta relativa"
   ]
  },
  {
   "cell_type": "code",
   "execution_count": null,
   "metadata": {
    "slideshow": {
     "slide_type": "fragment"
    }
   },
   "outputs": [],
   "source": [
    "import os.path\n",
    "\n",
    "\n",
    "os.path.abspath('..')"
   ]
  },
  {
   "cell_type": "markdown",
   "metadata": {
    "slideshow": {
     "slide_type": "slide"
    }
   },
   "source": [
    "### Ejecutar comandos de shell desde un script\n",
    "\n",
    "El módulo `os` es el que nos permite ejecutar comandos de shell desde scripts de Python.\n",
    "\n",
    "Hay dos funciones que permiten ejecutar cualquier comando que puedas ejecutar en una terminal:\n",
    "\n",
    "- `os.system` ejecuta un comando de shell desde un script de Python.\n",
    "- `os.popen` ejecuta un comando de shell y conecta a sus streams de entrada/salida."
   ]
  },
  {
   "cell_type": "code",
   "execution_count": null,
   "metadata": {
    "slideshow": {
     "slide_type": "fragment"
    }
   },
   "outputs": [],
   "source": [
    "import os\n",
    "\n",
    "\n",
    "print(os.system('ls'))\n",
    "\n",
    "\n",
    "output = os.popen('ls -l').read()\n",
    "print(output)"
   ]
  },
  {
   "cell_type": "markdown",
   "metadata": {
    "slideshow": {
     "slide_type": "slide"
    }
   },
   "source": [
    "## 24. El módulo `subprocess`\n"
   ]
  },
  {
   "cell_type": "markdown",
   "metadata": {
    "slideshow": {
     "slide_type": "fragment"
    }
   },
   "source": [
    "El módulo `subprocess` proporciona un control más detallado sobre los los comandos de shell que lanzamos desde Python, y puede ser usado como alternativa a las funciones del módulo `os` para lanzar procesos."
   ]
  },
  {
   "cell_type": "markdown",
   "metadata": {
    "slideshow": {
     "slide_type": "slide"
    }
   },
   "source": [
    "### `subprocess.run(args, *, stdin=None, input=None, stdout=None, stderr=None, shell=False, cwd=None, timeout=None, check=False, encoding=None, errors=None)`\n",
    "\n",
    "Ejecuta el comando especificado en `args`, siendo este una lista con el comando a ejecutar y cada uno de sus comandos. Esta es la aproximación recomendada para lanzar subprocesos.\n",
    "\n",
    "- Por defecto, `subprocess.run` no captura la salida\n",
    "- Devuelve un objeto de tipo `CompletedProcess`\n"
   ]
  },
  {
   "cell_type": "code",
   "execution_count": null,
   "metadata": {
    "slideshow": {
     "slide_type": "fragment"
    }
   },
   "outputs": [],
   "source": [
    "import subprocess\n",
    "\n",
    "subprocess.run([\"ls\", \"-l\"])"
   ]
  },
  {
   "cell_type": "markdown",
   "metadata": {
    "slideshow": {
     "slide_type": "slide"
    }
   },
   "source": [
    "Para capturar el la salida, pasamos `subprocess.PIPE` en el parámetro `stdout`."
   ]
  },
  {
   "cell_type": "code",
   "execution_count": null,
   "metadata": {
    "slideshow": {
     "slide_type": "fragment"
    }
   },
   "outputs": [],
   "source": [
    "subprocess.run([\"ls\", \"-l\", \"/dev/null\"], stdout=subprocess.PIPE)"
   ]
  },
  {
   "cell_type": "markdown",
   "metadata": {
    "slideshow": {
     "slide_type": "slide"
    }
   },
   "source": [
    "Si el comando termina con un estado distinto de 0, lanza una excepción."
   ]
  },
  {
   "cell_type": "code",
   "execution_count": null,
   "metadata": {
    "slideshow": {
     "slide_type": "fragment"
    }
   },
   "outputs": [],
   "source": [
    "subprocess.run(\"exit 1\", shell=True, check=True)"
   ]
  },
  {
   "cell_type": "markdown",
   "metadata": {
    "slideshow": {
     "slide_type": "slide"
    }
   },
   "source": [
    "## Ejercicios"
   ]
  },
  {
   "cell_type": "markdown",
   "metadata": {
    "slideshow": {
     "slide_type": "slide"
    }
   },
   "source": [
    "### El fichero más grande\n",
    "\n",
    "El objetivo de este ejercicio es crear un script de Python que tome como argumento una ruta y que muestre por pantalla cual es el fichero más grande de esa ruta."
   ]
  },
  {
   "cell_type": "markdown",
   "metadata": {
    "slideshow": {
     "slide_type": "slide"
    }
   },
   "source": [
    "### Decorador, logger y traza de excepción\n",
    "\n",
    "El objetivo de este ejercicio es crear un decorador que capture cualquier excepción de una función y muestre por el log la traza de la excepción."
   ]
  },
  {
   "cell_type": "code",
   "execution_count": null,
   "metadata": {
    "slideshow": {
     "slide_type": "slide"
    }
   },
   "outputs": [],
   "source": []
  },
  {
   "cell_type": "markdown",
   "metadata": {
    "slideshow": {
     "slide_type": "slide"
    }
   },
   "source": [
    "### Análisis de logs \n",
    "\n",
    "El objetivo de este ejercicio es crear un script que dada la ruta de un fichero de entrada y uno de salida, siendo el fichero de entrada un log de una aplicación web de Python, escriba en el fichero de salida un CSV con las siguietes columnas:\n",
    "\n",
    "Método | Ruta | Tiempo medio | N. De Peticiones\n",
    "-------|------|--------------|-----------------\n",
    "PATCH | /api/v1/pushes/all_read/ | 31 | 300\n",
    "\n",
    "[Descargar de fichero de log](https://gist.github.com/cf2481add7e467d117a388c4be18aafe)"
   ]
  }
 ],
 "metadata": {
  "celltoolbar": "Slideshow",
  "kernelspec": {
   "display_name": "Python 3",
   "language": "python",
   "name": "python3"
  },
  "language_info": {
   "codemirror_mode": {
    "name": "ipython",
    "version": 3
   },
   "file_extension": ".py",
   "mimetype": "text/x-python",
   "name": "python",
   "nbconvert_exporter": "python",
   "pygments_lexer": "ipython3",
   "version": "3.8.2"
  }
 },
 "nbformat": 4,
 "nbformat_minor": 2
}
