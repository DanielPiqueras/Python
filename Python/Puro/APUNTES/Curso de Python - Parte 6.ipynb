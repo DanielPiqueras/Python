{
 "cells": [
  {
   "cell_type": "markdown",
   "metadata": {
    "slideshow": {
     "slide_type": "slide"
    }
   },
   "source": [
    "# Curso de Python - Parte 6"
   ]
  },
  {
   "cell_type": "markdown",
   "metadata": {
    "slideshow": {
     "slide_type": "slide"
    }
   },
   "source": [
    "## 30. Python idiomático"
   ]
  },
  {
   "cell_type": "markdown",
   "metadata": {
    "slideshow": {
     "slide_type": "fragment"
    }
   },
   "source": [
    "Cuando hablamos de Python Idiomático hablamos de un estilo de programar siguiendo un estilo y una forma de hacer las cosas concreta y conocida, que ayudan a la lectura del código fuente.\n",
    "\n",
    "Cuando un código está escrito de forma idiomática no sólo es más fácil de entender por cualquier lector, sino que es más fácil encontrar errores."
   ]
  },
  {
   "cell_type": "markdown",
   "metadata": {
    "slideshow": {
     "slide_type": "slide"
    }
   },
   "source": [
    "###  Evita la repetición de variables en una instrucción `if`\n",
    "\n",
    "**Dañino**\n",
    "\n",
    "```python\n",
    "is_generic_name = False\n",
    "name = 'Tom”\n",
    "if name == 'Tom' or name == 'Dick' or name == 'Harry':\n",
    "    is_generic_name = True\n",
    "```\n",
    "\n",
    "**Idiomático**\n",
    "\n",
    "```python\n",
    "name = 'Tom'\n",
    "is_generic_name = name in ('Tom', 'Dick', 'Harry')\n",
    "```"
   ]
  },
  {
   "cell_type": "markdown",
   "metadata": {
    "slideshow": {
     "slide_type": "slide"
    }
   },
   "source": [
    "### Evita comparar directamente con `True`, `False` o `None`\n",
    "\n",
    "**Dañino**\n",
    "\n",
    "```python\n",
    "def number_of_evil_robots_attacking():\n",
    "    return 10\n",
    "\n",
    "def should_raise_shields():\n",
    "    # Sólo se suben los escudos cuando hay uno o más robots, por lo que se puede devolver el valor\n",
    "    return number_of_evil_robots_attacking()\n",
    "\n",
    "if should_raise_shields() == True:\n",
    "    raise_shields()\n",
    "    print('Shields raised')\n",
    "else:\n",
    "    print('Safe! No giant robots attacking')\n",
    "```\n",
    "\n",
    "**Idiomático**\n",
    "\n",
    "```python\n",
    "def number_of_evil_robots_attacking():\n",
    "    return 10\n",
    "\n",
    "def should_raise_shields():\n",
    "    # Sólo se suben los escudos cuando hay uno o más robots, por lo que se puede devolver el valor\n",
    "    return number_of_evil_robots_attacking()\n",
    "\n",
    "if should_raise_shields():\n",
    "    raise_shields()\n",
    "    print('Shields raised')\n",
    "else:\n",
    "    print('Safe! No giant robots attacking')\n",
    "```"
   ]
  },
  {
   "cell_type": "markdown",
   "metadata": {
    "slideshow": {
     "slide_type": "slide"
    }
   },
   "source": [
    "### Usa la  función `enumerate` en los bucles en vez de crear una variable de índice\n",
    "\n",
    "**Dañino**\n",
    "\n",
    "```python\n",
    "my_container = ['Larry', 'Moe', 'Curly']\n",
    "index = 0\n",
    "for element in my_container:\n",
    "    print ('{} {}'.format(index, element))\n",
    "    index += 1\n",
    "```\n",
    "\n",
    "**Idiomático**\n",
    "\n",
    "```python\n",
    "my_container = ['Larry', 'Moe', 'Curly']\n",
    "for index, element in enumerate(my_container):\n",
    "    print ('{} {}'.format(index, element))\n",
    "```"
   ]
  },
  {
   "cell_type": "markdown",
   "metadata": {
    "slideshow": {
     "slide_type": "slide"
    }
   },
   "source": [
    "### Evita usar `''`, `[]` y `{}` como parámetros por defecto\n",
    "\n",
    "**Dañino**\n",
    "\n",
    "```python\n",
    "def f(a, L=[]):\n",
    "    L.append(a)\n",
    "    return L\n",
    "\n",
    "print(f(1))\n",
    "print(f(2))\n",
    "print(f(3))\n",
    "```\n",
    "\n",
    "**Idiomático**\n",
    "\n",
    "```python\n",
    "def f(a, L=None):\n",
    "    if L is None:\n",
    "        L = []\n",
    "    L.append(a)\n",
    "    return L\n",
    "\n",
    "print(f(1))\n",
    "print(f(2))\n",
    "print(f(3))\n",
    "```"
   ]
  },
  {
   "cell_type": "markdown",
   "metadata": {
    "slideshow": {
     "slide_type": "slide"
    }
   },
   "source": [
    "### Usa excepciones para escribir código en estílo \"EAFP\"\n",
    "\n",
    "El código escrito con el estilo *EAFP* (“Easier to Ask for Forgiveness than Permission”) asume que las cosas van a ir bien y captura las excepciones en caso de que no.\n",
    "\n",
    "**Dañino**\n",
    "\n",
    "```python\n",
    "def get_log_level(config_dict):\n",
    "    if 'ENABLE_LOGGING' in config_dict:\n",
    "        if config_dict['ENABLE_LOGGING'] != True:\n",
    "            return None\n",
    "        elif not 'DEFAULT_LOG_LEVEL' in config_dict:\n",
    "            return None\n",
    "        else: return config_dict['DEFAULT_LOG_LEVEL']\n",
    "    else:\n",
    "        return None\n",
    "```\n",
    "\n",
    "**Idiomático**\n",
    "\n",
    "```python\n",
    "def get_log_level(config_dict):\n",
    "    try:\n",
    "        if config_dict['ENABLE_LOGGING']:\n",
    "            return config_dict['DEFAULT_LOG_LEVEL']\n",
    "    except KeyError:\n",
    "        return None\n",
    "```"
   ]
  },
  {
   "cell_type": "markdown",
   "metadata": {
    "slideshow": {
     "slide_type": "slide"
    }
   },
   "source": [
    "### Evita usar variables temporales para intercambiar dos valores\n",
    "\n",
    "**Dañino**\n",
    "\n",
    "```python\n",
    "foo = 'Foo'\n",
    "bar = 'Bar'\n",
    "temp = foo\n",
    "foo = bar\n",
    "bar = temp\n",
    "```\n",
    "\n",
    "**Idiomático**\n",
    "\n",
    "```python\n",
    "foo = 'Foo'\n",
    "bar = 'Bar'\n",
    "(foo, bar) = (bar, foo)\n",
    "```"
   ]
  },
  {
   "cell_type": "markdown",
   "metadata": {
    "slideshow": {
     "slide_type": "slide"
    }
   },
   "source": [
    "### Encadena las funciones de cadenas de texto\n",
    "\n",
    "**Dañino**\n",
    "\n",
    "```python\n",
    "book_info = ' The Three Musketeers: Alexandre Dumas'\n",
    "formatted_book_info = book_info.strip()\n",
    "formatted_book_info = formatted_book_info.upper()\n",
    "formatted_book_info = formatted_book_info.replace(':', ' by')\n",
    "```\n",
    "\n",
    "**Idiomático**\n",
    "\n",
    "```python\n",
    "book_info = ' The Three Musketeers: Alexandre Dumas'\n",
    "formatted_book_info = book_info.strip().upper().replace(':', ' by')\n",
    "```"
   ]
  },
  {
   "cell_type": "markdown",
   "metadata": {
    "slideshow": {
     "slide_type": "slide"
    }
   },
   "source": [
    "### Usar `''.join()` cuando haya que crear una cadena de texto con los elementos de una lista\n",
    "\n",
    "**Dañino**\n",
    "\n",
    "```python\n",
    "result_list = ['True', 'False', 'File not found']\n",
    "result_string = ''\n",
    "for result in result_list:\n",
    "    result_string += result\n",
    "```\n",
    "\n",
    "**Idiomático**\n",
    "\n",
    "```python\n",
    "result_list = ['True', 'False', 'File not found']\n",
    "result_string = ''.join(result_list)\n",
    "```"
   ]
  },
  {
   "cell_type": "markdown",
   "metadata": {
    "slideshow": {
     "slide_type": "slide"
    }
   },
   "source": [
    "### Prefiere la función `format` para formatear cadenas de texto\n",
    "\n",
    "**Dañino**\n",
    "\n",
    "```python\n",
    "def get_formatted_user_info_worst(user):\n",
    "    return 'Name: ' + user.name + ', Age: ' + \\\n",
    "            str(user.age) + ', Sex: ' + user.sex\n",
    "\n",
    "def get_formatted_user_info_slightly_better(user):\n",
    "    return 'Name: %s, Age: %i, Sex: %c' % (\n",
    "        user.name, user.age, user.sex)\n",
    "```\n",
    "\n",
    "**Idiomático**\n",
    "\n",
    "```python\n",
    "def get_formatted_user_info(user):\n",
    "    output = 'Name: {user.name}, Age: {user.age}, '\n",
    "    'Sex: {user.sex}'.format(user=user)\n",
    "    return output\n",
    "```"
   ]
  },
  {
   "cell_type": "markdown",
   "metadata": {
    "slideshow": {
     "slide_type": "slide"
    }
   },
   "source": [
    "### Usa una lista por compresión para crear una versión transformada de una lista existente\n",
    "\n",
    "\n",
    "**Dañino**\n",
    "\n",
    "```python\n",
    "some_other_list = range(10)\n",
    "some_list = list()\n",
    "for element in some_other_list:\n",
    "    if is_prime(element):\n",
    "        some_list.append(element + 5)\n",
    "```\n",
    "\n",
    "**Idiomático**\n",
    "\n",
    "```python\n",
    "some_other_list = range(10)\n",
    "some_list = [element + 5\n",
    "             for element in some_other_list\n",
    "             if is_prime(element)]\n",
    "```"
   ]
  },
  {
   "cell_type": "markdown",
   "metadata": {
    "slideshow": {
     "slide_type": "slide"
    }
   },
   "source": [
    "\n",
    "### Usar el operador `*` para representar el \"resto\" de una lista\n",
    "\n",
    "**Dañino**\n",
    "\n",
    "```python\n",
    "some_list = ['a', 'b', 'c', 'd', 'e']\n",
    "(first, second, rest) = some_list[0], some_list[1], some_list[2:]\n",
    "print(rest)\n",
    "(first, middle, last) = some_list[0], some_list[1:-1], some_list[-1]\n",
    "print(middle)\n",
    "(head, penultimate, last) = some_list[:-2], some_list[-2], some_list[-1]\n",
    "print(head)\n",
    "```\n",
    "\n",
    "**Idiomático**\n",
    "\n",
    "```python\n",
    "some_list = ['a', 'b', 'c', 'd', 'e']\n",
    "(first, second, *rest) = some_list\n",
    "print(rest)\n",
    "(first, *middle, last) = some_list\n",
    "print(middle)\n",
    "(*head, penultimate, last) = some_list\n",
    "print(head)\n",
    "```"
   ]
  },
  {
   "cell_type": "markdown",
   "metadata": {
    "slideshow": {
     "slide_type": "slide"
    }
   },
   "source": [
    "### Usa un `dict` para sustituir una instrucción `switch...case`\n",
    "\n",
    "**Dañino**\n",
    "\n",
    "```python\n",
    "def apply_operation(left_operand, right_operand, operator):\n",
    "    if operator == '+':\n",
    "        return left_operand + right_operand\n",
    "    elif operator == '-':\n",
    "        return left_operand - right_operand\n",
    "    elif operator == '*':\n",
    "        return left_operand * right_operand\n",
    "    elif operator == '/':\n",
    "        return left_operand / right_operand\n",
    "```\n",
    "\n",
    "**Idiomático**\n",
    "\n",
    "```python\n",
    "def apply_operation(left_operand, right_operand, operator):\n",
    "    import operator as op\n",
    "    operator_mapper = {\n",
    "        '+': op.add, \n",
    "        '-': op.sub, \n",
    "        '*': op.mul, \n",
    "        '/': op.truediv\n",
    "    }\n",
    "    return operator_mapper[operator](left_operand, right_operand)\n",
    "```"
   ]
  },
  {
   "cell_type": "markdown",
   "metadata": {
    "slideshow": {
     "slide_type": "slide"
    }
   },
   "source": [
    "### Usa el parámetro `default` de `dict.get` para proporcionar los parámetros por defecto\n",
    "\n",
    "**Dañino**\n",
    "\n",
    "```python\n",
    "log_severity = None\n",
    "if 'severity' in configuration:\n",
    "    log_severity = configuration['severity']\n",
    "else:\n",
    "    log_severity = 'Info'\n",
    "```\n",
    "\n",
    "**Idiomático**\n",
    "\n",
    "```python\n",
    "log_severity = configuration.get('severity', 'Info')\n",
    "```"
   ]
  },
  {
   "cell_type": "markdown",
   "metadata": {
    "slideshow": {
     "slide_type": "slide"
    }
   },
   "source": [
    "### Usa `dict comprehension` para crear diccionarios de forma eficiente\n",
    "\n",
    "**Dañino**\n",
    "\n",
    "```python\n",
    "user_email = {}\n",
    "for user in users_list:\n",
    "    if user.email:\n",
    "        user_email[user.name] = user.email\n",
    "```\n",
    "\n",
    "**Idiomático**\n",
    "\n",
    "```python\n",
    "user_email = {user.name: user.email\n",
    "              for user in users_list if user.email}\n",
    "```"
   ]
  },
  {
   "cell_type": "markdown",
   "metadata": {
    "slideshow": {
     "slide_type": "slide"
    }
   },
   "source": [
    "### Usa `set comprehension` para crear sets de forma eficiente\n",
    "\n",
    "**Dañino**\n",
    "\n",
    "```python\n",
    "users_first_names = set()\n",
    "for user in users:\n",
    "    users_first_names.add(user.first_name)\n",
    "```\n",
    "\n",
    "**Idiomático**\n",
    "\n",
    "```python\n",
    "users_first_names = {user.first_name for user in users}\n",
    "```"
   ]
  },
  {
   "cell_type": "markdown",
   "metadata": {
    "slideshow": {
     "slide_type": "slide"
    }
   },
   "source": [
    "### Usar sets para eliminar elementos repetidos de las secuencias\n",
    "\n",
    "**Dañino**\n",
    "\n",
    "```python\n",
    "unique_surnames = []\n",
    "for surname in employee_surnames:\n",
    "    if surname not in unique_surnames:\n",
    "        unique_surnames.append(surname)\n",
    "\n",
    "def display(elements, output_format='html'):\n",
    "    if output_format == 'std_out':\n",
    "        for element in elements:\n",
    "            print(element)\n",
    "    elif output_format == 'html':\n",
    "        as_html = '<ul>'\n",
    "        for element in elements:\n",
    "            as_html += '<li>{}</li>'.format(element)\n",
    "        return as_html + '</ul>'\n",
    "    else:\n",
    "        raise RuntimeError('Unknown format {}'.format(output_format))\n",
    "```\n",
    "\n",
    "**Idiomático**\n",
    "\n",
    "```python\n",
    "unique_surnames = set(employee_surnames)\n",
    "\n",
    "def display(elements, output_format='html'):\n",
    "    if output_format == 'std_out':\n",
    "        for element in elements:\n",
    "            print(element)\n",
    "    elif output_format == 'html':\n",
    "        as_html = '<ul>'\n",
    "        for element in elements:\n",
    "            as_html += '<li>{}</li>'.format(element)\n",
    "        return as_html + '</ul>'\n",
    "    else:\n",
    "        raise RuntimeError('Unknown format {}'.format(output_format))\n",
    "```"
   ]
  },
  {
   "cell_type": "markdown",
   "metadata": {
    "slideshow": {
     "slide_type": "slide"
    }
   },
   "source": [
    "### Usa `_` como contenedor para datos en tuplas que deben ser ignorados\n",
    "\n",
    "**Dañino**\n",
    "\n",
    "```python\n",
    "(name, age, temp, temp2) = get_user_info(user)\n",
    "if age > 21:\n",
    "    output = '{name} can drink!'.format(name=name)\n",
    "```\n",
    "\n",
    "**Idiomático**\n",
    "\n",
    "```python\n",
    "(name, age, _, _) = get_user_info(user)\n",
    "if age > 21:\n",
    "    output = '{name} can drink!'.format(name=name)\n",
    "```"
   ]
  },
  {
   "cell_type": "markdown",
   "metadata": {
    "slideshow": {
     "slide_type": "slide"
    }
   },
   "source": [
    "### Usar tuplas para desempaquetar datos\n",
    "\n",
    "**Dañino**\n",
    "\n",
    "```python\n",
    "list_from_comma_separated_value_file = ['dog', 'Fido', 10]\n",
    "animal = list_from_comma_separated_value_file[0]\n",
    "name = list_from_comma_separated_value_file[1]\n",
    "age = list_from_comma_separated_value_file[2]\n",
    "output = ('{name} the {animal} is {age} years old'.format(\n",
    "    animal=animal, name=name, age=age))\n",
    "```\n",
    "\n",
    "**Idiomático**\n",
    "\n",
    "```python\n",
    "list_from_comma_separated_value_file = ['dog', 'Fido', 10]\n",
    "(animal, name, age) = list_from_comma_separated_value_file\n",
    "output = ('{name} the {animal} is {age} years old'.format(\n",
    "    animal=animal, name=name, age=age))\n",
    "```"
   ]
  },
  {
   "cell_type": "markdown",
   "metadata": {
    "slideshow": {
     "slide_type": "slide"
    }
   },
   "source": [
    "### Define el método `__str__` para mostrar la representación legible de un objeto\n",
    "\n",
    "**Dañino**\n",
    "\n",
    "```python\n",
    "class Point():\n",
    "    def __init__(self, x, y):\n",
    "        self.x = x\n",
    "        self.y = y\n",
    "\n",
    "p = Point(1, 2)\n",
    "print (p)\n",
    "```\n",
    "\n",
    "**Idiomático**\n",
    "\n",
    "```python\n",
    "class Point():\n",
    "    def __init__(self, x, y):\n",
    "        self.x = x\n",
    "        self.y = y\n",
    "\n",
    "    def __str__(self):\n",
    "        return '{0}, {1}'.format(self.x, self.y)\n",
    "\n",
    "p = Point(1, 2)\n",
    "print (p)\n",
    "```"
   ]
  },
  {
   "cell_type": "markdown",
   "metadata": {
    "slideshow": {
     "slide_type": "slide"
    }
   },
   "source": [
    "## 31. PEP 8"
   ]
  },
  {
   "cell_type": "markdown",
   "metadata": {
    "slideshow": {
     "slide_type": "fragment"
    }
   },
   "source": [
    "\n",
    "Todas las definciones y mejoras que se incluyen en el lenguaje de Python las podemos encontrar en los Python Enhancement Proposals, o simplemente PEP. Cualquier persona puede enviar una propuesta de PEP, y será debatida por la comunidad y la PSF para estudiar su posible inclusión en el lenguaje.\n"
   ]
  },
  {
   "cell_type": "markdown",
   "metadata": {
    "slideshow": {
     "slide_type": "fragment"
    }
   },
   "source": [
    "Hay PEP para todo, pero uno de los más importantes es el conocido como **[PEP 8](https://www.python.org/dev/peps/pep-0008/#introduction)**, lo que entendemos como la **Style Guide for Python Code**, creado entre otros por el propio Guido van Rossum.\n"
   ]
  },
  {
   "cell_type": "markdown",
   "metadata": {
    "slideshow": {
     "slide_type": "slide"
    }
   },
   "source": [
    "### Diseño del código\n",
    "\n",
    "- Usa 4 espacios por indentación.\n",
    "- Las líneas de continuación deben alinearse verticalmente con el carácter que se ha utilizado.\n",
    "\n",
    "\n",
    "```python\n",
    "# Alineado con el paréntesis que abre la función\n",
    "foo = long_function_name(var_one, var_two,\n",
    "                         var_three, var_four)\n",
    "\n",
    "# Más indentación para distinguirla del resto de las líneas \n",
    "def long_function_name(\n",
    "        var_one, var_two, var_three,\n",
    "        var_four):\n",
    "    print(var_one)\n",
    "```\n"
   ]
  },
  {
   "cell_type": "markdown",
   "metadata": {
    "slideshow": {
     "slide_type": "slide"
    }
   },
   "source": [
    "- El paréntesis/corchete/llave que cierre una asignación debe estar alineado con el prier carácter que no sea un espacio en blanco, o alineado con el carácter inicial de la primera línea.\n",
    "\n",
    "```python\n",
    "my_list = [\n",
    "    1, 2, 3,\n",
    "    4, 5, 6,\n",
    "    ]\n",
    "\n",
    "result = some_function_that_takes_arguments(\n",
    "    'a', 'b', 'c',\n",
    "    'd', 'e', 'f',\n",
    "    )\n",
    "\n",
    "my_list = [\n",
    "    1, 2, 3,\n",
    "    4, 5, 6,\n",
    "]\n",
    "\n",
    "result = some_function_that_takes_arguments(\n",
    "    'a', 'b', 'c',\n",
    "    'd', 'e', 'f',\n",
    ")\n",
    "```"
   ]
  },
  {
   "cell_type": "markdown",
   "metadata": {
    "slideshow": {
     "slide_type": "slide"
    }
   },
   "source": [
    "### Máxima longitud de las líneas\n",
    "\n",
    "- Limita todas las líneas a un máximo de 79 caracteres.\n",
    "\n",
    "### Líneas en blanco\n",
    "\n",
    "- Separa funciones de alto nivel y definiciones de clase con dos líneas en blanco.\n",
    "- Definiciones de métodos dentro de una clase son separadas por una línea en blanco.\n",
    "- Líneas en blanco adicionales pueden ser utilizadas (escasamente) para separar grupos de funciones relacionadas. Se pueden omitir entre un grupo (de funciones) de una línea relacionadas (por ejemplo, un conjunto de implementaciones ficticias).\n",
    "- Usa líneas en blanco en funciones, escasamente, para indicar secciones lógicas."
   ]
  },
  {
   "cell_type": "markdown",
   "metadata": {
    "slideshow": {
     "slide_type": "slide"
    }
   },
   "source": [
    "### Importaciones\n",
    "\n",
    "- Las importaciones deben estar en líneas separadas.\n",
    "\n",
    "```python\n",
    "import os\n",
    "import sys\n",
    "\n",
    "from subprocess import Popen, PIPE\n",
    "```"
   ]
  },
  {
   "cell_type": "markdown",
   "metadata": {
    "slideshow": {
     "slide_type": "slide"
    }
   },
   "source": [
    "- Las importaciones siempre se colocan al comienzo del archivo, simplemente luego de cualquier comentario o documentación del módulo.\n",
    "- Las importaciones deben estar agrupadas en el siguiente orden:\n",
    "    - Importaciones de la librería estándar\n",
    "    - Importaciones terceras relacionadas\n",
    "    - Importaciones locales de la aplicación/libería\n",
    "- Coloca cualquier especificaicón `__all__` luego de las importaciones.\n",
    "- Siempre usa la ruta absoluta del paquete para todas las importaciones."
   ]
  },
  {
   "cell_type": "markdown",
   "metadata": {
    "slideshow": {
     "slide_type": "slide"
    }
   },
   "source": [
    "### Espacios en blanco en Expresiones y Sentencias\n",
    "\n",
    "Evita usar espacios en blanco extraños en las siguientes situaciones:\n",
    "\n",
    "- Inmediatamente dentro de paréntesis, corchetes o llaves.\n",
    "- Inmediatamente antes de una coma, un punto y coma o dos puntos.\n",
    "- Inmediatamente antes del paréntesis que comienza la lista de argumentos en la llamada de una función.\n",
    "- Inmediatamente antes de un corchete que empieza una indexación.\n",
    "- Más de un espacio alrededor de un operador de asignación (u otro) para alinearlo.\n"
   ]
  },
  {
   "cell_type": "markdown",
   "metadata": {
    "slideshow": {
     "slide_type": "slide"
    }
   },
   "source": [
    "Otras recomendaciones:\n",
    "\n",
    "- Siempre rodea estos operadores binarios con un espacio en cada lado: asignación, asignación de aumentación, comparaciones, y booleanos.\n",
    "- No uses espacios alrededor del `=` cuando es utilizado para indicar un argumento en una función o un parámetro con un valor por defecto.\n",
    "- Las sentencias compuestas son generalmente desalentadas.\n"
   ]
  },
  {
   "cell_type": "markdown",
   "metadata": {
    "slideshow": {
     "slide_type": "slide"
    }
   },
   "source": [
    "### Comentarios\n",
    "\n",
    "- Comentarios que contradigan el código es peor que no colocar comentarios.\n",
    "- Los comentarios deben ser oraciones completas. Si un comentario es una frase u oración, su primera palabra debe comenzar con mayúscula.\n",
    "- Si un comentario es corto, el punto final puede omitirse.\n",
    "- Escribe los comentarios en inglés, a menos que estés 120% seguro de que tu código jamás será leído por gente que no hable tu idioma.\n",
    "- Los comentarios en bloque generalmente se aplican a algunos códigos que los siguen y están indentados al mismo nivel que ese código.\n",
    "- Cada línea de un comentario en bloque comienza con un `#` y un espacio.\n",
    "- Usa comentarios en línea escasamente.\n",
    "- Los comentarios en línea deberían de estar separados por al menos dos espacios de la sentencia.\n"
   ]
  },
  {
   "cell_type": "markdown",
   "metadata": {
    "slideshow": {
     "slide_type": "slide"
    }
   },
   "source": [
    "### Convenciones de nombramiento\n",
    "\n",
    "- Nunca uses los caracteres ‘l’ (letra ele en minúscula), ‘O’ (letra o mayúscula), o ‘I’ (letra i mayúscula) como simples caracteres para nombres de variables. En algunas fuentes, estos caracteres son indistinguibles de los números uno y cero. Cuando se quiera usar ‘l’, en lugar usa ‘L’.\n",
    "- Los módulos deben tener un nombre corto y en minúscula. Guiones bajos pueden utilizarse si mejora la legiblidad.\n",
    "- Los paquetes en Python también deberían tener un nombre corto y en minúscula, aunque el uso de guiones bajos es desalentado.\n",
    "- Casi sin excepción, los nombres de clases deben utilizar la convención “CapWords” (palabras que comienzan con mayúsculas). - Clases para uso interno tienen un guión bajo como prefijo.\n",
    "- Las funciones deben ser en minúscula, con las palabras separadas por un guión bajo, aplicándose éstos tanto como sea necesario para mejorar la legibilidad.\n",
    "- Siempre usa self para el primer argumento de los métodos de instancia.\n",
    "- Siempre usa cls para el primer argumento de los métodos de clase.\n",
    "- Las constantes son generalmente definidas a nivel módulo, escritas con todas las letras en mayúscula y con guiones bajos separando palabras. Por ejemplo, MAX_OVERFLOW y TOTAL.\n"
   ]
  },
  {
   "cell_type": "markdown",
   "metadata": {
    "slideshow": {
     "slide_type": "slide"
    }
   },
   "source": [
    "### Recomendaciones\n",
    "\n",
    "- Comparaciones con None deben siempre realizarse con is o is not, nunca con los operadores de igualdad.\n",
    "- Siempre usa una sentencia def en lugar de una sentencia de asignación que liga a la expresión lambda directamente a un nombre.\n",
    "- Al momento de capturar excepciones, menciona sus nombres específicamente siempre que sea posible, en lugar de utilizar la simple claúsula `except:`.\n",
    "- Usa `''.startswith()` y `''.endswith()` en lugar de aplicar el string slicing para chequear prefijos o sufijos.\n",
    "- Al realizar comparaciones de objetos siempre se debe usar `isinstance()` en lugar de comparar los tipos directamente.\n",
    "- Para secuencias, (strings, listas, tuplas), haz uso del hecho que las que se encuentran vacías son falsas."
   ]
  },
  {
   "cell_type": "markdown",
   "metadata": {
    "slideshow": {
     "slide_type": "slide"
    }
   },
   "source": [
    "### Herramienta `pycodestyle`\n",
    "\n",
    "Existe una herramienta, llamada `pycodestyle`, que permite comprobar si tu código se ajusta a lo especificado en el PEP8.\n",
    "\n",
    "Puedes instalarla usando este comando:\n",
    "\n",
    "```\n",
    "$ pip install pycodestyle\n",
    "```"
   ]
  },
  {
   "cell_type": "markdown",
   "metadata": {
    "slideshow": {
     "slide_type": "slide"
    }
   },
   "source": [
    "```\n",
    "$ pycodestyle script.py\n",
    "script.py:69:11: E401 multiple imports on one line\n",
    "script.py:77:1: E302 expected 2 blank lines, found 1\n",
    "script.py:88:5: E301 expected 1 blank line, found 0\n",
    "script.py:222:34: W602 deprecated form of raising exception\n",
    "script.py:347:31: E211 whitespace before '('\n",
    "script.py:357:17: E201 whitespace after '{'\n",
    "script.py:472:29: E221 multiple spaces before operator\n",
    "script.py:544:21: W601 .has_key() is deprecated, use 'in'\n",
    "```"
   ]
  },
  {
   "cell_type": "markdown",
   "metadata": {
    "slideshow": {
     "slide_type": "slide"
    }
   },
   "source": [
    "## 32. WSGI, PEP 3333, como funcionan los servidores web de Python"
   ]
  },
  {
   "cell_type": "markdown",
   "metadata": {
    "slideshow": {
     "slide_type": "fragment"
    }
   },
   "source": [
    "Una de las aplicaciones más habituales de Python es para desarrollar aplicaciones que se ejecuten bajo un servidor web. Python define en su [PEP-3333](https://www.python.org/dev/peps/pep-3333/) la **arquitectura WSGI**.\n"
   ]
  },
  {
   "cell_type": "markdown",
   "metadata": {
    "slideshow": {
     "slide_type": "slide"
    }
   },
   "source": [
    "Esta arquitectura define dos partes diferenciadas que forman parte en una aplicación de Python accesible vía servidor web:\n",
    "\n",
    "- El servidor o *gateway*\n",
    "- La aplicación, desarrollada generalmente con un framework web\n",
    "\n",
    "Y por lo tanto, propone una interfaz sencilla y universal para la comunicación entre estas dos partes: el **Python Web Server Gateway Interface (WSGI)**."
   ]
  },
  {
   "cell_type": "markdown",
   "metadata": {
    "slideshow": {
     "slide_type": "slide"
    }
   },
   "source": [
    "### Ejemplos de paquetes que implementan la parte servidor\n",
    "\n",
    "- uWSGI\n",
    "- gunicorn\n",
    "\n",
    "### Ejemplos de paquetes que implementan la parte de aplicación\n",
    "\n",
    "- Django\n",
    "- Flask\n"
   ]
  },
  {
   "cell_type": "markdown",
   "metadata": {
    "slideshow": {
     "slide_type": "slide"
    }
   },
   "source": [
    "#### Aplicación WSGI\n",
    "\n",
    "Una aplicación de WSGI se implemetna como un objeto llamable, una función, un método, clase o instancia que implemente el método `__call__`.\n",
    "\n",
    "Este objeto llamable ha de aceptar tos argumentos por posición:\n",
    "\n",
    "- Un diccionario que contiene todas las variables que vienen del servidor\n",
    "- Una función de *callback* que será usada por la aplicación para enviar el estado de HTTP, el mensaje y las cabeceras\n"
   ]
  },
  {
   "cell_type": "code",
   "execution_count": null,
   "metadata": {
    "slideshow": {
     "slide_type": "slide"
    }
   },
   "outputs": [],
   "source": [
    "# Objeto llamable\n",
    "def application (environ, start_response):\n",
    "\n",
    "    # Contruimos un cuerpo de la respuesta\n",
    "    response_body = 'Request method: {}'.format(environ['REQUEST_METHOD'])\n",
    "    response_body = response_body.encode('ascii')\n",
    "    \n",
    "    # Respuesta HTTP\n",
    "    status = '200 OK'\n",
    "\n",
    "    #  Cabeceras HTTP\n",
    "    response_headers = [\n",
    "        ('Content-Type', 'text/plain'),\n",
    "        ('Content-Length', str(len(response_body)))\n",
    "    ]\n",
    "\n",
    "    # Enviamos la respuesta al servidor usando la función de callback\n",
    "    start_response(status, response_headers)\n",
    "\n",
    "    # Devuevle el cuerpo de la respuesta, en un iterable\n",
    "    return [response_body]\n"
   ]
  },
  {
   "cell_type": "markdown",
   "metadata": {
    "slideshow": {
     "slide_type": "slide"
    }
   },
   "source": [
    "Podemos usar `uWSGI` como servidor para acceder a esta aplicación WSGI.\n",
    "\n",
    "Lo podemos instalar con:\n",
    "\n",
    "```\n",
    "$ pip install uwsgi\n",
    "```\n",
    "\n",
    "O si usamos `pipenv`:\n",
    "\n",
    "\n",
    "```\n",
    "$ pipenv install uwsgi\n",
    "```\n",
    "\n",
    "y Podemos lanzar el servidor para que acceda a esa aplicación usando:\n",
    "\n",
    "```\n",
    "$ uwsgi --http :9090 --wsgi-file src/app.py\n",
    "```"
   ]
  },
  {
   "cell_type": "markdown",
   "metadata": {
    "slideshow": {
     "slide_type": "slide"
    }
   },
   "source": [
    "## 33. Zen de Python"
   ]
  },
  {
   "cell_type": "markdown",
   "metadata": {
    "slideshow": {
     "slide_type": "fragment"
    }
   },
   "source": [
    "Existen 19 principios básicos del diseño de Python, lo que llamamos el Zen de Python. Definido en el [PEP 20](https://www.python.org/dev/peps/pep-0020/)."
   ]
  },
  {
   "cell_type": "code",
   "execution_count": null,
   "metadata": {
    "slideshow": {
     "slide_type": "slide"
    }
   },
   "outputs": [],
   "source": [
    "import this"
   ]
  },
  {
   "cell_type": "markdown",
   "metadata": {
    "slideshow": {
     "slide_type": "slide"
    }
   },
   "source": [
    "\n",
    "- Hermoso es mejor que feo.\n",
    "- Explícito es mejor que implícito.\n",
    "- Simple es mejor que complejo.\n",
    "- Complejo es mejor que complicado.\n",
    "- Sencillo es mejor que anidado.\n",
    "- Escaso es mejor que denso.\n",
    "- La legibilidad cuenta.\n",
    "- Los casos especiales no son lo suficientemente especiales para romper las reglas.\n",
    "- Lo práctico le gana a la pureza.\n",
    "- Los errores no debe pasar en silencio.\n",
    "- A menos que sean silenciados.\n",
    "- En cara a la ambigüedad, rechazar la tentación de adivinar.\n",
    "- Debe haber una - y preferiblemente sólo una - manera obvia de hacerlo.\n",
    "- Aunque esa manera puede no ser obvia en un primer momento a menos que seas holandés.\n",
    "- Ahora es mejor que nunca.\n",
    "- Aunque \"nunca\" es a menudo mejor que \"ahora mismo\".\n",
    "- Si la aplicación es difícil de explicar, es una mala idea.\n",
    "- Si la aplicación es fácil de explicar, puede ser una buena idea.\n",
    "- Los espacios de nombres son una gran idea ¡hay que hacer más de eso!\n"
   ]
  }
 ],
 "metadata": {
  "celltoolbar": "Slideshow",
  "kernelspec": {
   "display_name": "Python 3",
   "language": "python",
   "name": "python3"
  },
  "language_info": {
   "codemirror_mode": {
    "name": "ipython",
    "version": 3
   },
   "file_extension": ".py",
   "mimetype": "text/x-python",
   "name": "python",
   "nbconvert_exporter": "python",
   "pygments_lexer": "ipython3",
   "version": "3.8.2"
  }
 },
 "nbformat": 4,
 "nbformat_minor": 2
}
