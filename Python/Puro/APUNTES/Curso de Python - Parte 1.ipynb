{
 "cells": [
  {
   "cell_type": "markdown",
   "metadata": {
    "slideshow": {
     "slide_type": "slide"
    }
   },
   "source": [
    "# Curso de Python - Parte 1"
   ]
  },
  {
   "cell_type": "markdown",
   "metadata": {
    "slideshow": {
     "slide_type": "slide"
    }
   },
   "source": [
    "## 1. Introducción, Python 2 vs Python 3 y por qué usar siempre Python 3."
   ]
  },
  {
   "cell_type": "markdown",
   "metadata": {
    "slideshow": {
     "slide_type": "fragment"
    }
   },
   "source": [
    "Python es un lenguaje de programación interpretado, interactivo y orientado a\n",
    "objetos. Incorpora módulos, excepciones, tipado dinámico, tipos de datos\n",
    "dinámicos de muy alto nivel y clases."
   ]
  },
  {
   "cell_type": "markdown",
   "metadata": {
    "slideshow": {
     "slide_type": "slide"
    }
   },
   "source": [
    "### Breve historia\n",
    "\n",
    "Lenguaje creado por Guido van Rossum, que empezó su implementación a finales de 1989, y la primera versión pública, Python 0.9, fue liberada en febrero de 1991. El nombre \"Python\" viene dado por la afición de Van Rossum al grupo Monty Python.\n",
    "\n",
    "Python se desarrolla bajo una licencia open source, aprobada por la OSI, haciendo que sea libre de ser usado y distribuido, incluso para uso comercial. La licencia de Python es administrada por la Python Software Foundation.\n",
    "\n",
    "En Marzo de 2018, Python se encuentra como el cuarto lenguaje en popularidad, según el [índice TIOBE](https://www.tiobe.com/tiobe-index//?6671423=1), sólo detrás de Java, C y C++."
   ]
  },
  {
   "cell_type": "markdown",
   "metadata": {
    "slideshow": {
     "slide_type": "slide"
    }
   },
   "source": [
    "### Python 2 y Python 3\n",
    "\n",
    "Actualmente existen dos ramas principales de Python, la que corresponde a la versión 2.x y a la versión 3.x. Python 3.0 fue liberada en 2008, y la ultima versión de la Python 2, la 2.7, a mediados de 2010, y no va a tener más versiones después de esta.\n",
    "\n",
    "La rama 3.x está siendo desarrollada de forma activa, llevando ya más de 5 años de versiones estables, incluyendo la 3.3 en 2012, la 3.4 en 2014, la 3.5 en 2015 y la 3.6 en 2016.\n",
    "\n",
    "Por otro lado, Python 2.7 no tendrá soporte [más allá de 2020](https://pythonclock.org/), por lo que si estamos aprendiendo ahora Python, el lugar correcto para empezar es, sin duda alguna, la última versión de Python 3.\n"
   ]
  },
  {
   "cell_type": "code",
   "execution_count": 1,
   "metadata": {
    "slideshow": {
     "slide_type": "slide"
    }
   },
   "outputs": [],
   "source": [
    "# Un easter egg\n",
    "import antigravity"
   ]
  },
  {
   "cell_type": "markdown",
   "metadata": {
    "slideshow": {
     "slide_type": "slide"
    }
   },
   "source": [
    "### El lenguaje\n",
    "\n",
    "- La frase que mejor define el lenguaje y que siempre hay que tener en cuenta es que **todo es un objeto en Python**.\n",
    "- Busca maximizar la legibilidad del código.\n",
    "- Las librerías estándar proporcionan mucha funcionalidad, se dice que es un lenguaje que **viene con las pilas incluidas**."
   ]
  },
  {
   "cell_type": "markdown",
   "metadata": {
    "slideshow": {
     "slide_type": "slide"
    }
   },
   "source": [
    "#### ¡Hola mundo!"
   ]
  },
  {
   "cell_type": "code",
   "execution_count": 2,
   "metadata": {
    "slideshow": {
     "slide_type": "fragment"
    }
   },
   "outputs": [
    {
     "name": "stdout",
     "output_type": "stream",
     "text": [
      "¡Hola mundo!\n"
     ]
    }
   ],
   "source": [
    "print(\"¡Hola mundo!\")"
   ]
  },
  {
   "cell_type": "markdown",
   "metadata": {
    "slideshow": {
     "slide_type": "slide"
    }
   },
   "source": [
    "#### Comentarios\n",
    "\n",
    "En Python hay dos tipos de comentarios:\n",
    "\n",
    "- Los de una línea, que empiezan por `#`\n",
    "- Los multilíneas, o `docstrings` que estarán entre tres comillas, simples o dobles (`\"\"\"...\"\"\"`).\n",
    "\n",
    "```python\n",
    "# Esto es un comentario\n",
    "\n",
    "def func():\n",
    "    \"\"\"Esto es un docstring\"\"\"\n",
    "    pass\n",
    "```"
   ]
  },
  {
   "cell_type": "markdown",
   "metadata": {
    "slideshow": {
     "slide_type": "slide"
    }
   },
   "source": [
    "#### Valor nulo\n",
    "\n",
    "El valor nulo se representa mediante la palabra reservada `None`.\n"
   ]
  },
  {
   "cell_type": "markdown",
   "metadata": {
    "slideshow": {
     "slide_type": "slide"
    }
   },
   "source": [
    "#### Bloques\n",
    "\n",
    "Python define los bloques de código mediante la indentación. Todo aquello que tiene el mismo nivel de indentación pertenece al mismo bloque de código.\n",
    "\n",
    "```python\n",
    "if condition:\n",
    "    # Si la condición es cierta\n",
    "    call_to_some_complicated_stuff()\n",
    "\n",
    "# Fuera del condicional\n",
    "do_always_the_same_stuff()\n",
    "```\n"
   ]
  },
  {
   "cell_type": "markdown",
   "metadata": {
    "slideshow": {
     "slide_type": "slide"
    }
   },
   "source": [
    "#### Lectura de datos del usuario\n",
    "\n",
    "Se pueden pedir datos al usuario desde la terminal usando la instrucción `input`.\n",
    "\n",
    "```python\n",
    "answer = input(\"¿Cuál es la respuesta a la vida, el universo y todo lo demás?\")\n",
    "```\n"
   ]
  },
  {
   "cell_type": "code",
   "execution_count": 3,
   "metadata": {},
   "outputs": [
    {
     "name": "stdout",
     "output_type": "stream",
     "text": [
      "hola?hola!\n"
     ]
    }
   ],
   "source": [
    "ans = input(\"hola?\")"
   ]
  },
  {
   "cell_type": "markdown",
   "metadata": {
    "slideshow": {
     "slide_type": "slide"
    }
   },
   "source": [
    "#### Excepciones\n",
    "\n",
    "Los errores en Python se gestionan mediante el uso de excepciones. Hay diferentes tipos de excepciones por defecto, y se pueden crear otras personalizadas.\n",
    "\n",
    "Para capturar una excepción, se usa un bloque `try` / `except`.\n",
    "\n",
    "```python\n",
    "try:\n",
    "    function_raises_exception()\n",
    "except Exception:\n",
    "    handle_exception()\n",
    "```\n"
   ]
  },
  {
   "cell_type": "markdown",
   "metadata": {
    "slideshow": {
     "slide_type": "slide"
    }
   },
   "source": [
    "## 2. El intérprete, cómo usar el intérprete, alternativas como IPython."
   ]
  },
  {
   "cell_type": "markdown",
   "metadata": {
    "slideshow": {
     "slide_type": "slide"
    }
   },
   "source": [
    "Python tiene un intérprete que permite usar el lenguaje de forma interactiva. Para ejecutarlo, sólo tenemos que escribir `python` en una terminal.\n",
    "\n",
    "```\n",
    "$ python\n",
    "Python 3.6.4 (default, Jan  6 2018, 11:51:59)\n",
    "[GCC 4.2.1 Compatible Apple LLVM 9.0.0 (clang-900.0.39.2)] on darwin\n",
    "Type \"help\", \"copyright\", \"credits\" or \"license\" for more information.\n",
    ">>>\n",
    "```"
   ]
  },
  {
   "cell_type": "markdown",
   "metadata": {
    "slideshow": {
     "slide_type": "slide"
    }
   },
   "source": [
    "\n",
    "### Booleanos\n",
    "\n",
    "En Python, los valores booleanos de verdadero y falso se referencian con `True` y `False` respectivamente.\n",
    "\n",
    "Operación | Resultado\n",
    "----------|----------\n",
    "`x` **and** `y` | si `x` es `False` entonces `x`, si no, `y`\n",
    "`x` **or** `y` | si `x` es `True` entonces `x`, si no, `y`\n",
    "**not** `x` | si `x` es `False` entonces `True`, si no, `False`\n"
   ]
  },
  {
   "cell_type": "markdown",
   "metadata": {
    "slideshow": {
     "slide_type": "slide"
    }
   },
   "source": [
    "### Númericos\n",
    "\n",
    "Cualquier dígito, entero (`42`) o con decimales (`2.7182`) se consideran valores numéricos.\n",
    "\n",
    "Para aprender a usar el intérprete de Python, empezaremos usándolo como una calculadora."
   ]
  },
  {
   "cell_type": "markdown",
   "metadata": {
    "slideshow": {
     "slide_type": "slide"
    }
   },
   "source": [
    "#### Operadores aritméticos\n",
    "\n",
    "Símbolo | Operación\n",
    "---|------\n",
    " + | suma\n",
    " - | resta\n",
    " / | división\n",
    " // | división entera\n",
    " * | producto\n",
    " ** | potencia\n",
    " % | módulo"
   ]
  },
  {
   "cell_type": "markdown",
   "metadata": {
    "slideshow": {
     "slide_type": "slide"
    }
   },
   "source": [
    "#### Operadores de comparación\n",
    "\n",
    "Símbolo | Operación\n",
    "---|------\n",
    " < | menor que\n",
    " > | mayor que\n",
    " <= | menor o igual que\n",
    " >= | mayor o igual que\n",
    " == | igual a\n"
   ]
  },
  {
   "cell_type": "markdown",
   "metadata": {
    "slideshow": {
     "slide_type": "slide"
    }
   },
   "source": [
    "- Los número enteros (`2`, `4`, `20`) tienen tipo `int`. Los números con parte decimal (`5.0`, `1.6`) son de tipo `float`.\n",
    "\n",
    "- La operación de `/` entre `int` da un `float`. Para que el resultado\n",
    "siga siendo `int`, usamos el operador `//`.\n",
    "\n",
    "- En el modo interactivo se puede usar `_` para hacer referencia al ultimo valor\n",
    "que se ha obtenido."
   ]
  },
  {
   "cell_type": "code",
   "execution_count": 4,
   "metadata": {
    "slideshow": {
     "slide_type": "slide"
    }
   },
   "outputs": [
    {
     "data": {
      "text/plain": [
       "21.105"
      ]
     },
     "execution_count": 4,
     "metadata": {},
     "output_type": "execute_result"
    }
   ],
   "source": [
    "tax = 21.0 / 100\n",
    "price = 100.5\n",
    "price * tax\n",
    "21.105"
   ]
  },
  {
   "cell_type": "code",
   "execution_count": 5,
   "metadata": {
    "slideshow": {
     "slide_type": "fragment"
    }
   },
   "outputs": [
    {
     "data": {
      "text/plain": [
       "121.605"
      ]
     },
     "execution_count": 5,
     "metadata": {},
     "output_type": "execute_result"
    }
   ],
   "source": [
    "price + _\n",
    "121.605"
   ]
  },
  {
   "cell_type": "markdown",
   "metadata": {
    "slideshow": {
     "slide_type": "slide"
    }
   },
   "source": [
    "### Alternativa: IPython\n",
    "\n",
    "Aunque el intérprete de Python es muy potente, podemos instalar un intérprete alternativo en nuestro sistema que ofrece muchas más funcionalidades. Para instalarlo, sólo tenemos que ejecutar el comando `pip install` con el nombre del paquete:\n",
    "\n",
    "```\n",
    "pip install ipython\n",
    "```\n",
    "\n",
    "Esto nos instalará una alternativa al intérprete y para lanzarlo, sólo tendremos que ejecutar `ipython`, obteniendo el siguiente resultado:\n",
    "\n",
    "```\n",
    "$ ipython\n",
    "Python 3.6.4 (default, Feb 26 2018, 18:30:30)\n",
    "Type 'copyright', 'credits' or 'license' for more information\n",
    "IPython 6.2.1 -- An enhanced Interactive Python. Type '?' for help.\n",
    "\n",
    "In [1]:\n",
    "```\n"
   ]
  },
  {
   "cell_type": "markdown",
   "metadata": {
    "slideshow": {
     "slide_type": "slide"
    }
   },
   "source": [
    "## 3. Variables, declaración de variables, tipado dinámico.\n"
   ]
  },
  {
   "cell_type": "markdown",
   "metadata": {
    "slideshow": {
     "slide_type": "fragment"
    }
   },
   "source": [
    "Las variables no se definen, se se les asigna un valor usando el operador `=`.\n",
    "\n",
    "Todo nombre de variable está asociada únicamente a un objeto. Nos referiremos a estas también como nombres, ya que, realmente lo que estamos haciendo es asignarle un nombre a un objeto determinado."
   ]
  },
  {
   "cell_type": "code",
   "execution_count": null,
   "metadata": {
    "slideshow": {
     "slide_type": "slide"
    }
   },
   "outputs": [],
   "source": [
    "width = 20\n",
    "height = 5 * 9\n",
    "width * height"
   ]
  },
  {
   "cell_type": "markdown",
   "metadata": {
    "slideshow": {
     "slide_type": "slide"
    }
   },
   "source": [
    "Python usa **duck typing**, que viene de la expresión de *\"si camina como un pato, y suena como un pato, debe de ser un pato\"*.\n",
    "\n",
    "Esto significa que en tiempo de ejecución se comprueba que una variable tiene ciertos atributos o métodos en vez de comprobar el tipo de la variable realmente."
   ]
  },
  {
   "cell_type": "code",
   "execution_count": 6,
   "metadata": {
    "slideshow": {
     "slide_type": "fragment"
    }
   },
   "outputs": [
    {
     "name": "stdout",
     "output_type": "stream",
     "text": [
      "<class 'int'>\n",
      "<class 'float'>\n"
     ]
    }
   ],
   "source": [
    "foo = 2  # foo contiene un dato tipo int\n",
    "print(type(foo))\n",
    "foo = 4.2  # foo contiene ahora un dato tipo float\n",
    "print(type(foo))"
   ]
  },
  {
   "cell_type": "markdown",
   "metadata": {
    "slideshow": {
     "slide_type": "slide"
    }
   },
   "source": [
    "## 4. Cadenas de texto, strings, bytes, formato, encoding, métodos de cadenas."
   ]
  },
  {
   "cell_type": "markdown",
   "metadata": {
    "slideshow": {
     "slide_type": "fragment"
    }
   },
   "source": [
    "- Se considera una cadena de texto cualquier sucesión de caracteres entre comillas dobles, `\"`, o comillas simples, `'`. \n",
    "- Se puede usar `\\` para escapar las comillas.\n",
    "- Se considera que una cadena es una secuencia, de caracteres, y por tanto  se puede acceder a un caracter usando su índice, aunque es un tipo de datos **inmutable**, por lo que no puede ser modificado de esta forma."
   ]
  },
  {
   "cell_type": "code",
   "execution_count": 7,
   "metadata": {
    "slideshow": {
     "slide_type": "fragment"
    }
   },
   "outputs": [
    {
     "name": "stdout",
     "output_type": "stream",
     "text": [
      "P\n",
      "n\n"
     ]
    }
   ],
   "source": [
    "word = 'Python'\n",
    "print(word[0])  # caracter en posición 0\n",
    "print(word[5])  # caracter en posición 5"
   ]
  },
  {
   "cell_type": "code",
   "execution_count": 8,
   "metadata": {
    "slideshow": {
     "slide_type": "fragment"
    }
   },
   "outputs": [
    {
     "ename": "TypeError",
     "evalue": "'str' object does not support item assignment",
     "output_type": "error",
     "traceback": [
      "\u001b[0;31m---------------------------------------------------------------------------\u001b[0m",
      "\u001b[0;31mTypeError\u001b[0m                                 Traceback (most recent call last)",
      "\u001b[0;32m<ipython-input-8-54675649332c>\u001b[0m in \u001b[0;36m<module>\u001b[0;34m()\u001b[0m\n\u001b[1;32m      1\u001b[0m \u001b[0;31m# no se puede modificar, da una excepción\u001b[0m\u001b[0;34m\u001b[0m\u001b[0;34m\u001b[0m\u001b[0m\n\u001b[0;32m----> 2\u001b[0;31m \u001b[0mword\u001b[0m\u001b[0;34m[\u001b[0m\u001b[0;36m4\u001b[0m\u001b[0;34m]\u001b[0m \u001b[0;34m=\u001b[0m \u001b[0;34m\"a\"\u001b[0m\u001b[0;34m\u001b[0m\u001b[0m\n\u001b[0m",
      "\u001b[0;31mTypeError\u001b[0m: 'str' object does not support item assignment"
     ]
    }
   ],
   "source": [
    "# no se puede modificar, da una excepción\n",
    "word[4] = \"a\""
   ]
  },
  {
   "cell_type": "markdown",
   "metadata": {
    "slideshow": {
     "slide_type": "fragment"
    }
   },
   "source": [
    "Por defecto, todas las cadenas de texto son de tipo `str` y se considera texto en UTF-8. "
   ]
  },
  {
   "cell_type": "markdown",
   "metadata": {
    "slideshow": {
     "slide_type": "slide"
    }
   },
   "source": [
    "### Operaciones sobre cadenas de texto"
   ]
  },
  {
   "cell_type": "markdown",
   "metadata": {
    "slideshow": {
     "slide_type": "subslide"
    }
   },
   "source": [
    "`str.capitalize()`\n",
    "\n",
    "Devuelve una copia de la cadena con la primera letra en mayúscula y el resto en minúscula.\n",
    "\n",
    "`str.count(sub[, start[, end]])`\n",
    "\n",
    "Cuenta el número de veces que `sub` se encuentra en la cadena, desde `start` a `end`.\n",
    "\n",
    "`str.endswith(suffix[, start[, end]])`\n",
    "\n",
    "Devuelve si la cadena de texto termina con `suffix`.\n",
    "\n",
    "`str.isalnum()`\n",
    "\n",
    "Comprueba si la cadena de texto es alfanumérica.\n"
   ]
  },
  {
   "cell_type": "markdown",
   "metadata": {
    "slideshow": {
     "slide_type": "subslide"
    }
   },
   "source": [
    "`str.isalpha()`\n",
    "\n",
    "Comprueba si la cadena de texto sólo tiene caracteres alfabéticos.\n",
    "\n",
    "`str.isdecimal()`\n",
    "\n",
    "Comprueba que todos los dígitos son decimales.\n",
    "\n",
    "`str.join(iterable)`\n",
    "\n",
    "Devuelve una cadena que es la concatenación de las cadenas en `iterable` usando la propia cadena como separador.\n",
    "\n",
    "`str.lower()`\n",
    "\n",
    "Devuelve una copia de la cadena con todos los caracteres en minúsculas.\n",
    "\n",
    "`str.replace(old, new)`\n",
    "\n",
    "Devuelve una copa de la cadena de texto reemplazando `new` por `old`."
   ]
  },
  {
   "cell_type": "markdown",
   "metadata": {
    "slideshow": {
     "slide_type": "subslide"
    }
   },
   "source": [
    "`str.split(sep=None, maxsplit=-1)`\n",
    "\n",
    "Devuelve una lista resultado de dividir la cadena usando `sep` como separador.\n",
    "\n",
    "`str.splitlines([keepends])`\n",
    "\n",
    "Devuelve una lista resultado de dividir la cadena usando saltos de línea como separadores.\n",
    "\n",
    "`str.startswith(prefix[, start[, end]])`\n",
    "\n",
    "Devuelve si la cadena de texto empieza con `prefix`."
   ]
  },
  {
   "cell_type": "markdown",
   "metadata": {
    "slideshow": {
     "slide_type": "subslide"
    }
   },
   "source": [
    "`str.strip([chars])`\n",
    "\n",
    "Devuelve una copia de la cadena eliminando del principio y del final los caracteres indicados en `char`. Si no se indican, se eliminan los espacios en blanco.\n",
    "\n",
    "`str.upper()`\n",
    "\n",
    "Devuelve una copia de la cadena con todos los caracteres en mayúsculas."
   ]
  },
  {
   "cell_type": "markdown",
   "metadata": {
    "slideshow": {
     "slide_type": "slide"
    }
   },
   "source": [
    "### Raw strings\n",
    "\n",
    "Los caracteres especiales, como saltos de línea, tabulaciones, etc. se introducen\n",
    "de la forma habitual, `\\n`, `\\t`. Pero, si no se quiere que se tengan en cuenta,\n",
    "se puede usar una *raw string*, añadiendo `r` delante de las comillas iniciales.\n"
   ]
  },
  {
   "cell_type": "code",
   "execution_count": 9,
   "metadata": {
    "slideshow": {
     "slide_type": "fragment"
    }
   },
   "outputs": [
    {
     "name": "stdout",
     "output_type": "stream",
     "text": [
      "C:\\some\n",
      "ame\n",
      "C:\\some\\name\n"
     ]
    }
   ],
   "source": [
    "print('C:\\some\\name')  # aquí \\n es un salto de línea\n",
    "print(r'C:\\some\\name')  # aquí no se considera un caracter especial"
   ]
  },
  {
   "cell_type": "markdown",
   "metadata": {
    "slideshow": {
     "slide_type": "slide"
    }
   },
   "source": [
    "### Strings multilíneas\n",
    "\n",
    "Podemo crear una cadena de texto que tenga más de una líena. Para ello, se declara el literal usando las triples comillas."
   ]
  },
  {
   "cell_type": "code",
   "execution_count": 10,
   "metadata": {
    "slideshow": {
     "slide_type": "fragment"
    }
   },
   "outputs": [
    {
     "name": "stdout",
     "output_type": "stream",
     "text": [
      "Usage: thingy [OPTIONS]\n",
      "     -h                        Display this usage message\n",
      "     -H hostname               Hostname to connect to\n",
      "\n"
     ]
    }
   ],
   "source": [
    "print(\"\"\"\\\n",
    "Usage: thingy [OPTIONS]\n",
    "     -h                        Display this usage message\n",
    "     -H hostname               Hostname to connect to\n",
    "\"\"\")"
   ]
  },
  {
   "cell_type": "markdown",
   "metadata": {
    "slideshow": {
     "slide_type": "slide"
    }
   },
   "source": [
    "### Format strings\n",
    "\n",
    "Para mostrar valores de variables en cadenas de texto podemos usar *format strings*. Estas se pueden definir usando `f` como prefijo del literal de cadena de texto o usando el método `format`.\n",
    "\n",
    "Las variables se sustituirán en los lugares que se indiquen entre llaves, `{}`."
   ]
  },
  {
   "cell_type": "code",
   "execution_count": 11,
   "metadata": {
    "slideshow": {
     "slide_type": "fragment"
    }
   },
   "outputs": [
    {
     "name": "stdout",
     "output_type": "stream",
     "text": [
      "Vamos a hablar sobre Antonio\n",
      "Vamos a hablar sobre Antonio\n"
     ]
    }
   ],
   "source": [
    "name = \"Antonio\"\n",
    "print(f\"Vamos a hablar sobre {name}\")\n",
    "print(\"Vamos a hablar sobre {}\".format(name))"
   ]
  },
  {
   "cell_type": "markdown",
   "metadata": {
    "slideshow": {
     "slide_type": "slide"
    }
   },
   "source": [
    "Algunos ejemplos de como se pueden asociar valores a una cadena:\n",
    "\n",
    "```python\n",
    "\"First, thou shalt count to {0}\" # Referencia al primer argumento posicional\n",
    "\"Bring me a {}\"                  # Referencia al primer argumento posicional de forma implícita\n",
    "\"From {} to {}\"                  # Lo mismo que \"From {0} to {1}\"\n",
    "\"My quest is {name}\"             # Referencia el argumento con nombre 'name'\n",
    "\"Weight in tons {0.weight}\"      # Referencia al atributo 'weight' del primer argumento posicional\n",
    "\"Units destroyed: {players[0]}\"  # Referencia al primer elemento del argumento con nombre 'players'\n",
    "```"
   ]
  },
  {
   "cell_type": "markdown",
   "metadata": {
    "slideshow": {
     "slide_type": "slide"
    }
   },
   "source": [
    "### Concatenación de Cadenas\n",
    "\n",
    "Las cadenas de texto se pueden concatenar usando el operador `+`, y se pueden repetir usando el operador `*`."
   ]
  },
  {
   "cell_type": "code",
   "execution_count": 12,
   "metadata": {
    "slideshow": {
     "slide_type": "fragment"
    }
   },
   "outputs": [
    {
     "data": {
      "text/plain": [
       "'unununium'"
      ]
     },
     "execution_count": 12,
     "metadata": {},
     "output_type": "execute_result"
    }
   ],
   "source": [
    "# 3 veces 'un', seguido de un 'ium'\n",
    "3 * 'un' + 'ium'"
   ]
  },
  {
   "cell_type": "markdown",
   "metadata": {
    "slideshow": {
     "slide_type": "fragment"
    }
   },
   "source": [
    "Los literales de strings (las cadenas indicadas con comillas, no las variables) se pueden concatenar poniendo una detrás de otra."
   ]
  },
  {
   "cell_type": "code",
   "execution_count": 13,
   "metadata": {
    "slideshow": {
     "slide_type": "fragment"
    }
   },
   "outputs": [
    {
     "data": {
      "text/plain": [
       "'Python'"
      ]
     },
     "execution_count": 13,
     "metadata": {},
     "output_type": "execute_result"
    }
   ],
   "source": [
    "'Py' 'thon'"
   ]
  },
  {
   "cell_type": "code",
   "execution_count": 15,
   "metadata": {},
   "outputs": [
    {
     "ename": "SyntaxError",
     "evalue": "invalid syntax (<ipython-input-15-dc5dce1d4e5a>, line 2)",
     "output_type": "error",
     "traceback": [
      "\u001b[0;36m  File \u001b[0;32m\"<ipython-input-15-dc5dce1d4e5a>\"\u001b[0;36m, line \u001b[0;32m2\u001b[0m\n\u001b[0;31m    hola \"mundo\"\u001b[0m\n\u001b[0m               ^\u001b[0m\n\u001b[0;31mSyntaxError\u001b[0m\u001b[0;31m:\u001b[0m invalid syntax\n"
     ]
    }
   ],
   "source": [
    "hoal = \"hola\"\n",
    "hola \"mundo\""
   ]
  },
  {
   "cell_type": "markdown",
   "metadata": {
    "slideshow": {
     "slide_type": "slide"
    }
   },
   "source": [
    "## 5. Listas y diccionarios, como funcionan, características, y además las tuplas y los sets.\n",
    "\n",
    "\n"
   ]
  },
  {
   "cell_type": "markdown",
   "metadata": {
    "slideshow": {
     "slide_type": "fragment"
    }
   },
   "source": [
    "Python incluye varios tipos de datos usados para agrupar valores."
   ]
  },
  {
   "cell_type": "markdown",
   "metadata": {
    "slideshow": {
     "slide_type": "slide"
    }
   },
   "source": [
    "### Listas\n",
    "\n",
    "Una lista es una estructura de datos mutable compuesta por varios elementos que pueden ser de  diferentes tipos. Se escribe con sus elementos separados por comas, y entre corchetes."
   ]
  },
  {
   "cell_type": "code",
   "execution_count": 16,
   "metadata": {
    "slideshow": {
     "slide_type": "fragment"
    }
   },
   "outputs": [
    {
     "data": {
      "text/plain": [
       "[1, 4, 9, 16, 25]"
      ]
     },
     "execution_count": 16,
     "metadata": {},
     "output_type": "execute_result"
    }
   ],
   "source": [
    "squares = [1, 4, 9, 16, 25]\n",
    "squares"
   ]
  },
  {
   "cell_type": "markdown",
   "metadata": {
    "slideshow": {
     "slide_type": "slide"
    }
   },
   "source": [
    "También se puede declarar usando la palabra reservada `list`."
   ]
  },
  {
   "cell_type": "code",
   "execution_count": 20,
   "metadata": {
    "slideshow": {
     "slide_type": "fragment"
    }
   },
   "outputs": [
    {
     "data": {
      "text/plain": [
       "['h', 'o', 'l', 'a']"
      ]
     },
     "execution_count": 20,
     "metadata": {},
     "output_type": "execute_result"
    }
   ],
   "source": [
    "squares = list(\"hola\")\n",
    "squares"
   ]
  },
  {
   "cell_type": "markdown",
   "metadata": {
    "slideshow": {
     "slide_type": "slide"
    }
   },
   "source": [
    "#### Operaciones sobre listas\n",
    "\n",
    "Un objeto de tipo lista soporta el acceso a cada uno de sus elementos mediante el operador `[]`, indicando la posición del elemento, teniendo en cuenta que empezamos en la posición 0. "
   ]
  },
  {
   "cell_type": "code",
   "execution_count": 23,
   "metadata": {
    "slideshow": {
     "slide_type": "fragment"
    }
   },
   "outputs": [
    {
     "ename": "IndexError",
     "evalue": "list index out of range",
     "output_type": "error",
     "traceback": [
      "\u001b[0;31m---------------------------------------------------------------------------\u001b[0m",
      "\u001b[0;31mIndexError\u001b[0m                                Traceback (most recent call last)",
      "\u001b[0;32m<ipython-input-23-c412b8c246f3>\u001b[0m in \u001b[0;36m<module>\u001b[0;34m()\u001b[0m\n\u001b[1;32m      1\u001b[0m \u001b[0msquares\u001b[0m \u001b[0;34m=\u001b[0m \u001b[0;34m[\u001b[0m\u001b[0;36m1\u001b[0m\u001b[0;34m,\u001b[0m \u001b[0;36m4\u001b[0m\u001b[0;34m,\u001b[0m \u001b[0;36m9\u001b[0m\u001b[0;34m,\u001b[0m \u001b[0;36m16\u001b[0m\u001b[0;34m,\u001b[0m \u001b[0;36m25\u001b[0m\u001b[0;34m]\u001b[0m\u001b[0;34m\u001b[0m\u001b[0m\n\u001b[0;32m----> 2\u001b[0;31m \u001b[0msquares\u001b[0m\u001b[0;34m[\u001b[0m\u001b[0;36m10\u001b[0m\u001b[0;34m]\u001b[0m\u001b[0;34m\u001b[0m\u001b[0m\n\u001b[0m",
      "\u001b[0;31mIndexError\u001b[0m: list index out of range"
     ]
    }
   ],
   "source": [
    "squares = [1, 4, 9, 16, 25]\n",
    "squares[10]"
   ]
  },
  {
   "cell_type": "markdown",
   "metadata": {
    "slideshow": {
     "slide_type": "slide"
    }
   },
   "source": [
    "A su vez, el operador `[]` permite acceder a porciones de una lista usando el operador `:`, indicando a la izquierda la posición inicial y a la derecha la posición final. A su vez, también soporta el uso de índices negativos, para hacer referencia a las posiciones desde el final de la lista."
   ]
  },
  {
   "cell_type": "code",
   "execution_count": 25,
   "metadata": {
    "slideshow": {
     "slide_type": "fragment"
    }
   },
   "outputs": [
    {
     "name": "stdout",
     "output_type": "stream",
     "text": [
      "[1]\n",
      "[1, 4, 9, 16]\n",
      "[4, 9]\n"
     ]
    }
   ],
   "source": [
    "print(squares[:1])  # el primer elemento\n",
    "print(squares[:-1])  # todos menos el último elemento\n",
    "print(squares[1:-2]) # todos menos el primero y el último elemento"
   ]
  },
  {
   "cell_type": "markdown",
   "metadata": {
    "slideshow": {
     "slide_type": "slide"
    }
   },
   "source": [
    "Podemos obtener el tamaño de una lista usando la función `len()`."
   ]
  },
  {
   "cell_type": "code",
   "execution_count": 26,
   "metadata": {
    "slideshow": {
     "slide_type": "fragment"
    }
   },
   "outputs": [
    {
     "data": {
      "text/plain": [
       "5"
      ]
     },
     "execution_count": 26,
     "metadata": {},
     "output_type": "execute_result"
    }
   ],
   "source": [
    "len(squares)"
   ]
  },
  {
   "cell_type": "markdown",
   "metadata": {
    "slideshow": {
     "slide_type": "slide"
    }
   },
   "source": [
    "Se puede comprobar si un elemento aparece en una lista usando el operador `in`."
   ]
  },
  {
   "cell_type": "code",
   "execution_count": 28,
   "metadata": {
    "slideshow": {
     "slide_type": "fragment"
    }
   },
   "outputs": [
    {
     "data": {
      "text/plain": [
       "False"
      ]
     },
     "execution_count": 28,
     "metadata": {},
     "output_type": "execute_result"
    }
   ],
   "source": [
    "16 not in squares"
   ]
  },
  {
   "cell_type": "markdown",
   "metadata": {
    "slideshow": {
     "slide_type": "slide"
    }
   },
   "source": [
    "#### Métodos de listas "
   ]
  },
  {
   "cell_type": "markdown",
   "metadata": {
    "slideshow": {
     "slide_type": "slide"
    }
   },
   "source": [
    "`list.append(x)`\n",
    "\n",
    "Añade un elemento al final de la lista. Es equivalente a `a[len(a):] = [x]`.\n",
    "\n",
    "`list.extend(iterable)`\n",
    "\n",
    "Extiende la lista añadiendo todos los elementos del argumento. Es equivalente a `a[len(a):] = iterable`.\n",
    "\n",
    "`list.insert(i, x)`\n",
    "\n",
    "Inserta un elemento en la posición indicada. El primer argumento es el índice del elemento antes del cual se va a insertar, por lo tanto `a.insert(0, x)` inserta en principio de la lista, y `a.insert(len(a), x)` es equivalente a `a.append(x)`."
   ]
  },
  {
   "cell_type": "markdown",
   "metadata": {
    "slideshow": {
     "slide_type": "slide"
    }
   },
   "source": [
    "\n",
    "`list.remove(x)`\n",
    "\n",
    "Elimina el primer elemento de lista cuyo valor sea `x`. Da un error si no existe el elemento.\n",
    "\n",
    "`list.pop([i])`\n",
    "\n",
    "Elimina el elemento en la posición dada y lo devuelve. Si no se especifica un índice, `a.pop()` elimina y devuelve el último elemento de la lista.\n",
    "\n",
    "`list.clear()`\n",
    "\n",
    "Elimina todos los elementos de la lista. Es equivalente a `del a[:]`."
   ]
  },
  {
   "cell_type": "markdown",
   "metadata": {
    "slideshow": {
     "slide_type": "slide"
    }
   },
   "source": [
    "`list.index(x[, start[, end]])`\n",
    "\n",
    "\n",
    "Devuelve el índice en la lista del primer elemento cuyo valor es `x`. Los argumentos opcionales `start` y `end` se usan para buscar solo en el segmento de la lista limitado por ellos, y en caso de usarlos, el índice devuelto es relativo a la lista entera, no al segmento.\n",
    "\n",
    "\n",
    "`list.count(x)`\n",
    "\n",
    "Devuelve el número de veces que `x` aparece en la lista"
   ]
  },
  {
   "cell_type": "markdown",
   "metadata": {
    "slideshow": {
     "slide_type": "slide"
    }
   },
   "source": [
    "`list.sort(key=None, reverse=False)`\n",
    "\n",
    "Ordena los elementos de la lista.\n",
    "\n",
    "`list.reverse()`\n",
    "\n",
    "Da la vuelta a la lista.\n",
    "\n",
    "`list.copy()`\n",
    "\n",
    "Devuelve una copia de la lista. Es equivalente a `a[:]`."
   ]
  },
  {
   "cell_type": "code",
   "execution_count": 29,
   "metadata": {
    "slideshow": {
     "slide_type": "slide"
    }
   },
   "outputs": [
    {
     "name": "stdout",
     "output_type": "stream",
     "text": [
      "2\n",
      "0\n",
      "3\n",
      "6\n",
      "['banana', 'apple', 'kiwi', 'banana', 'pear', 'apple', 'orange']\n",
      "['banana', 'apple', 'kiwi', 'banana', 'pear', 'apple', 'orange', 'grape']\n",
      "['apple', 'apple', 'banana', 'banana', 'grape', 'kiwi', 'orange', 'pear']\n",
      "pear\n"
     ]
    }
   ],
   "source": [
    "fruits = ['orange', 'apple', 'pear', 'banana', 'kiwi', 'apple', 'banana']\n",
    "print(fruits.count('apple'))\n",
    "print(fruits.count('tangerine'))\n",
    "print(fruits.index('banana'))\n",
    "print(fruits.index('banana', 4))\n",
    "\n",
    "fruits.reverse()\n",
    "print(fruits)\n",
    "\n",
    "fruits.append('grape')\n",
    "print(fruits)\n",
    "\n",
    "fruits.sort()\n",
    "print(fruits)\n",
    "\n",
    "print(fruits.pop())"
   ]
  },
  {
   "cell_type": "markdown",
   "metadata": {
    "slideshow": {
     "slide_type": "slide"
    }
   },
   "source": [
    "### Tuplas\n",
    "\n",
    "Las tuplas funcionan de la misma forma que las listas, pero son estructuras de datos **inmutables**, es decir, una vez declarada una tupla, no se puede modificar su contenido. Se declara separando los valores con comas.\n"
   ]
  },
  {
   "cell_type": "code",
   "execution_count": 30,
   "metadata": {
    "slideshow": {
     "slide_type": "slide"
    }
   },
   "outputs": [
    {
     "name": "stdout",
     "output_type": "stream",
     "text": [
      "(1, 4, 9, 16, 25)\n",
      "()\n",
      "('lonely',)\n"
     ]
    }
   ],
   "source": [
    "squares = 1, 4, 9, 16, 25\n",
    "empty = ()\n",
    "one = 'lonely',\n",
    "\n",
    "print(squares)\n",
    "print(empty)\n",
    "print(one)"
   ]
  },
  {
   "cell_type": "code",
   "execution_count": 31,
   "metadata": {
    "slideshow": {
     "slide_type": "fragment"
    }
   },
   "outputs": [
    {
     "ename": "TypeError",
     "evalue": "'tuple' object does not support item assignment",
     "output_type": "error",
     "traceback": [
      "\u001b[0;31m---------------------------------------------------------------------------\u001b[0m",
      "\u001b[0;31mTypeError\u001b[0m                                 Traceback (most recent call last)",
      "\u001b[0;32m<ipython-input-31-7fc785aa63fe>\u001b[0m in \u001b[0;36m<module>\u001b[0;34m()\u001b[0m\n\u001b[0;32m----> 1\u001b[0;31m \u001b[0msquares\u001b[0m \u001b[0;34m[\u001b[0m\u001b[0;36m0\u001b[0m\u001b[0;34m]\u001b[0m \u001b[0;34m=\u001b[0m \u001b[0;36m2\u001b[0m\u001b[0;34m\u001b[0m\u001b[0m\n\u001b[0m",
      "\u001b[0;31mTypeError\u001b[0m: 'tuple' object does not support item assignment"
     ]
    }
   ],
   "source": [
    "squares [0] = 2"
   ]
  },
  {
   "cell_type": "markdown",
   "metadata": {
    "slideshow": {
     "slide_type": "slide"
    }
   },
   "source": [
    "Una tupla también puede ser desempaquetada usando la notación para declararla al revés."
   ]
  },
  {
   "cell_type": "code",
   "execution_count": 37,
   "metadata": {
    "slideshow": {
     "slide_type": "fragment"
    }
   },
   "outputs": [
    {
     "ename": "ValueError",
     "evalue": "too many values to unpack (expected 2)",
     "output_type": "error",
     "traceback": [
      "\u001b[0;31m---------------------------------------------------------------------------\u001b[0m",
      "\u001b[0;31mValueError\u001b[0m                                Traceback (most recent call last)",
      "\u001b[0;32m<ipython-input-37-234ba49264fe>\u001b[0m in \u001b[0;36m<module>\u001b[0;34m()\u001b[0m\n\u001b[1;32m      1\u001b[0m \u001b[0mt\u001b[0m \u001b[0;34m=\u001b[0m \u001b[0;34m(\u001b[0m\u001b[0;34m\"apple\"\u001b[0m\u001b[0;34m,\u001b[0m \u001b[0;34m\"bannana\"\u001b[0m\u001b[0;34m,\u001b[0m \u001b[0;34m\"orange\"\u001b[0m\u001b[0;34m)\u001b[0m\u001b[0;34m\u001b[0m\u001b[0m\n\u001b[0;32m----> 2\u001b[0;31m \u001b[0mx\u001b[0m\u001b[0;34m,\u001b[0m \u001b[0my\u001b[0m \u001b[0;34m=\u001b[0m \u001b[0mt\u001b[0m\u001b[0;34m\u001b[0m\u001b[0m\n\u001b[0m\u001b[1;32m      3\u001b[0m \u001b[0mprint\u001b[0m\u001b[0;34m(\u001b[0m\u001b[0mx\u001b[0m\u001b[0;34m,\u001b[0m \u001b[0my\u001b[0m\u001b[0;34m)\u001b[0m\u001b[0;34m\u001b[0m\u001b[0m\n",
      "\u001b[0;31mValueError\u001b[0m: too many values to unpack (expected 2)"
     ]
    }
   ],
   "source": [
    "t = (\"apple\", \"bannana\", \"orange\")\n",
    "x, y = t\n",
    "print(x, y)"
   ]
  },
  {
   "cell_type": "markdown",
   "metadata": {
    "slideshow": {
     "slide_type": "slide"
    }
   },
   "source": [
    "### Sets\n",
    "\n",
    "Los sets funcionan como las listas, solo que ésta estructura de datos se asegura de que no hayan valores repetidos. El set es una colección de elementos **no ordenada**. Existen dos versiones de set, la mutable, `set` y la no mutable, `frozenset`. \n",
    "\n",
    "Se crea usando las llaves, `{}`."
   ]
  },
  {
   "cell_type": "code",
   "execution_count": 38,
   "metadata": {
    "slideshow": {
     "slide_type": "subslide"
    }
   },
   "outputs": [
    {
     "name": "stdout",
     "output_type": "stream",
     "text": [
      "{1, 4, 9, 16, 25}\n",
      "{1, 4, 9, 16, 25}\n",
      "{1, 4, 36, 9, 16, 25}\n"
     ]
    }
   ],
   "source": [
    "squares = {1, 4, 9, 16, 25}\n",
    "print(squares)\n",
    "\n",
    "squares.add(1)\n",
    "print(squares)\n",
    "\n",
    "squares.add(36)\n",
    "print(squares)"
   ]
  },
  {
   "cell_type": "markdown",
   "metadata": {
    "slideshow": {
     "slide_type": "slide"
    }
   },
   "source": [
    "#### Operaciones con sets\n",
    "\n",
    "\n",
    "Estas operaciones son compatibles con los `set` y los `frozenset`."
   ]
  },
  {
   "cell_type": "markdown",
   "metadata": {
    "slideshow": {
     "slide_type": "slide"
    }
   },
   "source": [
    "`isdisjoint(other)`\n",
    "\n",
    "Devuelve `True` si el set no tiene elementos en común con el otro.\n",
    "\n",
    "`issubset(other)`, `set <= other`, `set < other`\n",
    "\n",
    "Comprueba si todos los elementos del set están en el otro.\n",
    " is, set <= other and set != other.\n",
    "\n",
    "`issuperset(other)`, `set >= other`, `set > other`\n",
    "\n",
    "Comprueba si todos los elementos del otro están el set.\n",
    "\n",
    "`union(*others)` , `set | other | ...`\n",
    "\n",
    "Devuelve un nuevo set con los elementos del set y de los otros."
   ]
  },
  {
   "cell_type": "markdown",
   "metadata": {
    "slideshow": {
     "slide_type": "slide"
    }
   },
   "source": [
    "`intersection(*others)`, `set & other & ...`\n",
    "\n",
    "Devuelve un nuevo set con todos los elementos en común con el set y los otros.\n",
    "\n",
    "`difference(*others)`, `set - other - ...`\n",
    "\n",
    "Devuelve un nuevo set con los elementos del set que no están en los otros.\n",
    "\n",
    "`symmetric_difference(other)`, `set ^ other`\n",
    "\n",
    "Devuelve un nuevo set con los elementos que están en un set o en otro, pero no en los dos.\n",
    "\n",
    "`copy()`\n",
    "\n",
    "Devuelve una copia del set."
   ]
  },
  {
   "cell_type": "markdown",
   "metadata": {
    "slideshow": {
     "slide_type": "slide"
    }
   },
   "source": [
    "**Las siguientes operaciones solo son compatibles con los `set`.**\n",
    "\n",
    "`add(elem)`\n",
    "\n",
    "Añade un elemento.\n",
    "\n",
    "`remove(elem)`\n",
    "\n",
    "Borra el elemento, y da un error si no existe.\n",
    "\n",
    "`discard(elem)`\n",
    "\n",
    "Borra el elemento si existe.\n",
    "\n",
    "`pop()`\n",
    "\n",
    "Borra un elemento aleatorio del set, y da error si está vacío.\n",
    "\n",
    "`clear()`\n",
    "\n",
    "Borra los elementos de un set.\n"
   ]
  },
  {
   "cell_type": "code",
   "execution_count": 39,
   "metadata": {
    "slideshow": {
     "slide_type": "slide"
    }
   },
   "outputs": [
    {
     "name": "stdout",
     "output_type": "stream",
     "text": [
      "False\n",
      "False\n",
      "True\n",
      "False\n",
      "False\n",
      "{1, 2, 3, 34, 5, 4, 6, 8, 10, 12, 13, 14, 16, 21, 55}\n",
      "{8, 2}\n",
      "{1, 34, 3, 5, 13, 21, 55}\n"
     ]
    }
   ],
   "source": [
    "fib1 = {1 , 2 , 3 , 5 , 8 , 13 , 21 , 34 , 55}\n",
    "fib2 = {1 , 2 , 3 , 5 , 8}\n",
    "even = {2, 4, 6, 8, 10, 12, 14, 16}\n",
    "\n",
    "print(fib1.isdisjoint(even))\n",
    "\n",
    "print(fib1 < even)\n",
    "print(fib2 < fib1)\n",
    "\n",
    "print(fib1.issuperset(even))\n",
    "print(fib1 > even)\n",
    "\n",
    "print(fib1 | even)\n",
    "\n",
    "print(fib1 & even)\n",
    "\n",
    "print(fib1 - even)\n"
   ]
  },
  {
   "cell_type": "markdown",
   "metadata": {
    "slideshow": {
     "slide_type": "slide"
    }
   },
   "source": [
    "### Diccionarios\n",
    "\n",
    "Los diccionarios son una estructura de datos **mutable** que permiten almacenar datos de una forma parecida a las listas, pero en vez de usar un número, el índice, para referenciar el dato, se puede usar prácticamente cualquier cosa. Es como una base de datos para guardar y organizar información.\n",
    "\n",
    "Se pueden crear declarando una lista de elementos `key: value` separados por comas y rodeados de `{}`. También se puede usar `dict()` para crear el diccionario."
   ]
  },
  {
   "cell_type": "code",
   "execution_count": 40,
   "metadata": {
    "slideshow": {
     "slide_type": "fragment"
    }
   },
   "outputs": [
    {
     "name": "stdout",
     "output_type": "stream",
     "text": [
      "Antonio\n"
     ]
    }
   ],
   "source": [
    "person = {'name': 'Antonio', 'age': 42}\n",
    "print(person['name'])"
   ]
  },
  {
   "cell_type": "markdown",
   "metadata": {
    "slideshow": {
     "slide_type": "slide"
    }
   },
   "source": [
    "#### Operaciones sobre diccionarios"
   ]
  },
  {
   "cell_type": "markdown",
   "metadata": {
    "slideshow": {
     "slide_type": "slide"
    }
   },
   "source": [
    "`d[key]`\n",
    "\n",
    "Accede al elemento con clave `key` del diccionario `d`. Lanza un error si `key` no existe en el diccionario.\n",
    "\n",
    "`d[key] = value`\n",
    "\n",
    "Guarda `value` en la clave `key` del diccionario `d`.\n",
    "\n",
    "`del d[key]`\n",
    "\n",
    "Borra `d[key]` del diccionario.\n",
    "\n",
    "`key in d`\n",
    "\n",
    "Comprueba si `d` tiene la clave `key`.\n"
   ]
  },
  {
   "cell_type": "markdown",
   "metadata": {
    "slideshow": {
     "slide_type": "slide"
    }
   },
   "source": [
    "`key not in d`\n",
    "\n",
    "Comprueba si `d` no tiene la clave `key`.\n",
    "\n",
    "`iter(d)`\n",
    "\n",
    "Devuelve un iterador sobre las claves del diccionario.\n",
    "\n",
    "`d.clear()`\n",
    "\n",
    "Borra todos los elementos del diccionario.\n",
    "\n",
    "`d.copy()`\n",
    "\n",
    "Copia el diccionario."
   ]
  },
  {
   "cell_type": "markdown",
   "metadata": {
    "slideshow": {
     "slide_type": "slide"
    }
   },
   "source": [
    "`d.get(key[, default])`\n",
    "\n",
    "Devuelve el contenido de `d[key]` en caso de que `key` esté en el diccionario, y en caso contrario, devuelve el valor de `default`, o `None` si no se ha concretado.\n",
    "\n",
    "`d.items()`\n",
    "\n",
    "Devuelve una el diccionario como una lista de tuplas `(key, value)`.\n",
    "\n",
    "`d.keys()`\n",
    "\n",
    "Devuelve una lista con las claves del diccionario.\n",
    "\n",
    "`pop(key[, default])`\n",
    "    \n",
    "Si la clave está en el diccionario, la elimina y devuelve su valor, si no, devuelve el valor de `defaul`.\n"
   ]
  },
  {
   "cell_type": "markdown",
   "metadata": {
    "slideshow": {
     "slide_type": "slide"
    }
   },
   "source": [
    "`popitem()`\n",
    "\n",
    "Elimina y devuelve un elemento aleatorio `(key, value)` del diccionario.\n",
    "\n",
    "`setdefault(key[, default])`\n",
    "\n",
    "Si la clave está en el diccionario, devuelve el valor, si no, inserta en la clave el valor dado en `default`, o None si no se ha dado ningún valor.\n",
    "\n",
    "`update([other])`\n",
    "\n",
    "\n",
    "Actualiza el diccionario con las claves y valores del otro diccionario dado, sobreescribiendo las existentes.\n",
    "\n",
    "`values()`\n",
    "\n",
    "Devuelve una lista de los valores del diccionario.\n"
   ]
  },
  {
   "cell_type": "markdown",
   "metadata": {
    "slideshow": {
     "slide_type": "slide"
    }
   },
   "source": [
    "## 6. Estructuras de control, condicionales, bucles, excepciones."
   ]
  },
  {
   "cell_type": "markdown",
   "metadata": {
    "slideshow": {
     "slide_type": "slide"
    }
   },
   "source": [
    "### Instrucción `if`\n",
    "\n",
    "La instrucción para ejecutar bloques de forma condicional. Puede estar compuesta a su vez de cero o más partes de `elif`, que son las diferentes alternativas. En Python no hay instrucción `switch` como en otros lenguajes, y la sucesión de diferentes `elif` partes lo sustituyen."
   ]
  },
  {
   "cell_type": "code",
   "execution_count": null,
   "metadata": {
    "slideshow": {
     "slide_type": "fragment"
    }
   },
   "outputs": [],
   "source": [
    "x = int(input(\"Introduce un entero: \"))\n",
    "if x < 0:\n",
    "    x = 0\n",
    "    print('Negativo cambiado a cero')\n",
    "elif x == 0:\n",
    "    print('Cero')\n",
    "elif x == 1:\n",
    "    print('Simple')\n",
    "else:\n",
    "    print('Más')"
   ]
  },
  {
   "cell_type": "markdown",
   "metadata": {
    "slideshow": {
     "slide_type": "slide"
    }
   },
   "source": [
    "### Instrucción `for`\n",
    "\n",
    "La instrucción para realizar bucles `for` es un poco diferente de otros lenguajes de programación. En vez de iterar sobre una progresión aritmética de números, dando al usuario la posibilidad de establecer el incremento en cada iteración, el bucle `for` de Python itera sobre los elementos de cualquier secuencia (lista o cadena de texto) en el orden que estos elementos aparecen en la secuencia."
   ]
  },
  {
   "cell_type": "code",
   "execution_count": 41,
   "metadata": {
    "slideshow": {
     "slide_type": "fragment"
    }
   },
   "outputs": [
    {
     "name": "stdout",
     "output_type": "stream",
     "text": [
      "cat 3\n",
      "window 6\n",
      "defenestrate 12\n"
     ]
    }
   ],
   "source": [
    "words = ['cat', 'window', 'defenestrate']\n",
    "for w in words:\n",
    "    print(w, len(w))"
   ]
  },
  {
   "cell_type": "markdown",
   "metadata": {
    "slideshow": {
     "slide_type": "slide"
    }
   },
   "source": [
    "#### Instrucción `range`\n",
    "\n",
    "La función `range()` permite generar secuencias de números. Se puede utilizar para iterar sobre los índices de una lista de la siguiente forma."
   ]
  },
  {
   "cell_type": "code",
   "execution_count": 42,
   "metadata": {
    "slideshow": {
     "slide_type": "fragment"
    }
   },
   "outputs": [
    {
     "name": "stdout",
     "output_type": "stream",
     "text": [
      "0 Mary\n",
      "1 had\n",
      "2 a\n",
      "3 little\n",
      "4 lamb\n"
     ]
    }
   ],
   "source": [
    "a = ['Mary', 'had', 'a', 'little', 'lamb']\n",
    "for i in range(len(a)):\n",
    "    print(i, a[i])"
   ]
  },
  {
   "cell_type": "markdown",
   "metadata": {
    "slideshow": {
     "slide_type": "slide"
    }
   },
   "source": [
    "#### Instrucciones `break`, `continue` y `else` en los bucles\n",
    "\n",
    "La instrucción `break`, como en otros lenguajes, rompe la ejecución de la iteración más interna, mientras que `continue` pasa a la siguiente iteración del bucle.\n",
    "\n",
    "En un bucle se puede definir la instrucción `else`, que se ejecutará siempre que el bucle termine sin que se salga usando una instrucción `break`"
   ]
  },
  {
   "cell_type": "markdown",
   "metadata": {
    "slideshow": {
     "slide_type": "slide"
    }
   },
   "source": [
    "### Instrucción `pass`\n",
    "\n",
    "La instrucción `pass` no hace nada, y se usa para cuando necesitamos que un programa sea sintácticamente correcto pero no requiere ninguna acción.\n",
    "\n",
    "```python\n",
    "while True:\n",
    "    pass  # Espera infinita, hasta que se cancele la ejecución desde teclado (Ctrl + C)\n",
    "```"
   ]
  },
  {
   "cell_type": "code",
   "execution_count": 44,
   "metadata": {},
   "outputs": [],
   "source": [
    "x = 42\n",
    "if x < 20:\n",
    "    pass"
   ]
  },
  {
   "cell_type": "markdown",
   "metadata": {
    "slideshow": {
     "slide_type": "slide"
    }
   },
   "source": [
    "## 7. Funciones, ciudadanos de primer orden, declaración, funciones lambda."
   ]
  },
  {
   "cell_type": "markdown",
   "metadata": {
    "slideshow": {
     "slide_type": "fragment"
    }
   },
   "source": [
    "\n",
    "Como hemos comentado en la introducción, **todo en Python es un objeto**, y también lo son las funciones.\n",
    "\n",
    "Una función se define con la palabra reservada `def` seguida del nombre de la función que queremos crear, y poniendo a continuación, entre paréntesis, los argumentos de la función."
   ]
  },
  {
   "cell_type": "code",
   "execution_count": 61,
   "metadata": {
    "slideshow": {
     "slide_type": "slide"
    }
   },
   "outputs": [
    {
     "name": "stdout",
     "output_type": "stream",
     "text": [
      "None\n"
     ]
    },
    {
     "ename": "TypeError",
     "evalue": "'<' not supported between instances of 'int' and 'str'",
     "output_type": "error",
     "traceback": [
      "\u001b[0;31m---------------------------------------------------------------------------\u001b[0m",
      "\u001b[0;31mTypeError\u001b[0m                                 Traceback (most recent call last)",
      "\u001b[0;32m<ipython-input-61-71e99c4bcc5e>\u001b[0m in \u001b[0;36m<module>\u001b[0;34m()\u001b[0m\n\u001b[1;32m      8\u001b[0m     \u001b[0mprint\u001b[0m\u001b[0;34m(\u001b[0m\u001b[0;34m)\u001b[0m\u001b[0;34m\u001b[0m\u001b[0m\n\u001b[1;32m      9\u001b[0m \u001b[0;34m\u001b[0m\u001b[0m\n\u001b[0;32m---> 10\u001b[0;31m \u001b[0mfib\u001b[0m\u001b[0;34m(\u001b[0m\u001b[0mn\u001b[0m\u001b[0;34m=\u001b[0m\u001b[0;34m\"hola\"\u001b[0m\u001b[0;34m)\u001b[0m\u001b[0;34m\u001b[0m\u001b[0m\n\u001b[0m",
      "\u001b[0;32m<ipython-input-61-71e99c4bcc5e>\u001b[0m in \u001b[0;36mfib\u001b[0;34m(n, stuff)\u001b[0m\n\u001b[1;32m      3\u001b[0m     \u001b[0mprint\u001b[0m\u001b[0;34m(\u001b[0m\u001b[0mstuff\u001b[0m\u001b[0;34m)\u001b[0m\u001b[0;34m\u001b[0m\u001b[0m\n\u001b[1;32m      4\u001b[0m     \u001b[0ma\u001b[0m\u001b[0;34m,\u001b[0m \u001b[0mb\u001b[0m \u001b[0;34m=\u001b[0m \u001b[0;36m0\u001b[0m\u001b[0;34m,\u001b[0m \u001b[0;36m1\u001b[0m\u001b[0;34m\u001b[0m\u001b[0m\n\u001b[0;32m----> 5\u001b[0;31m     \u001b[0;32mwhile\u001b[0m \u001b[0ma\u001b[0m \u001b[0;34m<\u001b[0m \u001b[0mn\u001b[0m\u001b[0;34m:\u001b[0m\u001b[0;34m\u001b[0m\u001b[0m\n\u001b[0m\u001b[1;32m      6\u001b[0m         \u001b[0mprint\u001b[0m\u001b[0;34m(\u001b[0m\u001b[0ma\u001b[0m\u001b[0;34m,\u001b[0m \u001b[0mend\u001b[0m\u001b[0;34m=\u001b[0m\u001b[0;34m' '\u001b[0m\u001b[0;34m)\u001b[0m\u001b[0;34m\u001b[0m\u001b[0m\n\u001b[1;32m      7\u001b[0m         \u001b[0ma\u001b[0m\u001b[0;34m,\u001b[0m \u001b[0mb\u001b[0m \u001b[0;34m=\u001b[0m \u001b[0mb\u001b[0m\u001b[0;34m,\u001b[0m \u001b[0ma\u001b[0m\u001b[0;34m+\u001b[0m\u001b[0mb\u001b[0m\u001b[0;34m\u001b[0m\u001b[0m\n",
      "\u001b[0;31mTypeError\u001b[0m: '<' not supported between instances of 'int' and 'str'"
     ]
    }
   ],
   "source": [
    "def fib(n=2000, stuff=None):   \n",
    "    \"\"\"Muestra la secuencia de Fibonacci hasta n.\"\"\"\n",
    "    print(stuff)\n",
    "    a, b = 0, 1\n",
    "    while a < n:\n",
    "        print(a, end=' ')\n",
    "        a, b = b, a+b\n",
    "    print()\n",
    "\n",
    "fib(n=\"hola\")"
   ]
  },
  {
   "cell_type": "markdown",
   "metadata": {
    "slideshow": {
     "slide_type": "slide"
    }
   },
   "source": [
    "Las funciones son ciudadanos de primera clase, esto es que pueden ser tratadas como si fueran objetos, y ser pasadas por ejemplo, como argumentos de otras funciones. Se puede hacer referencia a la función con el nombre de esta, sin usar paréntesis."
   ]
  },
  {
   "cell_type": "code",
   "execution_count": 47,
   "metadata": {
    "slideshow": {
     "slide_type": "fragment"
    }
   },
   "outputs": [
    {
     "data": {
      "text/plain": [
       "<function __main__.fib>"
      ]
     },
     "execution_count": 47,
     "metadata": {},
     "output_type": "execute_result"
    }
   ],
   "source": [
    "fib"
   ]
  },
  {
   "cell_type": "code",
   "execution_count": 48,
   "metadata": {
    "slideshow": {
     "slide_type": "fragment"
    }
   },
   "outputs": [
    {
     "name": "stdout",
     "output_type": "stream",
     "text": [
      "0 1 1 2 3 5 8 13 21 34 55 89 \n"
     ]
    }
   ],
   "source": [
    "f = fib\n",
    "f(100)"
   ]
  },
  {
   "cell_type": "markdown",
   "metadata": {
    "slideshow": {
     "slide_type": "slide"
    }
   },
   "source": [
    "### Valor de retorno\n",
    "\n",
    "Se usa la palabra reservada `return` para definir el valor que una función devuelve. Aunque una función no incluya una instrucción `return`, esta siempre devuelve `None`."
   ]
  },
  {
   "cell_type": "markdown",
   "metadata": {
    "slideshow": {
     "slide_type": "slide"
    }
   },
   "source": [
    "### Argumentos\n",
    "\n",
    "Una función puede recibir cualquier número de argumentos, pudiendo definir valores por defecto.\n",
    "\n",
    "Se pueden pasar argumentos a las funciones de dos formas:\n",
    "\n",
    "- Posicionalmente, donde cada valor pasado como argumento se asociará al argumento que esté en la misma posición en la declaración.\n",
    "- Por nombre, donde indicamos a que argumento se asocia cada valor, usando el operador de asignación `=`."
   ]
  },
  {
   "cell_type": "markdown",
   "metadata": {
    "slideshow": {
     "slide_type": "slide"
    }
   },
   "source": [
    "### Argumentos genéricos\n",
    "\n",
    "Podemos declarar una función que reciba un número de argumentos arbitrario. Para ello solo tenemos que poner como argumentos `*args` y `**kwargs`. En este caso, `args` contendrá en una tupla los argumentos pasados posicionalmente, mientras que `kwargs` contendrá en un diccionario todos los argumentos que se le han pasado por nombre.\n",
    "\n",
    "Se pueden crear funciones que tengan un número de argumentos dinámicos. Para ello simplemente declaramos los argumentos de la sigueinte forma:\n"
   ]
  },
  {
   "cell_type": "code",
   "execution_count": 62,
   "metadata": {
    "slideshow": {
     "slide_type": "subslide"
    }
   },
   "outputs": [
    {
     "name": "stdout",
     "output_type": "stream",
     "text": [
      "Argumentos posicionales: (42,)\n",
      "Argumentos por nombre: {'test': 'foo'}\n"
     ]
    }
   ],
   "source": [
    "def generic_arguments(*args, **kwargs):\n",
    "    print(\"Argumentos posicionales:\", args)\n",
    "    print(\"Argumentos por nombre:\", kwargs)\n",
    "\n",
    "generic_arguments(42, test=\"foo\")"
   ]
  },
  {
   "cell_type": "markdown",
   "metadata": {
    "slideshow": {
     "slide_type": "slide"
    }
   },
   "source": [
    "### Funciones lambda\n",
    "\n",
    "Además de las funciones normales, Python nos permite declarar funciones anónimas, o funciones lambda, Para hacerlo, basta con untilizar la palabra reservada `lambda`."
   ]
  },
  {
   "cell_type": "code",
   "execution_count": 64,
   "metadata": {},
   "outputs": [
    {
     "data": {
      "text/plain": [
       "16"
      ]
     },
     "execution_count": 64,
     "metadata": {},
     "output_type": "execute_result"
    }
   ],
   "source": [
    "func = lambda x: x**2\n",
    "func(4)\n",
    "\n",
    "def func(x):\n",
    "    return x**2\n",
    "func(4)"
   ]
  },
  {
   "cell_type": "code",
   "execution_count": 65,
   "metadata": {
    "slideshow": {
     "slide_type": "fragment"
    }
   },
   "outputs": [
    {
     "name": "stdout",
     "output_type": "stream",
     "text": [
      "[('water', 1), ('food', 2), ('air', 3)]\n"
     ]
    }
   ],
   "source": [
    "l = [(\"food\", 2), (\"water\", 1), (\"air\", 3)]\n",
    "l.sort(key=lambda x: x[1])\n",
    "print(l)"
   ]
  },
  {
   "cell_type": "markdown",
   "metadata": {
    "slideshow": {
     "slide_type": "slide"
    }
   },
   "source": [
    "## Ejercicios"
   ]
  },
  {
   "cell_type": "markdown",
   "metadata": {
    "slideshow": {
     "slide_type": "slide"
    }
   },
   "source": [
    "### Validar nombre de usuarios\n",
    "\n",
    "El objetivo de este ejercicio es crear una función que valide un nombre de usuario para que cumpla las siguientes condiciones:\n",
    "\n",
    "- El nombre de usuario debe contener un mínimo de 6 caracteres y un máximo de 12.\n",
    "- El nombre de usuario debe ser alfanumérico.\n",
    "\n"
   ]
  },
  {
   "cell_type": "code",
   "execution_count": null,
   "metadata": {
    "slideshow": {
     "slide_type": "slide"
    }
   },
   "outputs": [],
   "source": []
  },
  {
   "cell_type": "markdown",
   "metadata": {
    "slideshow": {
     "slide_type": "slide"
    }
   },
   "source": [
    "### Listas superpuestas\n",
    "\n",
    "Escribe una función que tome como parámetros dos listas y devuelva `True` si tienen al menos un miembro en común, y `False` en caso contrario."
   ]
  },
  {
   "cell_type": "code",
   "execution_count": null,
   "metadata": {
    "slideshow": {
     "slide_type": "slide"
    }
   },
   "outputs": [],
   "source": []
  },
  {
   "cell_type": "markdown",
   "metadata": {
    "slideshow": {
     "slide_type": "slide"
    }
   },
   "source": [
    "### Distancia de Hamming\n",
    "\n",
    "El objetivo de este ejercicio es escribir una función que calcule la distancia de Hamming entre dos cadenas de la misma longitud. La distancia de Hamming es el número de carácteres diferentes entre dos cadenas."
   ]
  },
  {
   "cell_type": "code",
   "execution_count": null,
   "metadata": {
    "slideshow": {
     "slide_type": "slide"
    }
   },
   "outputs": [],
   "source": []
  },
  {
   "cell_type": "markdown",
   "metadata": {
    "slideshow": {
     "slide_type": "slide"
    }
   },
   "source": [
    "### Eliminar duplicados\n",
    "\n",
    "Crea una función que dada una lista cualquiera, devuelva una copia de esta lista eliminando los elementos duplicados."
   ]
  },
  {
   "cell_type": "code",
   "execution_count": null,
   "metadata": {
    "slideshow": {
     "slide_type": "slide"
    }
   },
   "outputs": [],
   "source": []
  },
  {
   "cell_type": "markdown",
   "metadata": {
    "slideshow": {
     "slide_type": "slide"
    }
   },
   "source": [
    "### Problema chino\n",
    "\n",
    "Crea una función que resuelva el siguiente problema:\n",
    "\n",
    "Contamos 35 cabezas y 94 patas entre gallinas y conejos en una granja, ¿cuántos conejos y cuantas gallinas tenemos?\n"
   ]
  },
  {
   "cell_type": "code",
   "execution_count": null,
   "metadata": {
    "slideshow": {
     "slide_type": "slide"
    }
   },
   "outputs": [],
   "source": []
  },
  {
   "cell_type": "markdown",
   "metadata": {
    "slideshow": {
     "slide_type": "slide"
    }
   },
   "source": [
    "### Lanzador de dados\n",
    "\n",
    "Antes de hacer este ejercicio, vamos a introducir el módulo de números aleatorios de Python. Pronto veremos más detalles sobre como funcionan los módulos, pero para empezar, así es como se genera un número entero aleatorio en Python."
   ]
  },
  {
   "cell_type": "code",
   "execution_count": null,
   "metadata": {
    "slideshow": {
     "slide_type": "fragment"
    }
   },
   "outputs": [],
   "source": [
    "import random\n",
    "\n",
    "random.randint(1, 6)  # Número aleatorio entre 1 y 6"
   ]
  },
  {
   "cell_type": "markdown",
   "metadata": {
    "slideshow": {
     "slide_type": "subslide"
    }
   },
   "source": [
    "Existen diferentes tipos de dados, según el número de caras de estos. De 4, de 6, de 8, de 10, de 12 y de 20 caras. En juegos que utilizan estos dados, se usa una notación concreta para decir cuandos datos hay que lanzar y de que tipo:\n",
    "\n",
    "- \"1d6\" para indicar un dado de 6 caras\n",
    "- \"3d4\" para lanzar 3 dados de 4 caras\n",
    "- y en general \"ndm\" para indicar que se lanzan n dados de m caras\n",
    "\n",
    "El objetivo de este ejercicio es crear una función que reciba como argumento una cadena de texto, y que devuelva una lista con cada uno de los resultados que se hayan obtenido en los lanzamientos de dados."
   ]
  },
  {
   "cell_type": "code",
   "execution_count": null,
   "metadata": {
    "slideshow": {
     "slide_type": "slide"
    }
   },
   "outputs": [],
   "source": []
  },
  {
   "cell_type": "markdown",
   "metadata": {
    "slideshow": {
     "slide_type": "slide"
    }
   },
   "source": [
    "### Traductor de *leet speak*\n",
    "\n",
    "Leet speak o leet (1337 5p34k o 1337 en la escritura leet) es un tipo de escritura compuesta de caracteres alfanuméricos, es usada por algunas comunidades y usuarios de diferentes medios de internet. Esta escritura es caracterizada por escribir caracteres alfanuméricos de una forma incomprensible para otros usuarios ajenos, inexpertos o neófitos a los diferentes grupos que utilizan esta escritura.\n",
    "\n",
    "El objetivo de este ejercicio es implementar una función que reciba una cadena de texto y la traduzca a *leet speak* a normal, y otra que de normal pase *leet speak*, usando la siguiente tabla de conversión:\n",
    "\n",
    "\n",
    "    A -> 4\n",
    "    B -> 6\n",
    "    E -> 3\n",
    "    I -> |\n",
    "    L -> 1\n",
    "    M -> (V)\n",
    "    N -> (\\)\n",
    "    O -> 0\n",
    "    S -> 5\n",
    "    T -> 7\n",
    "    V -> \\/\n",
    "    W -> `//"
   ]
  },
  {
   "cell_type": "code",
   "execution_count": null,
   "metadata": {
    "slideshow": {
     "slide_type": "slide"
    }
   },
   "outputs": [],
   "source": []
  },
  {
   "cell_type": "markdown",
   "metadata": {
    "slideshow": {
     "slide_type": "slide"
    }
   },
   "source": [
    "### Bandeja de entrada\n",
    "\n",
    "En este ejercicio vamos a crear una bandeja de entrada de mensajes enviados a usuarios, así como tres funciones, una para enviar mensajes, otra obtener los pendientes de leer y otra para leer un mensaje.\n",
    "\n",
    "- Cada mensaje tendrá tres campos, origen (nombre del usuarios que lo envió), contenido, y si se ha leído o no\n",
    "- Los usuarios se crean de forma dinámica al enviar un mensaje\n",
    "- La función para enviar mensajes recibe el nombre del usuario que lo envía y el contenido\n",
    "- La función para leer un mensaje muestra el contenido, quien lo envía lo marca como leído.\n",
    "- La función para obtener el listado de los mensajes pendientes por leer para un usuario dado, sólo muestra los que no están leídos, un resumen del contenido del mensaje, y un identificador de este."
   ]
  },
  {
   "cell_type": "code",
   "execution_count": null,
   "metadata": {
    "slideshow": {
     "slide_type": "slide"
    }
   },
   "outputs": [],
   "source": [
    "        "
   ]
  }
 ],
 "metadata": {
  "celltoolbar": "Slideshow",
  "kernelspec": {
   "display_name": "Python 3",
   "language": "python",
   "name": "python3"
  },
  "language_info": {
   "codemirror_mode": {
    "name": "ipython",
    "version": 3
   },
   "file_extension": ".py",
   "mimetype": "text/x-python",
   "name": "python",
   "nbconvert_exporter": "python",
   "pygments_lexer": "ipython3",
   "version": "3.8.2"
  }
 },
 "nbformat": 4,
 "nbformat_minor": 2
}
